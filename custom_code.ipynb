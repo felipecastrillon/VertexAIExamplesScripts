{
 "cells": [
  {
   "cell_type": "code",
   "execution_count": 31,
   "id": "dce6a8ef-1066-445d-81c2-6d2dc1bd005d",
   "metadata": {},
   "outputs": [],
   "source": [
    "import pandas as pd\n",
    "import joblib\n",
    "import pickle\n"
   ]
  },
  {
   "cell_type": "code",
   "execution_count": 1,
   "id": "1281cc34-0edb-4283-9729-f2366ab402a0",
   "metadata": {
    "collapsed": true,
    "jupyter": {
     "outputs_hidden": true
    },
    "tags": []
   },
   "outputs": [
    {
     "name": "stderr",
     "output_type": "stream",
     "text": [
      "Query complete after 0.01s: 100%|██████████| 2/2 [00:00<00:00, 1077.26query/s]                        \n",
      "Downloading: 100%|██████████| 6362620/6362620 [00:07<00:00, 799797.31rows/s] \n"
     ]
    }
   ],
   "source": [
    "%%bigquery df\n",
    "select * from `felipe-sandbox.demos.financial_fraud`"
   ]
  },
  {
   "cell_type": "code",
   "execution_count": 2,
   "id": "fd422a93-7e9e-40ba-b443-8b31ef416324",
   "metadata": {},
   "outputs": [
    {
     "data": {
      "text/html": [
       "<div>\n",
       "<style scoped>\n",
       "    .dataframe tbody tr th:only-of-type {\n",
       "        vertical-align: middle;\n",
       "    }\n",
       "\n",
       "    .dataframe tbody tr th {\n",
       "        vertical-align: top;\n",
       "    }\n",
       "\n",
       "    .dataframe thead th {\n",
       "        text-align: right;\n",
       "    }\n",
       "</style>\n",
       "<table border=\"1\" class=\"dataframe\">\n",
       "  <thead>\n",
       "    <tr style=\"text-align: right;\">\n",
       "      <th></th>\n",
       "      <th>step</th>\n",
       "      <th>type</th>\n",
       "      <th>amount</th>\n",
       "      <th>nameOrig</th>\n",
       "      <th>oldbalanceOrg</th>\n",
       "      <th>newbalanceOrig</th>\n",
       "      <th>nameDest</th>\n",
       "      <th>oldbalanceDest</th>\n",
       "      <th>newbalanceDest</th>\n",
       "      <th>isFraud</th>\n",
       "      <th>isFlaggedFraud</th>\n",
       "    </tr>\n",
       "  </thead>\n",
       "  <tbody>\n",
       "    <tr>\n",
       "      <th>0</th>\n",
       "      <td>241</td>\n",
       "      <td>DEBIT</td>\n",
       "      <td>4.28</td>\n",
       "      <td>C1559447787</td>\n",
       "      <td>11799.0</td>\n",
       "      <td>11794.72</td>\n",
       "      <td>C459241388</td>\n",
       "      <td>974769.79</td>\n",
       "      <td>974774.07</td>\n",
       "      <td>0</td>\n",
       "      <td>0</td>\n",
       "    </tr>\n",
       "    <tr>\n",
       "      <th>1</th>\n",
       "      <td>254</td>\n",
       "      <td>DEBIT</td>\n",
       "      <td>3897.94</td>\n",
       "      <td>C432144892</td>\n",
       "      <td>15119.0</td>\n",
       "      <td>11221.06</td>\n",
       "      <td>C333806893</td>\n",
       "      <td>885113.68</td>\n",
       "      <td>889011.62</td>\n",
       "      <td>0</td>\n",
       "      <td>0</td>\n",
       "    </tr>\n",
       "    <tr>\n",
       "      <th>2</th>\n",
       "      <td>254</td>\n",
       "      <td>DEBIT</td>\n",
       "      <td>424.74</td>\n",
       "      <td>C1098271234</td>\n",
       "      <td>28824.0</td>\n",
       "      <td>28399.26</td>\n",
       "      <td>C1213279510</td>\n",
       "      <td>214316.63</td>\n",
       "      <td>214741.37</td>\n",
       "      <td>0</td>\n",
       "      <td>0</td>\n",
       "    </tr>\n",
       "    <tr>\n",
       "      <th>3</th>\n",
       "      <td>255</td>\n",
       "      <td>DEBIT</td>\n",
       "      <td>3888.71</td>\n",
       "      <td>C1619994413</td>\n",
       "      <td>44212.0</td>\n",
       "      <td>40323.29</td>\n",
       "      <td>C2001746908</td>\n",
       "      <td>137483.79</td>\n",
       "      <td>141372.49</td>\n",
       "      <td>0</td>\n",
       "      <td>0</td>\n",
       "    </tr>\n",
       "    <tr>\n",
       "      <th>4</th>\n",
       "      <td>255</td>\n",
       "      <td>DEBIT</td>\n",
       "      <td>4558.93</td>\n",
       "      <td>C1855969717</td>\n",
       "      <td>0.0</td>\n",
       "      <td>0.00</td>\n",
       "      <td>C1915784536</td>\n",
       "      <td>3147902.59</td>\n",
       "      <td>3152461.51</td>\n",
       "      <td>0</td>\n",
       "      <td>0</td>\n",
       "    </tr>\n",
       "  </tbody>\n",
       "</table>\n",
       "</div>"
      ],
      "text/plain": [
       "   step   type   amount     nameOrig  oldbalanceOrg  newbalanceOrig  \\\n",
       "0   241  DEBIT     4.28  C1559447787        11799.0        11794.72   \n",
       "1   254  DEBIT  3897.94   C432144892        15119.0        11221.06   \n",
       "2   254  DEBIT   424.74  C1098271234        28824.0        28399.26   \n",
       "3   255  DEBIT  3888.71  C1619994413        44212.0        40323.29   \n",
       "4   255  DEBIT  4558.93  C1855969717            0.0            0.00   \n",
       "\n",
       "      nameDest  oldbalanceDest  newbalanceDest  isFraud  isFlaggedFraud  \n",
       "0   C459241388       974769.79       974774.07        0               0  \n",
       "1   C333806893       885113.68       889011.62        0               0  \n",
       "2  C1213279510       214316.63       214741.37        0               0  \n",
       "3  C2001746908       137483.79       141372.49        0               0  \n",
       "4  C1915784536      3147902.59      3152461.51        0               0  "
      ]
     },
     "execution_count": 2,
     "metadata": {},
     "output_type": "execute_result"
    }
   ],
   "source": [
    "df.head()"
   ]
  },
  {
   "cell_type": "code",
   "execution_count": 13,
   "id": "bc974df5-f61d-4a6a-9a0b-98399c629568",
   "metadata": {},
   "outputs": [
    {
     "name": "stderr",
     "output_type": "stream",
     "text": [
      "/opt/conda/lib/python3.7/site-packages/ipykernel_launcher.py:3: SettingWithCopyWarning: \n",
      "A value is trying to be set on a copy of a slice from a DataFrame.\n",
      "Try using .loc[row_indexer,col_indexer] = value instead\n",
      "\n",
      "See the caveats in the documentation: https://pandas.pydata.org/pandas-docs/stable/user_guide/indexing.html#returning-a-view-versus-a-copy\n",
      "  This is separate from the ipykernel package so we can avoid doing imports until\n",
      "/opt/conda/lib/python3.7/site-packages/ipykernel_launcher.py:4: SettingWithCopyWarning: \n",
      "A value is trying to be set on a copy of a slice from a DataFrame.\n",
      "Try using .loc[row_indexer,col_indexer] = value instead\n",
      "\n",
      "See the caveats in the documentation: https://pandas.pydata.org/pandas-docs/stable/user_guide/indexing.html#returning-a-view-versus-a-copy\n",
      "  after removing the cwd from sys.path.\n"
     ]
    },
    {
     "data": {
      "text/html": [
       "<div>\n",
       "<style scoped>\n",
       "    .dataframe tbody tr th:only-of-type {\n",
       "        vertical-align: middle;\n",
       "    }\n",
       "\n",
       "    .dataframe tbody tr th {\n",
       "        vertical-align: top;\n",
       "    }\n",
       "\n",
       "    .dataframe thead th {\n",
       "        text-align: right;\n",
       "    }\n",
       "</style>\n",
       "<table border=\"1\" class=\"dataframe\">\n",
       "  <thead>\n",
       "    <tr style=\"text-align: right;\">\n",
       "      <th></th>\n",
       "      <th>type</th>\n",
       "      <th>amount</th>\n",
       "      <th>oldbalanceOrg</th>\n",
       "      <th>newbalanceOrig</th>\n",
       "      <th>oldbalanceDest</th>\n",
       "      <th>newbalanceDest</th>\n",
       "    </tr>\n",
       "  </thead>\n",
       "  <tbody>\n",
       "    <tr>\n",
       "      <th>0</th>\n",
       "      <td>2</td>\n",
       "      <td>4.28</td>\n",
       "      <td>11799.0</td>\n",
       "      <td>11794.72</td>\n",
       "      <td>974769.79</td>\n",
       "      <td>974774.07</td>\n",
       "    </tr>\n",
       "    <tr>\n",
       "      <th>1</th>\n",
       "      <td>2</td>\n",
       "      <td>3897.94</td>\n",
       "      <td>15119.0</td>\n",
       "      <td>11221.06</td>\n",
       "      <td>885113.68</td>\n",
       "      <td>889011.62</td>\n",
       "    </tr>\n",
       "    <tr>\n",
       "      <th>2</th>\n",
       "      <td>2</td>\n",
       "      <td>424.74</td>\n",
       "      <td>28824.0</td>\n",
       "      <td>28399.26</td>\n",
       "      <td>214316.63</td>\n",
       "      <td>214741.37</td>\n",
       "    </tr>\n",
       "    <tr>\n",
       "      <th>3</th>\n",
       "      <td>2</td>\n",
       "      <td>3888.71</td>\n",
       "      <td>44212.0</td>\n",
       "      <td>40323.29</td>\n",
       "      <td>137483.79</td>\n",
       "      <td>141372.49</td>\n",
       "    </tr>\n",
       "    <tr>\n",
       "      <th>4</th>\n",
       "      <td>2</td>\n",
       "      <td>4558.93</td>\n",
       "      <td>0.0</td>\n",
       "      <td>0.00</td>\n",
       "      <td>3147902.59</td>\n",
       "      <td>3152461.51</td>\n",
       "    </tr>\n",
       "  </tbody>\n",
       "</table>\n",
       "</div>"
      ],
      "text/plain": [
       "   type   amount  oldbalanceOrg  newbalanceOrig  oldbalanceDest  \\\n",
       "0     2     4.28        11799.0        11794.72       974769.79   \n",
       "1     2  3897.94        15119.0        11221.06       885113.68   \n",
       "2     2   424.74        28824.0        28399.26       214316.63   \n",
       "3     2  3888.71        44212.0        40323.29       137483.79   \n",
       "4     2  4558.93            0.0            0.00      3147902.59   \n",
       "\n",
       "   newbalanceDest  \n",
       "0       974774.07  \n",
       "1       889011.62  \n",
       "2       214741.37  \n",
       "3       141372.49  \n",
       "4      3152461.51  "
      ]
     },
     "execution_count": 13,
     "metadata": {},
     "output_type": "execute_result"
    }
   ],
   "source": [
    "from sklearn import tree\n",
    "X = df[[\"type\",\"amount\",\"oldbalanceOrg\",\"newbalanceOrig\", \"oldbalanceDest\",\"newbalanceDest\"]]\n",
    "X[\"type\"] = pd.Categorical(X[\"type\"])\n",
    "X[\"type\"] = X[\"type\"].cat.codes\n",
    "y = df[\"isFraud\"]\n",
    "X.head()"
   ]
  },
  {
   "cell_type": "code",
   "execution_count": 14,
   "id": "2b7d8cbf-fab7-473a-afa2-f0a19023bf04",
   "metadata": {},
   "outputs": [],
   "source": [
    "clf = tree.DecisionTreeClassifier()\n",
    "clf = clf.fit(X, y)"
   ]
  },
  {
   "cell_type": "code",
   "execution_count": 35,
   "id": "bb8cfdb7-f74c-4e21-88a1-0ba8f59d5c33",
   "metadata": {},
   "outputs": [
    {
     "ename": "SyntaxError",
     "evalue": "invalid syntax (1696891005.py, line 2)",
     "output_type": "error",
     "traceback": [
      "\u001b[0;36m  File \u001b[0;32m\"/tmp/ipykernel_24728/1696891005.py\"\u001b[0;36m, line \u001b[0;32m2\u001b[0m\n\u001b[0;31m    pickle.dumps(clf \"model.pkl\")\u001b[0m\n\u001b[0m                               ^\u001b[0m\n\u001b[0;31mSyntaxError\u001b[0m\u001b[0;31m:\u001b[0m invalid syntax\n"
     ]
    }
   ],
   "source": [
    "joblib.dump(clf, \"model.joblib\")\n",
    "pickle.dumps(clf \"model.pkl\")"
   ]
  },
  {
   "cell_type": "code",
   "execution_count": 38,
   "id": "2e1f7099-a001-494f-8773-379289eb49de",
   "metadata": {},
   "outputs": [
    {
     "name": "stdout",
     "output_type": "stream",
     "text": [
      "Copying file://model.joblib [Content-Type=application/octet-stream]...\n",
      "/ [1 files][183.3 KiB/183.3 KiB]                                                \n",
      "Operation completed over 1 objects/183.3 KiB.                                    \n"
     ]
    }
   ],
   "source": [
    "!gsutil cp model.joblib gs://felipe-sandbox-demo/python_custom_code/"
   ]
  },
  {
   "cell_type": "code",
   "execution_count": 39,
   "id": "bb8e16f3-6420-4b95-b4a4-359bba28326d",
   "metadata": {},
   "outputs": [
    {
     "name": "stdout",
     "output_type": "stream",
     "text": [
      "Using endpoint [https://us-central1-aiplatform.googleapis.com/]\n",
      "Waiting for operation [5863021579021058048]...done.                            \n",
      "\n",
      "\n",
      "To take a quick anonymous survey, run:\n",
      "  $ gcloud survey\n",
      "\n"
     ]
    }
   ],
   "source": [
    "! gcloud ai models upload \\\n",
    "  --region=us-central1 \\\n",
    "  --display-name=financial_fraud_custom_model \\\n",
    "  --container-image-uri=us-docker.pkg.dev/vertex-ai/prediction/sklearn-cpu.0-24:latest \\\n",
    "  --artifact-uri=gs://felipe-sandbox-demo/python_custom_code"
   ]
  },
  {
   "cell_type": "code",
   "execution_count": null,
   "id": "338a34de-31c8-4202-baa2-8639ca4f4241",
   "metadata": {},
   "outputs": [],
   "source": []
  }
 ],
 "metadata": {
  "environment": {
   "kernel": "python3",
   "name": "common-cpu.m84",
   "type": "gcloud",
   "uri": "gcr.io/deeplearning-platform-release/base-cpu:m84"
  },
  "kernelspec": {
   "display_name": "Python 3",
   "language": "python",
   "name": "python3"
  },
  "language_info": {
   "codemirror_mode": {
    "name": "ipython",
    "version": 3
   },
   "file_extension": ".py",
   "mimetype": "text/x-python",
   "name": "python",
   "nbconvert_exporter": "python",
   "pygments_lexer": "ipython3",
   "version": "3.7.12"
  }
 },
 "nbformat": 4,
 "nbformat_minor": 5
}
