{
 "cells": [
  {
   "cell_type": "markdown",
   "id": "94d8dda5-2755-43cb-bcd7-53a41efd1fb2",
   "metadata": {},
   "source": [
    "## Product Classification with LLM + RAG + Few Shot Prompting"
   ]
  },
  {
   "cell_type": "markdown",
   "id": "686fac21-06a9-4fab-99c0-591cc5015c51",
   "metadata": {},
   "source": [
    "## Overview"
   ]
  },
  {
   "cell_type": "markdown",
   "id": "c5b1f872-a70a-4be7-990b-ddf08f4de63b",
   "metadata": {},
   "source": [
    "Leverage ML algorithms from notebooks \"categorization_embedding_approaches.ipynb\" and \"categorization_kesler_onevsrest.ipynb\" to add LLM capabilities. The goal is to add a RAG implementation from the categories generated from traditional ML and perform a one-shot prompt to obtain better results."
   ]
  },
  {
   "cell_type": "markdown",
   "id": "3b4fcb4a-fbbe-47ad-94ea-a9ba8b81f3af",
   "metadata": {},
   "source": [
    "## Data Preparation"
   ]
  },
  {
   "cell_type": "code",
   "execution_count": 6,
   "id": "d8c909f8-1340-4e81-8bea-8050180c8733",
   "metadata": {
    "tags": []
   },
   "outputs": [
    {
     "data": {
      "application/vnd.jupyter.widget-view+json": {
       "model_id": "556c6e5a30f84f0586a8578f227c5f53",
       "version_major": 2,
       "version_minor": 0
      },
      "text/plain": [
       "Query is running:   0%|          |"
      ]
     },
     "metadata": {},
     "output_type": "display_data"
    },
    {
     "data": {
      "application/vnd.jupyter.widget-view+json": {
       "model_id": "6d5901b6f7d04f8fbb6573df6589043d",
       "version_major": 2,
       "version_minor": 0
      },
      "text/plain": [
       "Downloading:   0%|          |"
      ]
     },
     "metadata": {},
     "output_type": "display_data"
    }
   ],
   "source": [
    "%%bigquery category_df\n",
    "select c0_name, c1_name, c2_name from `solutions-2023-mar-107.mercari.13K_synthetic_attributes_embeddings`\n",
    "group by c0_name, c1_name, c2_name"
   ]
  },
  {
   "cell_type": "code",
   "execution_count": 43,
   "id": "056953d3-b3d5-4440-9dc6-36fdec3962f3",
   "metadata": {},
   "outputs": [
    {
     "data": {
      "application/vnd.jupyter.widget-view+json": {
       "model_id": "9f7d368cfef148859810361efc90ef05",
       "version_major": 2,
       "version_minor": 0
      },
      "text/plain": [
       "Query is running:   0%|          |"
      ]
     },
     "metadata": {},
     "output_type": "display_data"
    },
    {
     "data": {
      "application/vnd.jupyter.widget-view+json": {
       "model_id": "01b223f4ddee41dca6b612b11bc21394",
       "version_major": 2,
       "version_minor": 0
      },
      "text/plain": [
       "Downloading:   0%|          |"
      ]
     },
     "metadata": {},
     "output_type": "display_data"
    }
   ],
   "source": [
    "%%bigquery df\n",
    "SELECT *, CONCAT('Name: \\n ', name, ' \\n ', \n",
    "                 \"Description: \\n \", description, ' \\n ',\n",
    "                 \"Labels: \\n \", TO_JSON_STRING(vision_api_labels)\n",
    "                ) as attr \n",
    "FROM solutions-2023-mar-107.mercari.13K_synthetic_attributes_embeddings \n",
    "WHERE id IN (\n",
    "    SELECT id FROM solutions-2023-mar-107.mercari.13K_synthetic_attributes_embeddings_golden_test\n",
    "    WHERE manual_validation = 1\n",
    ")\n",
    "AND rand() < 1.0"
   ]
  },
  {
   "cell_type": "code",
   "execution_count": 44,
   "id": "eec85a90-a17d-41e4-b076-9603b31f1db6",
   "metadata": {},
   "outputs": [
    {
     "data": {
      "text/plain": [
       "116"
      ]
     },
     "execution_count": 44,
     "metadata": {},
     "output_type": "execute_result"
    }
   ],
   "source": [
    "len(df)"
   ]
  },
  {
   "cell_type": "code",
   "execution_count": 45,
   "id": "6c44f0b4-f9f7-4652-b81d-6304e063ecd5",
   "metadata": {},
   "outputs": [
    {
     "data": {
      "text/html": [
       "<div>\n",
       "<style scoped>\n",
       "    .dataframe tbody tr th:only-of-type {\n",
       "        vertical-align: middle;\n",
       "    }\n",
       "\n",
       "    .dataframe tbody tr th {\n",
       "        vertical-align: top;\n",
       "    }\n",
       "\n",
       "    .dataframe thead th {\n",
       "        text-align: right;\n",
       "    }\n",
       "</style>\n",
       "<table border=\"1\" class=\"dataframe\">\n",
       "  <thead>\n",
       "    <tr style=\"text-align: right;\">\n",
       "      <th></th>\n",
       "      <th>id</th>\n",
       "      <th>name</th>\n",
       "      <th>description</th>\n",
       "      <th>brand_name</th>\n",
       "      <th>item_condition_name</th>\n",
       "      <th>c0_name</th>\n",
       "      <th>c1_name</th>\n",
       "      <th>c2_name</th>\n",
       "      <th>url</th>\n",
       "      <th>created</th>\n",
       "      <th>image_uri</th>\n",
       "      <th>vision_api_labels</th>\n",
       "      <th>attributes</th>\n",
       "      <th>scores</th>\n",
       "      <th>text_embedding</th>\n",
       "      <th>image_embedding</th>\n",
       "      <th>attr</th>\n",
       "    </tr>\n",
       "  </thead>\n",
       "  <tbody>\n",
       "    <tr>\n",
       "      <th>0</th>\n",
       "      <td>m14193490298</td>\n",
       "      <td>Wooden Magnet/ Dot Art Acrylic Paint</td>\n",
       "      <td>Handfree painted mandalas in a thin wooden dis...</td>\n",
       "      <td>Handmade</td>\n",
       "      <td>New</td>\n",
       "      <td>Home</td>\n",
       "      <td>Artwork</td>\n",
       "      <td>Paintings</td>\n",
       "      <td>https://www.mercari.com/us/item/m14193490298</td>\n",
       "      <td>2023-02-06 04:48:31+00:00</td>\n",
       "      <td>gs://genai-product-catalog/mercari_images_13K/...</td>\n",
       "      <td>{\"label_annotations\":[{\"description\":\"Book\",\"m...</td>\n",
       "      <td>[Book, Art, Publication, Creative arts, Materi...</td>\n",
       "      <td>[0.87862146, 0.83368653, 0.81959659, 0.8156618...</td>\n",
       "      <td>[0.00826694351, 0.00405315682, 0.0570168681, -...</td>\n",
       "      <td>[0.0284959301, 0.0240893103, 0.017579874, -0.0...</td>\n",
       "      <td>Name: \\n Wooden Magnet/ Dot Art Acrylic Paint ...</td>\n",
       "    </tr>\n",
       "    <tr>\n",
       "      <th>1</th>\n",
       "      <td>m74667116621</td>\n",
       "      <td>POSTER PRINT: FUNHOUSE</td>\n",
       "      <td>ALL POSTER PRINTS ARE 11 X 17 INCHES (( GREAT ...</td>\n",
       "      <td>None</td>\n",
       "      <td>New</td>\n",
       "      <td>Home</td>\n",
       "      <td>Artwork</td>\n",
       "      <td>Posters</td>\n",
       "      <td>https://www.mercari.com/us/item/m74667116621</td>\n",
       "      <td>2023-01-25 07:01:14+00:00</td>\n",
       "      <td>gs://genai-product-catalog/mercari_images_13K/...</td>\n",
       "      <td>{\"label_annotations\":[{\"description\":\"Poster\",...</td>\n",
       "      <td>[Poster, Publication, Font, Art, Book cover, B...</td>\n",
       "      <td>[0.86772853, 0.83406168, 0.81918359, 0.6839227...</td>\n",
       "      <td>[-0.0161228031, -0.0427463576, -0.0123792794, ...</td>\n",
       "      <td>[-0.0586416498, 0.0408442616, -0.012638161, -0...</td>\n",
       "      <td>Name: \\n POSTER PRINT: FUNHOUSE \\n Description...</td>\n",
       "    </tr>\n",
       "    <tr>\n",
       "      <th>2</th>\n",
       "      <td>m21554068673</td>\n",
       "      <td>Athleta Elation Purple Velvet High Rise Tight ...</td>\n",
       "      <td>Athleta Elation Purple Blue Velvet Tight Leggi...</td>\n",
       "      <td>Athleta</td>\n",
       "      <td>Like new</td>\n",
       "      <td>Women</td>\n",
       "      <td>Athletic apparel</td>\n",
       "      <td>Athletic Leggings</td>\n",
       "      <td>https://www.mercari.com/us/item/m21554068673</td>\n",
       "      <td>2023-03-27 17:33:50+00:00</td>\n",
       "      <td>gs://genai-product-catalog/mercari_images_13K/...</td>\n",
       "      <td>{\"label_annotations\":[{\"description\":\"Arm\",\"mi...</td>\n",
       "      <td>[Arm, Shoulder, yoga pant, Leg, Active pants, ...</td>\n",
       "      <td>[0.94758928, 0.93993074, 0.93505448, 0.9231663...</td>\n",
       "      <td>[0.0108732795, -0.0630845651, 0.036399167, -0....</td>\n",
       "      <td>[0.0493304357, -0.0114150364, 0.0233411063, 0....</td>\n",
       "      <td>Name: \\n Athleta Elation Purple Velvet High Ri...</td>\n",
       "    </tr>\n",
       "  </tbody>\n",
       "</table>\n",
       "</div>"
      ],
      "text/plain": [
       "             id                                               name  \\\n",
       "0  m14193490298               Wooden Magnet/ Dot Art Acrylic Paint   \n",
       "1  m74667116621                             POSTER PRINT: FUNHOUSE   \n",
       "2  m21554068673  Athleta Elation Purple Velvet High Rise Tight ...   \n",
       "\n",
       "                                         description brand_name  \\\n",
       "0  Handfree painted mandalas in a thin wooden dis...   Handmade   \n",
       "1  ALL POSTER PRINTS ARE 11 X 17 INCHES (( GREAT ...       None   \n",
       "2  Athleta Elation Purple Blue Velvet Tight Leggi...    Athleta   \n",
       "\n",
       "  item_condition_name c0_name           c1_name            c2_name  \\\n",
       "0                 New    Home           Artwork          Paintings   \n",
       "1                 New    Home           Artwork            Posters   \n",
       "2            Like new   Women  Athletic apparel  Athletic Leggings   \n",
       "\n",
       "                                            url                   created  \\\n",
       "0  https://www.mercari.com/us/item/m14193490298 2023-02-06 04:48:31+00:00   \n",
       "1  https://www.mercari.com/us/item/m74667116621 2023-01-25 07:01:14+00:00   \n",
       "2  https://www.mercari.com/us/item/m21554068673 2023-03-27 17:33:50+00:00   \n",
       "\n",
       "                                           image_uri  \\\n",
       "0  gs://genai-product-catalog/mercari_images_13K/...   \n",
       "1  gs://genai-product-catalog/mercari_images_13K/...   \n",
       "2  gs://genai-product-catalog/mercari_images_13K/...   \n",
       "\n",
       "                                   vision_api_labels  \\\n",
       "0  {\"label_annotations\":[{\"description\":\"Book\",\"m...   \n",
       "1  {\"label_annotations\":[{\"description\":\"Poster\",...   \n",
       "2  {\"label_annotations\":[{\"description\":\"Arm\",\"mi...   \n",
       "\n",
       "                                          attributes  \\\n",
       "0  [Book, Art, Publication, Creative arts, Materi...   \n",
       "1  [Poster, Publication, Font, Art, Book cover, B...   \n",
       "2  [Arm, Shoulder, yoga pant, Leg, Active pants, ...   \n",
       "\n",
       "                                              scores  \\\n",
       "0  [0.87862146, 0.83368653, 0.81959659, 0.8156618...   \n",
       "1  [0.86772853, 0.83406168, 0.81918359, 0.6839227...   \n",
       "2  [0.94758928, 0.93993074, 0.93505448, 0.9231663...   \n",
       "\n",
       "                                      text_embedding  \\\n",
       "0  [0.00826694351, 0.00405315682, 0.0570168681, -...   \n",
       "1  [-0.0161228031, -0.0427463576, -0.0123792794, ...   \n",
       "2  [0.0108732795, -0.0630845651, 0.036399167, -0....   \n",
       "\n",
       "                                     image_embedding  \\\n",
       "0  [0.0284959301, 0.0240893103, 0.017579874, -0.0...   \n",
       "1  [-0.0586416498, 0.0408442616, -0.012638161, -0...   \n",
       "2  [0.0493304357, -0.0114150364, 0.0233411063, 0....   \n",
       "\n",
       "                                                attr  \n",
       "0  Name: \\n Wooden Magnet/ Dot Art Acrylic Paint ...  \n",
       "1  Name: \\n POSTER PRINT: FUNHOUSE \\n Description...  \n",
       "2  Name: \\n Athleta Elation Purple Velvet High Ri...  "
      ]
     },
     "execution_count": 45,
     "metadata": {},
     "output_type": "execute_result"
    }
   ],
   "source": [
    "df.head(3)"
   ]
  },
  {
   "cell_type": "code",
   "execution_count": 46,
   "id": "63b49893-c14e-4af0-8231-a36c74bda7b9",
   "metadata": {},
   "outputs": [],
   "source": [
    "def get_category_name(row):\n",
    "    if row[\"c2_name\"] is None:\n",
    "        cat_name = row[\"c0_name\"]+\">\"+row[\"c1_name\"]+\">\"+\"Other\"\n",
    "    else:\n",
    "        cat_name = row[\"c0_name\"]+\">\"+row[\"c1_name\"]+\">\"+row[\"c2_name\"]\n",
    "    return cat_name\n",
    "\n",
    "df[\"category\"] = df.apply(lambda x: get_category_name(x), axis=1)"
   ]
  },
  {
   "cell_type": "markdown",
   "id": "9cebd1ba-fd42-42c2-84d9-ddda4e6c31ac",
   "metadata": {},
   "source": [
    "### Import ML Models"
   ]
  },
  {
   "cell_type": "code",
   "execution_count": 47,
   "id": "d9a7a793-184b-46f9-a1b5-81f3913a9a57",
   "metadata": {},
   "outputs": [],
   "source": [
    "import joblib # (if needed)\n",
    "model_one = joblib.load('model_textemb.pkl')\n",
    "model_two = joblib.load('model_imageemb.pkl')\n",
    "model_three = joblib.load('model_combemb.pkl')\n",
    "embed_one = \"text_embedding\"\n",
    "embed_two = \"image_embedding\"\n",
    "embed_three = \"comb_embedding\""
   ]
  },
  {
   "cell_type": "code",
   "execution_count": 48,
   "id": "fda1305d-4d3b-46c2-ab47-f7734fa041a5",
   "metadata": {},
   "outputs": [],
   "source": [
    "df[\"comb_embedding\"] = df.apply(lambda x: x[\"text_embedding\"].tolist()+x[\"image_embedding\"].tolist(), axis=1)"
   ]
  },
  {
   "cell_type": "markdown",
   "id": "99b2b77c-e302-4e5a-8de8-8187f19748c4",
   "metadata": {},
   "source": [
    "## LLM RAG Prompting"
   ]
  },
  {
   "cell_type": "code",
   "execution_count": 49,
   "id": "62d3fd65-4346-4031-9b5a-4d172deb7be2",
   "metadata": {},
   "outputs": [],
   "source": [
    "import vertexai\n",
    "from vertexai.preview.language_models import TextGenerationModel\n",
    "import time\n",
    "\n",
    "ncandidates = 3\n",
    "\n",
    "vertexai.init(project=\"solutions-2023-mar-107\", location=\"us-central1\")\n",
    "parameters = {\n",
    "    \"max_output_tokens\": 30,\n",
    "    \"temperature\": 0.1,\n",
    "    \"top_p\": 0.8,\n",
    "    \"top_k\": 40\n",
    "}\n",
    "\n",
    "def generate_candidates(ln):\n",
    "    prediction_one = model_one.predict_proba([ln[embed_one]])[0]\n",
    "    prediction_two = model_two.predict_proba([ln[embed_two]])[0]\n",
    "    prediction_three = model_three.predict_proba([ln[embed_three]])[0]\n",
    "    \n",
    "    topn_one = sorted(range(len(prediction_one)), key=lambda i: prediction_one[i])[-3:]\n",
    "    topn_two = sorted(range(len(prediction_two)), key=lambda i: prediction_two[i])[-3:]\n",
    "    topn_three = sorted(range(len(prediction_three)), key=lambda i: prediction_three[i])[-3:]\n",
    "    \n",
    "    classes_one = model_one.classes_\n",
    "    classes_two = model_two.classes_\n",
    "    classes_three = model_three.classes_\n",
    "    \n",
    "    candidates = [classes_one[x] for x in topn_one] + [classes_two[y] for y in topn_two] + [classes_three[z] for z in topn_three]\n",
    "    \n",
    "    return candidates\n",
    "    \n",
    "    \n",
    "def get_one_candidate(line):\n",
    "    \n",
    "    time.sleep(1)\n",
    "    \n",
    "    cand = generate_candidates(line)\n",
    "    \n",
    "    query = \"Based on the following description of a product can you identify which product category it belongs to from the candidates of categories: \\n\\n\" + \\\n",
    "        \"\\n\\n\\n\" + \\\n",
    "        \"DESCRIPTION\\n\" + \\\n",
    "        line[\"name\"] + \\\n",
    "        line[\"description\"] + \\\n",
    "        \"\\n\\n\" + \\\n",
    "        \"PRODUCT CATEGORY CANDIDATES: \\n\\n\" + \\\n",
    "        \"\\n\".join(cand) + \\\n",
    "        \"\\n\\n\" + \\\n",
    "        \"INSTRUCTIONS:\" + \\\n",
    "        \"On the first line only respond with one of the category names from the PRODUCT CATEGORY CANDIDATES list, do not make up your own category. \" + \\\n",
    "        \"On the second line please explain why you think that is the right category based on the description \" + \\\n",
    "        \"\\n\\n\" + \\\n",
    "        \"ANSWER:\" + \\\n",
    "        \"The category name is: \"\n",
    "            \n",
    "    model = TextGenerationModel.from_pretrained(\"text-bison@001\")\n",
    "    response = model.predict(\n",
    "        query,\n",
    "        **parameters\n",
    "    )\n",
    "    \n",
    "    resp = response.text.splitlines()\n",
    "\n",
    "    return [resp[0], resp[1]]\n",
    "\n"
   ]
  },
  {
   "cell_type": "code",
   "execution_count": 50,
   "id": "cc2ec538-d537-45f9-be57-c06331301483",
   "metadata": {},
   "outputs": [
    {
     "name": "stdout",
     "output_type": "stream",
     "text": [
      "\n",
      "\n",
      " predicted category: Women>Athletic apparel>Athletic Leggings\n",
      "\n",
      "\n",
      " why?  The product is a pair of Nike Sculpt hyper leggings. It is a type of athletic leggings.\n",
      "\n",
      "\n",
      " actual category: Women>Athletic apparel>Athletic Leggings\n"
     ]
    }
   ],
   "source": [
    "# try one example\n",
    "\n",
    "ind=5\n",
    "row = df.iloc[ind]\n",
    "candidate = get_one_candidate(row)\n",
    "print(\"\\n\\n predicted category: \" + candidate[0])\n",
    "print(\"\\n\\n why? \" + candidate[1])\n",
    "\n",
    "print(\"\\n\\n actual category: \" + row[\"category\"])"
   ]
  },
  {
   "cell_type": "markdown",
   "id": "3c41faca-605f-4890-bd54-8ab9832775a8",
   "metadata": {},
   "source": [
    "### Run prompt on dataset"
   ]
  },
  {
   "cell_type": "code",
   "execution_count": 51,
   "id": "0f143481-491f-4dbc-8d7f-2b3649875537",
   "metadata": {},
   "outputs": [],
   "source": [
    "df[\"predicted_category\"] = df.apply(lambda x : get_one_candidate(x)[0], axis=1)"
   ]
  },
  {
   "cell_type": "code",
   "execution_count": 52,
   "id": "2df6f03c-3ae2-414d-b4d6-d01b0cf68028",
   "metadata": {},
   "outputs": [
    {
     "data": {
      "text/html": [
       "<div>\n",
       "<style scoped>\n",
       "    .dataframe tbody tr th:only-of-type {\n",
       "        vertical-align: middle;\n",
       "    }\n",
       "\n",
       "    .dataframe tbody tr th {\n",
       "        vertical-align: top;\n",
       "    }\n",
       "\n",
       "    .dataframe thead th {\n",
       "        text-align: right;\n",
       "    }\n",
       "</style>\n",
       "<table border=\"1\" class=\"dataframe\">\n",
       "  <thead>\n",
       "    <tr style=\"text-align: right;\">\n",
       "      <th></th>\n",
       "      <th>id</th>\n",
       "      <th>name</th>\n",
       "      <th>description</th>\n",
       "      <th>brand_name</th>\n",
       "      <th>item_condition_name</th>\n",
       "      <th>c0_name</th>\n",
       "      <th>c1_name</th>\n",
       "      <th>c2_name</th>\n",
       "      <th>url</th>\n",
       "      <th>created</th>\n",
       "      <th>image_uri</th>\n",
       "      <th>vision_api_labels</th>\n",
       "      <th>attributes</th>\n",
       "      <th>scores</th>\n",
       "      <th>text_embedding</th>\n",
       "      <th>image_embedding</th>\n",
       "      <th>attr</th>\n",
       "      <th>category</th>\n",
       "      <th>comb_embedding</th>\n",
       "      <th>predicted_category</th>\n",
       "    </tr>\n",
       "  </thead>\n",
       "  <tbody>\n",
       "    <tr>\n",
       "      <th>0</th>\n",
       "      <td>m14193490298</td>\n",
       "      <td>Wooden Magnet/ Dot Art Acrylic Paint</td>\n",
       "      <td>Handfree painted mandalas in a thin wooden dis...</td>\n",
       "      <td>Handmade</td>\n",
       "      <td>New</td>\n",
       "      <td>Home</td>\n",
       "      <td>Artwork</td>\n",
       "      <td>Paintings</td>\n",
       "      <td>https://www.mercari.com/us/item/m14193490298</td>\n",
       "      <td>2023-02-06 04:48:31+00:00</td>\n",
       "      <td>gs://genai-product-catalog/mercari_images_13K/...</td>\n",
       "      <td>{\"label_annotations\":[{\"description\":\"Book\",\"m...</td>\n",
       "      <td>[Book, Art, Publication, Creative arts, Materi...</td>\n",
       "      <td>[0.87862146, 0.83368653, 0.81959659, 0.8156618...</td>\n",
       "      <td>[0.00826694351, 0.00405315682, 0.0570168681, -...</td>\n",
       "      <td>[0.0284959301, 0.0240893103, 0.017579874, -0.0...</td>\n",
       "      <td>Name: \\n Wooden Magnet/ Dot Art Acrylic Paint ...</td>\n",
       "      <td>Home&gt;Artwork&gt;Paintings</td>\n",
       "      <td>[0.00826694351, 0.00405315682, 0.0570168681, -...</td>\n",
       "      <td>Home&gt;Home decor&gt;Home decor accents</td>\n",
       "    </tr>\n",
       "    <tr>\n",
       "      <th>1</th>\n",
       "      <td>m74667116621</td>\n",
       "      <td>POSTER PRINT: FUNHOUSE</td>\n",
       "      <td>ALL POSTER PRINTS ARE 11 X 17 INCHES (( GREAT ...</td>\n",
       "      <td>None</td>\n",
       "      <td>New</td>\n",
       "      <td>Home</td>\n",
       "      <td>Artwork</td>\n",
       "      <td>Posters</td>\n",
       "      <td>https://www.mercari.com/us/item/m74667116621</td>\n",
       "      <td>2023-01-25 07:01:14+00:00</td>\n",
       "      <td>gs://genai-product-catalog/mercari_images_13K/...</td>\n",
       "      <td>{\"label_annotations\":[{\"description\":\"Poster\",...</td>\n",
       "      <td>[Poster, Publication, Font, Art, Book cover, B...</td>\n",
       "      <td>[0.86772853, 0.83406168, 0.81918359, 0.6839227...</td>\n",
       "      <td>[-0.0161228031, -0.0427463576, -0.0123792794, ...</td>\n",
       "      <td>[-0.0586416498, 0.0408442616, -0.012638161, -0...</td>\n",
       "      <td>Name: \\n POSTER PRINT: FUNHOUSE \\n Description...</td>\n",
       "      <td>Home&gt;Artwork&gt;Posters</td>\n",
       "      <td>[-0.0161228031, -0.0427463576, -0.0123792794, ...</td>\n",
       "      <td>Men&gt;Tops&gt;T-shirts</td>\n",
       "    </tr>\n",
       "    <tr>\n",
       "      <th>2</th>\n",
       "      <td>m21554068673</td>\n",
       "      <td>Athleta Elation Purple Velvet High Rise Tight ...</td>\n",
       "      <td>Athleta Elation Purple Blue Velvet Tight Leggi...</td>\n",
       "      <td>Athleta</td>\n",
       "      <td>Like new</td>\n",
       "      <td>Women</td>\n",
       "      <td>Athletic apparel</td>\n",
       "      <td>Athletic Leggings</td>\n",
       "      <td>https://www.mercari.com/us/item/m21554068673</td>\n",
       "      <td>2023-03-27 17:33:50+00:00</td>\n",
       "      <td>gs://genai-product-catalog/mercari_images_13K/...</td>\n",
       "      <td>{\"label_annotations\":[{\"description\":\"Arm\",\"mi...</td>\n",
       "      <td>[Arm, Shoulder, yoga pant, Leg, Active pants, ...</td>\n",
       "      <td>[0.94758928, 0.93993074, 0.93505448, 0.9231663...</td>\n",
       "      <td>[0.0108732795, -0.0630845651, 0.036399167, -0....</td>\n",
       "      <td>[0.0493304357, -0.0114150364, 0.0233411063, 0....</td>\n",
       "      <td>Name: \\n Athleta Elation Purple Velvet High Ri...</td>\n",
       "      <td>Women&gt;Athletic apparel&gt;Athletic Leggings</td>\n",
       "      <td>[0.0108732795, -0.0630845651, 0.036399167, -0....</td>\n",
       "      <td>Women&gt;Athletic apparel&gt;Athletic Leggings</td>\n",
       "    </tr>\n",
       "  </tbody>\n",
       "</table>\n",
       "</div>"
      ],
      "text/plain": [
       "             id                                               name  \\\n",
       "0  m14193490298               Wooden Magnet/ Dot Art Acrylic Paint   \n",
       "1  m74667116621                             POSTER PRINT: FUNHOUSE   \n",
       "2  m21554068673  Athleta Elation Purple Velvet High Rise Tight ...   \n",
       "\n",
       "                                         description brand_name  \\\n",
       "0  Handfree painted mandalas in a thin wooden dis...   Handmade   \n",
       "1  ALL POSTER PRINTS ARE 11 X 17 INCHES (( GREAT ...       None   \n",
       "2  Athleta Elation Purple Blue Velvet Tight Leggi...    Athleta   \n",
       "\n",
       "  item_condition_name c0_name           c1_name            c2_name  \\\n",
       "0                 New    Home           Artwork          Paintings   \n",
       "1                 New    Home           Artwork            Posters   \n",
       "2            Like new   Women  Athletic apparel  Athletic Leggings   \n",
       "\n",
       "                                            url                   created  \\\n",
       "0  https://www.mercari.com/us/item/m14193490298 2023-02-06 04:48:31+00:00   \n",
       "1  https://www.mercari.com/us/item/m74667116621 2023-01-25 07:01:14+00:00   \n",
       "2  https://www.mercari.com/us/item/m21554068673 2023-03-27 17:33:50+00:00   \n",
       "\n",
       "                                           image_uri  \\\n",
       "0  gs://genai-product-catalog/mercari_images_13K/...   \n",
       "1  gs://genai-product-catalog/mercari_images_13K/...   \n",
       "2  gs://genai-product-catalog/mercari_images_13K/...   \n",
       "\n",
       "                                   vision_api_labels  \\\n",
       "0  {\"label_annotations\":[{\"description\":\"Book\",\"m...   \n",
       "1  {\"label_annotations\":[{\"description\":\"Poster\",...   \n",
       "2  {\"label_annotations\":[{\"description\":\"Arm\",\"mi...   \n",
       "\n",
       "                                          attributes  \\\n",
       "0  [Book, Art, Publication, Creative arts, Materi...   \n",
       "1  [Poster, Publication, Font, Art, Book cover, B...   \n",
       "2  [Arm, Shoulder, yoga pant, Leg, Active pants, ...   \n",
       "\n",
       "                                              scores  \\\n",
       "0  [0.87862146, 0.83368653, 0.81959659, 0.8156618...   \n",
       "1  [0.86772853, 0.83406168, 0.81918359, 0.6839227...   \n",
       "2  [0.94758928, 0.93993074, 0.93505448, 0.9231663...   \n",
       "\n",
       "                                      text_embedding  \\\n",
       "0  [0.00826694351, 0.00405315682, 0.0570168681, -...   \n",
       "1  [-0.0161228031, -0.0427463576, -0.0123792794, ...   \n",
       "2  [0.0108732795, -0.0630845651, 0.036399167, -0....   \n",
       "\n",
       "                                     image_embedding  \\\n",
       "0  [0.0284959301, 0.0240893103, 0.017579874, -0.0...   \n",
       "1  [-0.0586416498, 0.0408442616, -0.012638161, -0...   \n",
       "2  [0.0493304357, -0.0114150364, 0.0233411063, 0....   \n",
       "\n",
       "                                                attr  \\\n",
       "0  Name: \\n Wooden Magnet/ Dot Art Acrylic Paint ...   \n",
       "1  Name: \\n POSTER PRINT: FUNHOUSE \\n Description...   \n",
       "2  Name: \\n Athleta Elation Purple Velvet High Ri...   \n",
       "\n",
       "                                   category  \\\n",
       "0                    Home>Artwork>Paintings   \n",
       "1                      Home>Artwork>Posters   \n",
       "2  Women>Athletic apparel>Athletic Leggings   \n",
       "\n",
       "                                      comb_embedding  \\\n",
       "0  [0.00826694351, 0.00405315682, 0.0570168681, -...   \n",
       "1  [-0.0161228031, -0.0427463576, -0.0123792794, ...   \n",
       "2  [0.0108732795, -0.0630845651, 0.036399167, -0....   \n",
       "\n",
       "                         predicted_category  \n",
       "0        Home>Home decor>Home decor accents  \n",
       "1                         Men>Tops>T-shirts  \n",
       "2  Women>Athletic apparel>Athletic Leggings  "
      ]
     },
     "execution_count": 52,
     "metadata": {},
     "output_type": "execute_result"
    }
   ],
   "source": [
    "df.head(3)"
   ]
  },
  {
   "cell_type": "markdown",
   "id": "a169a25f-0f00-439e-aa00-95ebc2de3159",
   "metadata": {},
   "source": [
    "## Evaluation"
   ]
  },
  {
   "cell_type": "code",
   "execution_count": 60,
   "id": "73816b03-7e72-4755-9501-6f5fc496ae20",
   "metadata": {},
   "outputs": [
    {
     "data": {
      "text/plain": [
       "0.3333333333333333"
      ]
     },
     "execution_count": 60,
     "metadata": {},
     "output_type": "execute_result"
    }
   ],
   "source": [
    "# hierarchical classification\n",
    "\n",
    "import numpy as np\n",
    "\n",
    "def get_hierarchical_score(y_pred, y_true):\n",
    "    \n",
    "    if len(y_pred) !=len(y_true):\n",
    "        print(\"erro: y_pred and y_true should have the same length\")\n",
    "        return None\n",
    "    \n",
    "    scores = []\n",
    "    \n",
    "    def get_score(first_cat ,second_cat):\n",
    "        first_ls = first_cat.split(\">\")\n",
    "        second_ls = second_cat.split(\">\")\n",
    "        if len(first_ls) != 3 or len(second_ls) != 3:\n",
    "            print(\"error: category does not have 3 levels\")\n",
    "            return 0\n",
    "        \n",
    "        score=0\n",
    "        \n",
    "        if first_ls[0] == second_ls[0]:\n",
    "            score += 1/3\n",
    "        if first_ls[1] == second_ls[1]:\n",
    "            score += 1/3\n",
    "        if first_ls[2] == second_ls[2]:\n",
    "            score += 1/3\n",
    "\n",
    "        return score\n",
    "    \n",
    "    for i in range(0,len(y_pred)):\n",
    "        scores.append(get_score(y_pred[i], y_true[i]))\n",
    "                      \n",
    "    return np.mean(scores)\n",
    "\n",
    "# test one item\n",
    "x = df.iloc[0:5]\n",
    "predicted = model_three.predict(x[\"comb_embedding\"].tolist())\n",
    "get_hierarchical_score(x[\"category\"].tolist(),predicted)"
   ]
  },
  {
   "cell_type": "code",
   "execution_count": 62,
   "id": "ea553958-3d7a-4584-823b-7283a34bff70",
   "metadata": {},
   "outputs": [
    {
     "name": "stdout",
     "output_type": "stream",
     "text": [
      "Hierarchical Score: 0.6149425287356322\n",
      "Accuracy: 0.3793103448275862\n",
      "f1: 0.27590596266184947\n"
     ]
    }
   ],
   "source": [
    "from sklearn.metrics import accuracy_score\n",
    "from sklearn.metrics import f1_score\n",
    "\n",
    "#df_val = df[df[\"manual_validation\"]==1]\n",
    "\n",
    "print(\"Hierarchical Score: \" + str(get_hierarchical_score(df[\"predicted_category\"], df[\"category\"])))\n",
    "print(\"Accuracy: \" + str(accuracy_score(df[\"predicted_category\"], df[\"category\"])))\n",
    "print(\"f1: \" + str(f1_score(df[\"category\"], df[\"predicted_category\"],average='weighted')))"
   ]
  }
 ],
 "metadata": {
  "environment": {
   "kernel": "conda-root-py",
   "name": "workbench-notebooks.m110",
   "type": "gcloud",
   "uri": "gcr.io/deeplearning-platform-release/workbench-notebooks:m110"
  },
  "kernelspec": {
   "display_name": "Python 3",
   "language": "python",
   "name": "conda-root-py"
  },
  "language_info": {
   "codemirror_mode": {
    "name": "ipython",
    "version": 3
   },
   "file_extension": ".py",
   "mimetype": "text/x-python",
   "name": "python",
   "nbconvert_exporter": "python",
   "pygments_lexer": "ipython3",
   "version": "3.10.12"
  }
 },
 "nbformat": 4,
 "nbformat_minor": 5
}
