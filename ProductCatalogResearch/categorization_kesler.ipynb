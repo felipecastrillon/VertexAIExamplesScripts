{
 "cells": [
  {
   "cell_type": "markdown",
   "id": "a0ffc7c0-1d88-4a22-bdb7-543ba7713436",
   "metadata": {},
   "source": [
    "# Product Classification with Kesler's Construction"
   ]
  },
  {
   "cell_type": "markdown",
   "id": "78ae7d1f-34a8-41da-827c-c16036a5865f",
   "metadata": {},
   "source": [
    "## Overview\n",
    "\n",
    "Retailers struggle with product catalog hygiene. If their products do not have the correct metadata information it will be very difficult for customers to surface those products on an ecommerce website. What's more it will also be difficult for internal associates to find these products for customers in their brick-and-mortar store. The difficulties of keeping a product catalog clean come from a few issues. One is that some catalogs may have thousands if not millions of products and maintaining data quality is a large endeavor. Second is that product metadata is manually typed by a manual process either internal or by external 3rd parties (i.e. a customer posting their products in an ecommerce marketplace). Often, these customers are not well versed on inserting the correct or the best metadata. Third is that data becomes stale and it is hard to maintain the data fresh for all of the products. These and many others make data quality such a large issue. \n",
    "\n",
    "\n",
    "This notebook is an attempt to solve one particular major issue related to product catalog hygiene: populating product catgories automatically. The method attempted here comes from a Machine Learning method called Kesler's Construction and is inspired by this [blog post by Shopify](https://shopify.engineering/categorizing-products-at-scale). The method has some advantages compared to traditional multi-label classification methods for a large number of categories. An obvious one is that it maintains simplicity by having to train and maintain one model as opposed to training and maintaing many models like the One-vs-All or One-vs-Rest methods. This also leads to lower computational complexity to serve the model at scale (thousands of categories). The disadvantage is that it requires a large amount of memory and we thus had to deploy a large machine to run this notebook (X GB of RAM). "
   ]
  },
  {
   "cell_type": "markdown",
   "id": "9fc1ec2b-acff-46fd-b101-c63507f3a932",
   "metadata": {
    "tags": []
   },
   "source": [
    "## Getting Started"
   ]
  },
  {
   "cell_type": "markdown",
   "id": "ddd0c706-3cfd-4f05-ba5d-c21eff8faecd",
   "metadata": {},
   "source": [
    "### Authenticate your notebook environment (Colab only)\n",
    "\n",
    "If you are running this notebook on Google Colab, run the following cell to authenticate your environment. This step is not required if you are using [Vertex AI Workbench](https://cloud.google.com/vertex-ai-workbench)."
   ]
  },
  {
   "cell_type": "code",
   "execution_count": null,
   "id": "04e26969-288a-40dd-bb5c-a52fcede63a2",
   "metadata": {},
   "outputs": [],
   "source": [
    "import sys\n",
    "\n",
    "# Additional authentication is required for Google Colab\n",
    "if \"google.colab\" in sys.modules:\n",
    "    # Authenticate user to Google Cloud\n",
    "    from google.colab import auth\n",
    "\n",
    "    auth.authenticate_user()"
   ]
  },
  {
   "cell_type": "markdown",
   "id": "d85733fe-42b2-4d8e-a2c3-612eb928895b",
   "metadata": {},
   "source": [
    "### Define Google Cloud project information (Colab only)"
   ]
  },
  {
   "cell_type": "code",
   "execution_count": null,
   "id": "8b9c5082-5022-437a-8d17-0acfb581784a",
   "metadata": {},
   "outputs": [],
   "source": [
    "if \"google.colab\" in sys.modules:\n",
    "    # Define project information\n",
    "    PROJECT_ID = \"[your-project-id]\"  # @param {type:\"string\"}\n",
    "    LOCATION = \"us-central1\"  # @param {type:\"string\"}\n",
    "\n",
    "    # Initialize Vertex AI\n",
    "    import vertexai\n",
    "\n",
    "    vertexai.init(project=PROJECT_ID, location=LOCATION)"
   ]
  },
  {
   "cell_type": "markdown",
   "id": "c1db6726-712d-4cff-afb2-0cbaed3965b6",
   "metadata": {},
   "source": [
    "### Install and Import Packages"
   ]
  },
  {
   "cell_type": "code",
   "execution_count": 26,
   "id": "bc6577f1-3be8-4121-9c3b-86a8484fa470",
   "metadata": {},
   "outputs": [
    {
     "name": "stdout",
     "output_type": "stream",
     "text": [
      "\u001b[33mWARNING: Ignoring invalid distribution -roto-plus (/opt/conda/lib/python3.10/site-packages)\u001b[0m\u001b[33m\n",
      "\u001b[0m\u001b[33mWARNING: Ignoring invalid distribution -rotobuf (/opt/conda/lib/python3.10/site-packages)\u001b[0m\u001b[33m\n",
      "\u001b[0m\u001b[33mWARNING: Ignoring invalid distribution -roto-plus (/opt/conda/lib/python3.10/site-packages)\u001b[0m\u001b[33m\n",
      "\u001b[0m\u001b[33mWARNING: Ignoring invalid distribution -rotobuf (/opt/conda/lib/python3.10/site-packages)\u001b[0m\u001b[33m\n",
      "\u001b[0m"
     ]
    }
   ],
   "source": [
    "!pip install spacy -q"
   ]
  },
  {
   "cell_type": "code",
   "execution_count": 27,
   "id": "c098edcf-3026-4a8c-b172-2898fc8a7ae9",
   "metadata": {},
   "outputs": [
    {
     "name": "stdout",
     "output_type": "stream",
     "text": [
      "\u001b[33mWARNING: Ignoring invalid distribution -roto-plus (/opt/conda/lib/python3.10/site-packages)\u001b[0m\u001b[33m\n",
      "\u001b[0m\u001b[33mWARNING: Ignoring invalid distribution -rotobuf (/opt/conda/lib/python3.10/site-packages)\u001b[0m\u001b[33m\n",
      "\u001b[0m\u001b[33mWARNING: Ignoring invalid distribution -roto-plus (/opt/conda/lib/python3.10/site-packages)\u001b[0m\u001b[33m\n",
      "\u001b[0m\u001b[33mWARNING: Ignoring invalid distribution -rotobuf (/opt/conda/lib/python3.10/site-packages)\u001b[0m\u001b[33m\n",
      "\u001b[0m"
     ]
    }
   ],
   "source": [
    "!pip install spacy-cleaner -q"
   ]
  },
  {
   "cell_type": "code",
   "execution_count": 28,
   "id": "9bbca63d-e916-43c1-9bdb-384369233d8b",
   "metadata": {},
   "outputs": [
    {
     "name": "stdout",
     "output_type": "stream",
     "text": [
      "\u001b[33mWARNING: Ignoring invalid distribution -roto-plus (/opt/conda/lib/python3.10/site-packages)\u001b[0m\u001b[33m\n",
      "\u001b[0m\u001b[33mWARNING: Ignoring invalid distribution -rotobuf (/opt/conda/lib/python3.10/site-packages)\u001b[0m\u001b[33m\n",
      "\u001b[0m\u001b[33mWARNING: Ignoring invalid distribution -roto-plus (/opt/conda/lib/python3.10/site-packages)\u001b[0m\u001b[33m\n",
      "\u001b[0m\u001b[33mWARNING: Ignoring invalid distribution -rotobuf (/opt/conda/lib/python3.10/site-packages)\u001b[0m\u001b[33m\n",
      "\u001b[0m\u001b[38;5;2m✔ Download and installation successful\u001b[0m\n",
      "You can now load the package via spacy.load('en_core_web_sm')\n"
     ]
    }
   ],
   "source": [
    "!python -m spacy download en_core_web_sm -q"
   ]
  },
  {
   "cell_type": "code",
   "execution_count": 29,
   "id": "8c6cb3b1-abad-4dc4-acba-2ef6a7e6c59d",
   "metadata": {},
   "outputs": [
    {
     "name": "stdout",
     "output_type": "stream",
     "text": [
      "\u001b[2K\u001b[38;5;2m✔ Loaded compatibility table\u001b[0m\n",
      "\u001b[1m\n",
      "================= Installed pipeline packages (spaCy v3.7.2) =================\u001b[0m\n",
      "\u001b[38;5;4mℹ spaCy installation: /opt/conda/lib/python3.10/site-packages/spacy\u001b[0m\n",
      "\n",
      "NAME             SPACY            VERSION                            \n",
      "en_core_web_sm   >=3.7.2,<3.8.0   \u001b[38;5;2m3.7.1\u001b[0m   \u001b[38;5;2m✔\u001b[0m\n",
      "\n"
     ]
    }
   ],
   "source": [
    "!python -m spacy validate"
   ]
  },
  {
   "cell_type": "code",
   "execution_count": 30,
   "id": "48f56bd0-1817-4989-8eb8-44c9b10001ba",
   "metadata": {
    "tags": []
   },
   "outputs": [],
   "source": [
    "### Import libraries\n",
    "from sklearn.feature_extraction.text import HashingVectorizer\n",
    "from vertexai.preview.language_models import TextEmbeddingModel\n",
    "from vertexai.preview.language_models import TextGenerationModel\n",
    "import numpy as np\n",
    "from sklearn.linear_model import LogisticRegression\n",
    "from sklearn.naive_bayes import MultinomialNB\n",
    "from sklearn.linear_model import SGDClassifier\n",
    "import random\n",
    "import joblib\n",
    "from tqdm.notebook import tqdm\n",
    "tqdm.pandas()"
   ]
  },
  {
   "cell_type": "markdown",
   "id": "b3a2cd47-c184-43d8-a9f1-34f3059c432a",
   "metadata": {},
   "source": [
    "### Define Global Parameters"
   ]
  },
  {
   "cell_type": "code",
   "execution_count": 31,
   "id": "1ef33195-bb9b-4422-b51e-29977be4f359",
   "metadata": {},
   "outputs": [],
   "source": [
    "CATEGORY_COL=\"c0_name\""
   ]
  },
  {
   "cell_type": "markdown",
   "id": "ae67b8e0-0f1d-4971-b8b4-cbd1f380e893",
   "metadata": {},
   "source": [
    "## Data Preparation"
   ]
  },
  {
   "cell_type": "markdown",
   "id": "79d7432f-8460-44e0-8c8e-560bd8806f68",
   "metadata": {},
   "source": [
    "### Download Mercari Data from BigQuery"
   ]
  },
  {
   "cell_type": "markdown",
   "id": "261b8b68-1a67-4eb6-8781-3f87f38112fc",
   "metadata": {},
   "source": [
    "The Mercari data is not public. This notebook can only be currently run in the project shown. "
   ]
  },
  {
   "cell_type": "code",
   "execution_count": 32,
   "id": "5893604b-9ebb-4a07-ba2d-30c5b49abb20",
   "metadata": {
    "tags": []
   },
   "outputs": [
    {
     "data": {
      "application/vnd.jupyter.widget-view+json": {
       "model_id": "850290ea98ff40f79e1da38eecc0d45d",
       "version_major": 2,
       "version_minor": 0
      },
      "text/plain": [
       "Query is running:   0%|          |"
      ]
     },
     "metadata": {},
     "output_type": "display_data"
    },
    {
     "data": {
      "application/vnd.jupyter.widget-view+json": {
       "model_id": "3007a5dca22b4a41a2ff23ed3f5e7098",
       "version_major": 2,
       "version_minor": 0
      },
      "text/plain": [
       "Downloading:   0%|          |"
      ]
     },
     "metadata": {},
     "output_type": "display_data"
    }
   ],
   "source": [
    "%%bigquery df_test\n",
    "\n",
    "SELECT *, CONCAT('Name: \\n ', name, ' \\n ', \n",
    "                 \"Description: \\n \", description, ' \\n ',\n",
    "                 \"Labels: \\n \", TO_JSON_STRING(vision_api_labels)\n",
    "                ) as attr FROM solutions-2023-mar-107.mercari.13K_synthetic_attributes_embeddings_golden_test  \n",
    "WHERE rand() < 1.0"
   ]
  },
  {
   "cell_type": "code",
   "execution_count": 33,
   "id": "4cdcee5d-b7b8-40c4-a348-6081e81d5651",
   "metadata": {},
   "outputs": [
    {
     "data": {
      "application/vnd.jupyter.widget-view+json": {
       "model_id": "3476b1fbff204ee7bb835f5d0f43fb4e",
       "version_major": 2,
       "version_minor": 0
      },
      "text/plain": [
       "Query is running:   0%|          |"
      ]
     },
     "metadata": {},
     "output_type": "display_data"
    },
    {
     "data": {
      "application/vnd.jupyter.widget-view+json": {
       "model_id": "667330aa63744050a126db9fdc1ce3f8",
       "version_major": 2,
       "version_minor": 0
      },
      "text/plain": [
       "Downloading:   0%|          |"
      ]
     },
     "metadata": {},
     "output_type": "display_data"
    }
   ],
   "source": [
    "%%bigquery df_train\n",
    "SELECT *, CONCAT('Name: \\n ', name, ' \\n ', \n",
    "                 \"Description: \\n \", description, ' \\n ',\n",
    "                 \"Labels: \\n \", TO_JSON_STRING(vision_api_labels)\n",
    "                ) as attr \n",
    "FROM solutions-2023-mar-107.mercari.13K_synthetic_attributes_embeddings \n",
    "WHERE name NOT IN (\n",
    "    SELECT name FROM solutions-2023-mar-107.mercari.13K_synthetic_attributes_embeddings_golden_test\n",
    ")\n",
    "AND rand() < 1.0"
   ]
  },
  {
   "cell_type": "code",
   "execution_count": 34,
   "id": "d8b8d4e3-5707-42eb-878e-af391189086a",
   "metadata": {},
   "outputs": [
    {
     "data": {
      "text/html": [
       "<div>\n",
       "<style scoped>\n",
       "    .dataframe tbody tr th:only-of-type {\n",
       "        vertical-align: middle;\n",
       "    }\n",
       "\n",
       "    .dataframe tbody tr th {\n",
       "        vertical-align: top;\n",
       "    }\n",
       "\n",
       "    .dataframe thead th {\n",
       "        text-align: right;\n",
       "    }\n",
       "</style>\n",
       "<table border=\"1\" class=\"dataframe\">\n",
       "  <thead>\n",
       "    <tr style=\"text-align: right;\">\n",
       "      <th></th>\n",
       "      <th>id</th>\n",
       "      <th>name</th>\n",
       "      <th>description</th>\n",
       "      <th>brand_name</th>\n",
       "      <th>item_condition_name</th>\n",
       "      <th>c0_name</th>\n",
       "      <th>c1_name</th>\n",
       "      <th>c2_name</th>\n",
       "      <th>url</th>\n",
       "      <th>created</th>\n",
       "      <th>image_uri</th>\n",
       "      <th>vision_api_labels</th>\n",
       "      <th>attributes</th>\n",
       "      <th>scores</th>\n",
       "      <th>text_embedding</th>\n",
       "      <th>image_embedding</th>\n",
       "      <th>attr</th>\n",
       "    </tr>\n",
       "  </thead>\n",
       "  <tbody>\n",
       "    <tr>\n",
       "      <th>0</th>\n",
       "      <td>m12610067624</td>\n",
       "      <td>NEW 18K White Gold Diamond Star Ring</td>\n",
       "      <td>*Condition: Brand New\\n*Color: silver\\n*Size 9...</td>\n",
       "      <td>None</td>\n",
       "      <td>New</td>\n",
       "      <td>Women</td>\n",
       "      <td>Jewelry</td>\n",
       "      <td>Rings</td>\n",
       "      <td>https://www.mercari.com/us/item/m12610067624</td>\n",
       "      <td>2023-02-21 17:37:04+00:00</td>\n",
       "      <td>gs://genai-product-catalog/mercari_images_13K/...</td>\n",
       "      <td>{\"label_annotations\":[{\"description\":\"Body jew...</td>\n",
       "      <td>[Body jewelry, Nail polish, Nail care, Gesture...</td>\n",
       "      <td>[0.91691029, 0.88147002, 0.8530463, 0.85260487...</td>\n",
       "      <td>[-0.000976339797, -0.0601668917, 0.0199702177,...</td>\n",
       "      <td>[-0.0240825117, 0.0346781611, 0.00984610431, 0...</td>\n",
       "      <td>Name: \\n NEW 18K White Gold Diamond Star Ring ...</td>\n",
       "    </tr>\n",
       "    <tr>\n",
       "      <th>1</th>\n",
       "      <td>m59423118287</td>\n",
       "      <td>Blue Goldstone Cat Dangle Earrings</td>\n",
       "      <td>Picturing Halloween Cat Dangle Earrings in Blu...</td>\n",
       "      <td>None</td>\n",
       "      <td>New</td>\n",
       "      <td>Women</td>\n",
       "      <td>Jewelry</td>\n",
       "      <td>Earrings</td>\n",
       "      <td>https://www.mercari.com/us/item/m59423118287</td>\n",
       "      <td>2023-02-03 00:38:41+00:00</td>\n",
       "      <td>gs://genai-product-catalog/mercari_images_13K/...</td>\n",
       "      <td>{\"label_annotations\":[{\"description\":\"Tablewar...</td>\n",
       "      <td>[Tableware, Drinkware, Dishware, White, Cup, S...</td>\n",
       "      <td>[0.97258216, 0.9511885, 0.93579447, 0.92186522...</td>\n",
       "      <td>[0.000638937519, -0.0152516542, 0.0333747119, ...</td>\n",
       "      <td>[-0.0131868711, -0.0164415222, -0.037639197, 0...</td>\n",
       "      <td>Name: \\n Blue Goldstone Cat Dangle Earrings \\n...</td>\n",
       "    </tr>\n",
       "    <tr>\n",
       "      <th>2</th>\n",
       "      <td>m34610767896</td>\n",
       "      <td>Graphic Tee olive green “I have standards”  po...</td>\n",
       "      <td>Comfortable olive green T-shirt, with a standa...</td>\n",
       "      <td>Graphic Image</td>\n",
       "      <td>Good</td>\n",
       "      <td>Women</td>\n",
       "      <td>Tops &amp; blouses</td>\n",
       "      <td>T-shirts</td>\n",
       "      <td>https://www.mercari.com/us/item/m34610767896</td>\n",
       "      <td>2023-03-22 05:14:06+00:00</td>\n",
       "      <td>gs://genai-product-catalog/mercari_images_13K/...</td>\n",
       "      <td>{\"label_annotations\":[{\"description\":\"Outerwea...</td>\n",
       "      <td>[Outerwear, White, Product, Green, Textile, Sl...</td>\n",
       "      <td>[0.95814902, 0.92187059, 0.9082402, 0.89999574...</td>\n",
       "      <td>[0.0109450063, -0.0285248049, 0.0105539858, 0....</td>\n",
       "      <td>[-0.0201432034, 0.00758034224, 0.0410033315, 0...</td>\n",
       "      <td>Name: \\n Graphic Tee olive green “I have stand...</td>\n",
       "    </tr>\n",
       "    <tr>\n",
       "      <th>3</th>\n",
       "      <td>m41076032731</td>\n",
       "      <td>Original Large Dust Bag By Anuschka 20×23 inches</td>\n",
       "      <td>Protect your beautiful Anuschka bags with this...</td>\n",
       "      <td>Anuschka</td>\n",
       "      <td>Good</td>\n",
       "      <td>Women</td>\n",
       "      <td>Jewelry</td>\n",
       "      <td>Necklaces</td>\n",
       "      <td>https://www.mercari.com/us/item/m41076032731</td>\n",
       "      <td>2023-03-22 19:34:09+00:00</td>\n",
       "      <td>gs://genai-product-catalog/mercari_images_13K/...</td>\n",
       "      <td>{\"label_annotations\":[{\"description\":\"Outerwea...</td>\n",
       "      <td>[Outerwear, Neck, Sleeve, Beige, Grey, Collar,...</td>\n",
       "      <td>[0.95353466, 0.87349671, 0.87245047, 0.8585093...</td>\n",
       "      <td>[-0.0335553512, -0.0208099429, 0.0446037501, 0...</td>\n",
       "      <td>[0.0186321586, 0.0211345907, 0.0135979643, 0.0...</td>\n",
       "      <td>Name: \\n Original Large Dust Bag By Anuschka 2...</td>\n",
       "    </tr>\n",
       "    <tr>\n",
       "      <th>4</th>\n",
       "      <td>m12366804668</td>\n",
       "      <td>Beige Blazer for men</td>\n",
       "      <td>Bought from macys , no flaws. Good condition a...</td>\n",
       "      <td>None</td>\n",
       "      <td>Good</td>\n",
       "      <td>Men</td>\n",
       "      <td>Blazers &amp; sport coats</td>\n",
       "      <td>Two button</td>\n",
       "      <td>https://www.mercari.com/us/item/m12366804668</td>\n",
       "      <td>2023-03-31 15:46:01+00:00</td>\n",
       "      <td>gs://genai-product-catalog/mercari_images_13K/...</td>\n",
       "      <td>{\"label_annotations\":[{\"description\":\"Coat\",\"m...</td>\n",
       "      <td>[Coat, Dress shirt, Sleeve, Collar, Beige, Sui...</td>\n",
       "      <td>[0.91480547, 0.89874458, 0.87245047, 0.8414382...</td>\n",
       "      <td>[0.0195784457, 0.0112889642, 0.0401406325, 0.0...</td>\n",
       "      <td>[0.0110642035, 0.0559370741, 0.0317789949, -0....</td>\n",
       "      <td>Name: \\n Beige Blazer for men \\n Description: ...</td>\n",
       "    </tr>\n",
       "  </tbody>\n",
       "</table>\n",
       "</div>"
      ],
      "text/plain": [
       "             id                                               name  \\\n",
       "0  m12610067624               NEW 18K White Gold Diamond Star Ring   \n",
       "1  m59423118287                 Blue Goldstone Cat Dangle Earrings   \n",
       "2  m34610767896  Graphic Tee olive green “I have standards”  po...   \n",
       "3  m41076032731   Original Large Dust Bag By Anuschka 20×23 inches   \n",
       "4  m12366804668                               Beige Blazer for men   \n",
       "\n",
       "                                         description     brand_name  \\\n",
       "0  *Condition: Brand New\\n*Color: silver\\n*Size 9...           None   \n",
       "1  Picturing Halloween Cat Dangle Earrings in Blu...           None   \n",
       "2  Comfortable olive green T-shirt, with a standa...  Graphic Image   \n",
       "3  Protect your beautiful Anuschka bags with this...       Anuschka   \n",
       "4  Bought from macys , no flaws. Good condition a...           None   \n",
       "\n",
       "  item_condition_name c0_name                c1_name     c2_name  \\\n",
       "0                 New   Women                Jewelry       Rings   \n",
       "1                 New   Women                Jewelry    Earrings   \n",
       "2                Good   Women         Tops & blouses    T-shirts   \n",
       "3                Good   Women                Jewelry   Necklaces   \n",
       "4                Good     Men  Blazers & sport coats  Two button   \n",
       "\n",
       "                                            url                   created  \\\n",
       "0  https://www.mercari.com/us/item/m12610067624 2023-02-21 17:37:04+00:00   \n",
       "1  https://www.mercari.com/us/item/m59423118287 2023-02-03 00:38:41+00:00   \n",
       "2  https://www.mercari.com/us/item/m34610767896 2023-03-22 05:14:06+00:00   \n",
       "3  https://www.mercari.com/us/item/m41076032731 2023-03-22 19:34:09+00:00   \n",
       "4  https://www.mercari.com/us/item/m12366804668 2023-03-31 15:46:01+00:00   \n",
       "\n",
       "                                           image_uri  \\\n",
       "0  gs://genai-product-catalog/mercari_images_13K/...   \n",
       "1  gs://genai-product-catalog/mercari_images_13K/...   \n",
       "2  gs://genai-product-catalog/mercari_images_13K/...   \n",
       "3  gs://genai-product-catalog/mercari_images_13K/...   \n",
       "4  gs://genai-product-catalog/mercari_images_13K/...   \n",
       "\n",
       "                                   vision_api_labels  \\\n",
       "0  {\"label_annotations\":[{\"description\":\"Body jew...   \n",
       "1  {\"label_annotations\":[{\"description\":\"Tablewar...   \n",
       "2  {\"label_annotations\":[{\"description\":\"Outerwea...   \n",
       "3  {\"label_annotations\":[{\"description\":\"Outerwea...   \n",
       "4  {\"label_annotations\":[{\"description\":\"Coat\",\"m...   \n",
       "\n",
       "                                          attributes  \\\n",
       "0  [Body jewelry, Nail polish, Nail care, Gesture...   \n",
       "1  [Tableware, Drinkware, Dishware, White, Cup, S...   \n",
       "2  [Outerwear, White, Product, Green, Textile, Sl...   \n",
       "3  [Outerwear, Neck, Sleeve, Beige, Grey, Collar,...   \n",
       "4  [Coat, Dress shirt, Sleeve, Collar, Beige, Sui...   \n",
       "\n",
       "                                              scores  \\\n",
       "0  [0.91691029, 0.88147002, 0.8530463, 0.85260487...   \n",
       "1  [0.97258216, 0.9511885, 0.93579447, 0.92186522...   \n",
       "2  [0.95814902, 0.92187059, 0.9082402, 0.89999574...   \n",
       "3  [0.95353466, 0.87349671, 0.87245047, 0.8585093...   \n",
       "4  [0.91480547, 0.89874458, 0.87245047, 0.8414382...   \n",
       "\n",
       "                                      text_embedding  \\\n",
       "0  [-0.000976339797, -0.0601668917, 0.0199702177,...   \n",
       "1  [0.000638937519, -0.0152516542, 0.0333747119, ...   \n",
       "2  [0.0109450063, -0.0285248049, 0.0105539858, 0....   \n",
       "3  [-0.0335553512, -0.0208099429, 0.0446037501, 0...   \n",
       "4  [0.0195784457, 0.0112889642, 0.0401406325, 0.0...   \n",
       "\n",
       "                                     image_embedding  \\\n",
       "0  [-0.0240825117, 0.0346781611, 0.00984610431, 0...   \n",
       "1  [-0.0131868711, -0.0164415222, -0.037639197, 0...   \n",
       "2  [-0.0201432034, 0.00758034224, 0.0410033315, 0...   \n",
       "3  [0.0186321586, 0.0211345907, 0.0135979643, 0.0...   \n",
       "4  [0.0110642035, 0.0559370741, 0.0317789949, -0....   \n",
       "\n",
       "                                                attr  \n",
       "0  Name: \\n NEW 18K White Gold Diamond Star Ring ...  \n",
       "1  Name: \\n Blue Goldstone Cat Dangle Earrings \\n...  \n",
       "2  Name: \\n Graphic Tee olive green “I have stand...  \n",
       "3  Name: \\n Original Large Dust Bag By Anuschka 2...  \n",
       "4  Name: \\n Beige Blazer for men \\n Description: ...  "
      ]
     },
     "execution_count": 34,
     "metadata": {},
     "output_type": "execute_result"
    }
   ],
   "source": [
    "df_train.head()"
   ]
  },
  {
   "cell_type": "code",
   "execution_count": 35,
   "id": "c448db97-b78c-446b-94b7-61b49e4fffe4",
   "metadata": {},
   "outputs": [
    {
     "name": "stdout",
     "output_type": "stream",
     "text": [
      "Training Data size: 13266\n",
      "Testing Data size: 141\n"
     ]
    }
   ],
   "source": [
    "print(\"Training Data size: \" + str(len(df_train)))\n",
    "print(\"Testing Data size: \" + str(len(df_test)))"
   ]
  },
  {
   "cell_type": "code",
   "execution_count": 36,
   "id": "4f0e2b7f-fb8d-485e-9e66-d99cced5ccba",
   "metadata": {},
   "outputs": [
    {
     "data": {
      "application/vnd.jupyter.widget-view+json": {
       "model_id": "2f4955f619e34f2e9830f5c4d7fd10b7",
       "version_major": 2,
       "version_minor": 0
      },
      "text/plain": [
       "Query is running:   0%|          |"
      ]
     },
     "metadata": {},
     "output_type": "display_data"
    },
    {
     "data": {
      "application/vnd.jupyter.widget-view+json": {
       "model_id": "fd81a3f700284284a3d733d8a2674f5e",
       "version_major": 2,
       "version_minor": 0
      },
      "text/plain": [
       "Downloading:   0%|          |"
      ]
     },
     "metadata": {},
     "output_type": "display_data"
    }
   ],
   "source": [
    "%%bigquery category_df\n",
    "select distinct(c0_name) from `solutions-2023-mar-107.mercari.13K_synthetic_attributes_embeddings`"
   ]
  },
  {
   "cell_type": "code",
   "execution_count": 37,
   "id": "688816ed-d776-4fb9-9ea0-f5bf1a454bba",
   "metadata": {},
   "outputs": [
    {
     "data": {
      "text/html": [
       "<div>\n",
       "<style scoped>\n",
       "    .dataframe tbody tr th:only-of-type {\n",
       "        vertical-align: middle;\n",
       "    }\n",
       "\n",
       "    .dataframe tbody tr th {\n",
       "        vertical-align: top;\n",
       "    }\n",
       "\n",
       "    .dataframe thead th {\n",
       "        text-align: right;\n",
       "    }\n",
       "</style>\n",
       "<table border=\"1\" class=\"dataframe\">\n",
       "  <thead>\n",
       "    <tr style=\"text-align: right;\">\n",
       "      <th></th>\n",
       "      <th>c0_name</th>\n",
       "    </tr>\n",
       "  </thead>\n",
       "  <tbody>\n",
       "    <tr>\n",
       "      <th>0</th>\n",
       "      <td>Home</td>\n",
       "    </tr>\n",
       "    <tr>\n",
       "      <th>1</th>\n",
       "      <td>Books</td>\n",
       "    </tr>\n",
       "    <tr>\n",
       "      <th>2</th>\n",
       "      <td>Toys &amp; Collectibles</td>\n",
       "    </tr>\n",
       "    <tr>\n",
       "      <th>3</th>\n",
       "      <td>Men</td>\n",
       "    </tr>\n",
       "    <tr>\n",
       "      <th>4</th>\n",
       "      <td>Women</td>\n",
       "    </tr>\n",
       "  </tbody>\n",
       "</table>\n",
       "</div>"
      ],
      "text/plain": [
       "               c0_name\n",
       "0                 Home\n",
       "1                Books\n",
       "2  Toys & Collectibles\n",
       "3                  Men\n",
       "4                Women"
      ]
     },
     "execution_count": 37,
     "metadata": {},
     "output_type": "execute_result"
    }
   ],
   "source": [
    "category_df.head()"
   ]
  },
  {
   "cell_type": "code",
   "execution_count": 38,
   "id": "6c4d2b87-d6d6-44aa-8341-6cae9b852f6a",
   "metadata": {},
   "outputs": [],
   "source": [
    "# create dictionary of categories with label id\n",
    "\n",
    "categories = {}\n",
    "category_id = 0\n",
    "for index, row in category_df.iterrows():\n",
    "    categories[row[CATEGORY_COL]] = index\n",
    "        \n",
    "ncategories = len(categories)"
   ]
  },
  {
   "cell_type": "markdown",
   "id": "a5435f2a-9168-4912-9acd-6a1c787a6d95",
   "metadata": {},
   "source": [
    "### NLP clean-up code"
   ]
  },
  {
   "cell_type": "code",
   "execution_count": 40,
   "id": "8238f785-78d2-4c29-bf18-70b0672ecfaa",
   "metadata": {},
   "outputs": [
    {
     "name": "stdout",
     "output_type": "stream",
     "text": [
      "2459\n",
      "solemio sleeveless solid man reversible sweatshirt price rs fitz blue sweat shirt wardrobe ensemble trendy embroidery chest zipped closure mark ribbed waistband cuff pouch pocket classic color scheme allow wear wide range separate relaxed fit free body movement brand red style statement design casual leisure team denim sneaker look uber cool material polyester cotton wash care bleach tumble dry use gentle machine warm iron company flagship sportswear active indian soul international outlook evolved sport activity gear dedicate enthusiast poise economic force come young people aware trend reflect spirited celebrity conscious sensibility decade disclaimer product slightly vary photographic lighting source monitor setting size kindly chart clarity\n",
      "754\n"
     ]
    }
   ],
   "source": [
    "import spacy\n",
    "import spacy_cleaner\n",
    "from spacy_cleaner.processing import removers, replacers, mutators\n",
    "\n",
    "MODEL = spacy.load(\"en_core_web_sm\")\n",
    "\n",
    "PROC_PIPELINE = spacy_cleaner.Cleaner(\n",
    "    MODEL,\n",
    "    replacers.replace_punctuation_token,\n",
    "    mutators.mutate_lemma_token,\n",
    "    removers.remove_stopword_token,\n",
    "\n",
    ")\n",
    "def parse_nlp(description) -> str:\n",
    "    doc = MODEL(description.lower())\n",
    "    lemmas = []\n",
    "    for token in doc:\n",
    "        if token.lemma_ not in lemmas and not token.is_stop and token.is_alpha:\n",
    "            lemmas.append(token.lemma_)\n",
    "\n",
    "    return \" \".join(lemmas)\n",
    "\n",
    "DESCRIPTION = \"Solemio Sleeveless Solid Men's Reversible Sweatshirt Price: Rs. 1,261 Fitz Blue Sweat Shirt is a must-have for any wardrobe. Ensemble with trendy embroidery on the chest and full zipped closure down front. It is marked with ribbed waistband, cuffs and two pouch pockets on the front. Classic color scheme allows you to wear this over a wide range of separates. Relaxed fit for free body movement. Brand: Fitz Color: Red Style Statement: Designed to be worn as casual as well as leisure wear. Team it with a denims and sneakers to look uber cool. Material: Polyester Cotton Wash Care: Do not bleach and tumble dry. Use gentle machine wash and gentle warm Iron. About the brand: FITZ is the company’s flagship sportswear and active wear brand with an Indian soul and international outlook. It is an evolved range of sports and activity gears dedicated to sports enthusiasts. The brand is poised to become an economic force when it comes to young people who are aware of style trends, sportswear designs reflected the spirited, celebrity-conscious sensibilities of the decade. Disclaimer: Product color may slightly vary due to photographic lighting sources or your monitor settings. Size varies from brand to brand. Kindly go through the size chart for more clarity. Fitz Blue Sweat Shirt is a must-have for any wardrobe. Ensemble with trendy embroidery on the chest and full zipped closure down front. It is marked with ribbed waistband, cuffs and two pouch pockets on the front. Classic color scheme allows you to wear this over a wide range of separates. Relaxed fit for free body movement. Brand: Fitz Color: Red Style Statement: Designed to be worn as casual as well as leisure wear. Team it with a denims and sneakers to look uber cool. Material: Polyester Cotton Wash Care: Do not bleach and tumble dry. Use gentle machine wash and gentle warm Iron. About the brand: FITZ is the company’s flagship sportswear and active wear brand with an Indian soul and international outlook. It is an evolved range of sports and activity gears dedicated to sports enthusiasts. The brand is poised to become an economic force when it comes to young people who are aware of style trends, sportswear designs reflected the spirited, celebrity-conscious sensibilities of the decade. Disclaimer: Product color may slightly vary due to photographic lighting sources or your monitor settings. Size varies from brand to brand. Kindly go through the size chart for more clarity.\"\n",
    "print(len(DESCRIPTION))\n",
    "\n",
    "print(parse_nlp(DESCRIPTION))\n",
    "print(len(parse_nlp(DESCRIPTION)))"
   ]
  },
  {
   "cell_type": "markdown",
   "id": "28737e38-4e52-4807-8f8b-173fd85e6004",
   "metadata": {},
   "source": [
    "### Build Data Format for Kesler's Construction"
   ]
  },
  {
   "cell_type": "code",
   "execution_count": null,
   "id": "80975cc7-f5c3-4b45-a497-bcc96a9f3e56",
   "metadata": {
    "tags": []
   },
   "outputs": [],
   "source": [
    "model = TextEmbeddingModel.from_pretrained(\"textembedding-gecko\")\n",
    "\n",
    "nfeatures=768\n",
    "\n",
    "# Convert data to Kesler's Construction\n",
    "def convert_to_vector(description, category_i):\n",
    "    x_vector = model.get_embeddings([description])[0].values\n",
    "    y_position = category_i\n",
    "    xy_vector = [0]*(y_position)*nfeatures + x_vector + [0]*(ncategories-(y_position+1))*nfeatures\n",
    "    if len(xy_vector) != nfeatures*ncategories:\n",
    "        print(\"Error processing one vector: \")\n",
    "        print(len(xy_vector))\n",
    "        print(len(x_vector))\n",
    "        return None\n",
    "    return (xy_vector)\n",
    "\n",
    "X_train = []\n",
    "y_train = []\n",
    "\n",
    "count = 0\n",
    "\n",
    "for index, row in df_train.iterrows():\n",
    "    \n",
    "    count+=1\n",
    "    if count%1000==0:\n",
    "        print (\"iter \" + str(count))\n",
    "    \n",
    "    # add positive example\n",
    "    category=categories[row[CATEGORY_COL]]\n",
    "    new_row = convert_to_vector(parse_nlp(row[\"description\"]),category)\n",
    "    if new_row is not None:\n",
    "        X_train.append(new_row)\n",
    "        y_train.append(1)\n",
    "                        \n",
    "    # add negative example\n",
    "    random_number=category                                                    \n",
    "    while random_number == category:\n",
    "        random_number = random.randint(0, ncategories-1)                                              \n",
    "    new_row = convert_to_vector(row[\"description\"],random_number)\n",
    "    if new_row is not None:\n",
    "        X_train.append(new_row)\n",
    "        y_train.append(0)\n",
    "    \n",
    "    # add another negative example\n",
    "    random_number=category                                                    \n",
    "    while random_number == category:\n",
    "        random_number = random.randint(0, ncategories-1)                                              \n",
    "    new_row = convert_to_vector(row[\"description\"],random_number)\n",
    "    if new_row is not None:\n",
    "        X_train.append(new_row)\n",
    "        y_train.append(0)\n"
   ]
  },
  {
   "cell_type": "markdown",
   "id": "4ad0ce12-0d54-4ad7-8e1f-ed7d8717d4df",
   "metadata": {},
   "source": [
    "## Model Development"
   ]
  },
  {
   "cell_type": "markdown",
   "id": "e4b37d6c-e483-4ca7-b814-2e445944d571",
   "metadata": {},
   "source": [
    "### Train Model"
   ]
  },
  {
   "cell_type": "code",
   "execution_count": 223,
   "id": "729344b0-714b-4f71-b078-12fcbc46073e",
   "metadata": {},
   "outputs": [],
   "source": [
    "#clf = MultinomialNB()\n",
    "clf = LogisticRegression(max_iter=100000)\n",
    "#clf = SGDClassifier(loss=\"log_loss\", penalty=\"l2\", alpha=0.0001, max_iter=3000, tol=None, shuffle=True, verbose=0, learning_rate='adaptive', eta0=0.01, early_stopping=False)"
   ]
  },
  {
   "cell_type": "code",
   "execution_count": 224,
   "id": "05a25443-f491-4949-a064-070a99de1a4c",
   "metadata": {},
   "outputs": [
    {
     "data": {
      "text/html": [
       "<style>#sk-container-id-12 {color: black;}#sk-container-id-12 pre{padding: 0;}#sk-container-id-12 div.sk-toggleable {background-color: white;}#sk-container-id-12 label.sk-toggleable__label {cursor: pointer;display: block;width: 100%;margin-bottom: 0;padding: 0.3em;box-sizing: border-box;text-align: center;}#sk-container-id-12 label.sk-toggleable__label-arrow:before {content: \"▸\";float: left;margin-right: 0.25em;color: #696969;}#sk-container-id-12 label.sk-toggleable__label-arrow:hover:before {color: black;}#sk-container-id-12 div.sk-estimator:hover label.sk-toggleable__label-arrow:before {color: black;}#sk-container-id-12 div.sk-toggleable__content {max-height: 0;max-width: 0;overflow: hidden;text-align: left;background-color: #f0f8ff;}#sk-container-id-12 div.sk-toggleable__content pre {margin: 0.2em;color: black;border-radius: 0.25em;background-color: #f0f8ff;}#sk-container-id-12 input.sk-toggleable__control:checked~div.sk-toggleable__content {max-height: 200px;max-width: 100%;overflow: auto;}#sk-container-id-12 input.sk-toggleable__control:checked~label.sk-toggleable__label-arrow:before {content: \"▾\";}#sk-container-id-12 div.sk-estimator input.sk-toggleable__control:checked~label.sk-toggleable__label {background-color: #d4ebff;}#sk-container-id-12 div.sk-label input.sk-toggleable__control:checked~label.sk-toggleable__label {background-color: #d4ebff;}#sk-container-id-12 input.sk-hidden--visually {border: 0;clip: rect(1px 1px 1px 1px);clip: rect(1px, 1px, 1px, 1px);height: 1px;margin: -1px;overflow: hidden;padding: 0;position: absolute;width: 1px;}#sk-container-id-12 div.sk-estimator {font-family: monospace;background-color: #f0f8ff;border: 1px dotted black;border-radius: 0.25em;box-sizing: border-box;margin-bottom: 0.5em;}#sk-container-id-12 div.sk-estimator:hover {background-color: #d4ebff;}#sk-container-id-12 div.sk-parallel-item::after {content: \"\";width: 100%;border-bottom: 1px solid gray;flex-grow: 1;}#sk-container-id-12 div.sk-label:hover label.sk-toggleable__label {background-color: #d4ebff;}#sk-container-id-12 div.sk-serial::before {content: \"\";position: absolute;border-left: 1px solid gray;box-sizing: border-box;top: 0;bottom: 0;left: 50%;z-index: 0;}#sk-container-id-12 div.sk-serial {display: flex;flex-direction: column;align-items: center;background-color: white;padding-right: 0.2em;padding-left: 0.2em;position: relative;}#sk-container-id-12 div.sk-item {position: relative;z-index: 1;}#sk-container-id-12 div.sk-parallel {display: flex;align-items: stretch;justify-content: center;background-color: white;position: relative;}#sk-container-id-12 div.sk-item::before, #sk-container-id-12 div.sk-parallel-item::before {content: \"\";position: absolute;border-left: 1px solid gray;box-sizing: border-box;top: 0;bottom: 0;left: 50%;z-index: -1;}#sk-container-id-12 div.sk-parallel-item {display: flex;flex-direction: column;z-index: 1;position: relative;background-color: white;}#sk-container-id-12 div.sk-parallel-item:first-child::after {align-self: flex-end;width: 50%;}#sk-container-id-12 div.sk-parallel-item:last-child::after {align-self: flex-start;width: 50%;}#sk-container-id-12 div.sk-parallel-item:only-child::after {width: 0;}#sk-container-id-12 div.sk-dashed-wrapped {border: 1px dashed gray;margin: 0 0.4em 0.5em 0.4em;box-sizing: border-box;padding-bottom: 0.4em;background-color: white;}#sk-container-id-12 div.sk-label label {font-family: monospace;font-weight: bold;display: inline-block;line-height: 1.2em;}#sk-container-id-12 div.sk-label-container {text-align: center;}#sk-container-id-12 div.sk-container {/* jupyter's `normalize.less` sets `[hidden] { display: none; }` but bootstrap.min.css set `[hidden] { display: none !important; }` so we also need the `!important` here to be able to override the default hidden behavior on the sphinx rendered scikit-learn.org. See: https://github.com/scikit-learn/scikit-learn/issues/21755 */display: inline-block !important;position: relative;}#sk-container-id-12 div.sk-text-repr-fallback {display: none;}</style><div id=\"sk-container-id-12\" class=\"sk-top-container\"><div class=\"sk-text-repr-fallback\"><pre>LogisticRegression(max_iter=100000)</pre><b>In a Jupyter environment, please rerun this cell to show the HTML representation or trust the notebook. <br />On GitHub, the HTML representation is unable to render, please try loading this page with nbviewer.org.</b></div><div class=\"sk-container\" hidden><div class=\"sk-item\"><div class=\"sk-estimator sk-toggleable\"><input class=\"sk-toggleable__control sk-hidden--visually\" id=\"sk-estimator-id-12\" type=\"checkbox\" checked><label for=\"sk-estimator-id-12\" class=\"sk-toggleable__label sk-toggleable__label-arrow\">LogisticRegression</label><div class=\"sk-toggleable__content\"><pre>LogisticRegression(max_iter=100000)</pre></div></div></div></div></div>"
      ],
      "text/plain": [
       "LogisticRegression(max_iter=100000)"
      ]
     },
     "execution_count": 224,
     "metadata": {},
     "output_type": "execute_result"
    }
   ],
   "source": [
    "# If training a new model from scratch:\n",
    "clf.fit(X_train, y_train)\n",
    "\n",
    "# Else, load from previously saved file\n",
    "#model = joblib.load('categorization_kesler.joblib')"
   ]
  },
  {
   "cell_type": "code",
   "execution_count": 225,
   "id": "2cd6a9a4-b63e-498d-9f3e-2acdc6ea9876",
   "metadata": {},
   "outputs": [
    {
     "data": {
      "text/plain": [
       "['categorization_kesler.joblib']"
      ]
     },
     "execution_count": 225,
     "metadata": {},
     "output_type": "execute_result"
    }
   ],
   "source": [
    "# Save the model\n",
    "joblib.dump(clf, 'categorization_kesler.joblib')"
   ]
  },
  {
   "cell_type": "markdown",
   "id": "cdcb08fe-93d1-4ebf-8ffe-5d90d5b0d0c4",
   "metadata": {},
   "source": [
    "### Model Prediction and Evaluation\n",
    "\n",
    "For each test sample we are going to find the category that provides the highest probability from the model. After running through each sample, we are going to run an evaluation of the accuracy."
   ]
  },
  {
   "cell_type": "code",
   "execution_count": 226,
   "id": "f5980318-4503-4046-bf2a-4e3781e8f308",
   "metadata": {},
   "outputs": [
    {
     "data": {
      "application/vnd.jupyter.widget-view+json": {
       "model_id": "48ca3433f79f4f0cbe45f41c532b9fc0",
       "version_major": 2,
       "version_minor": 0
      },
      "text/plain": [
       "  0%|          | 0/141 [00:00<?, ?it/s]"
      ]
     },
     "metadata": {},
     "output_type": "display_data"
    },
    {
     "name": "stdout",
     "output_type": "stream",
     "text": [
      "Accuracy: 0.15602836879432624\n",
      "f1: 0.10885054632275974\n"
     ]
    }
   ],
   "source": [
    "from sklearn.metrics import accuracy_score\n",
    "from sklearn.metrics import f1_score\n",
    "\n",
    "def predict(line):\n",
    "    picked_cat = -1\n",
    "    max_prob = 0\n",
    "    for key in categories:\n",
    "        pred = clf.predict_proba([convert_to_vector(line[\"text_embedding\"], categories[key])])[0][1]\n",
    "        if pred > max_prob:\n",
    "            max_prob = pred\n",
    "            picked_cat = key\n",
    "    return picked_cat\n",
    "\n",
    "#model accuracy\n",
    "df_test[\"predicted_category\"] = df_test.progress_apply(predict, axis=1)\n",
    "\n",
    "y_true = df_test[CATEGORY_COL].tolist()\n",
    "y_pred = df_test[\"predicted_category\"].tolist()\n",
    "\n",
    "print(f\"Accuracy: {accuracy_score(y_true, y_pred)}\")\n",
    "print(f\"f1: {f1_score(y_true, y_pred,average='weighted')}\")"
   ]
  },
  {
   "cell_type": "code",
   "execution_count": 227,
   "id": "1c7d62e2-f2a9-4900-b3bf-ba021dab70d6",
   "metadata": {},
   "outputs": [
    {
     "data": {
      "text/html": [
       "<div>\n",
       "<style scoped>\n",
       "    .dataframe tbody tr th:only-of-type {\n",
       "        vertical-align: middle;\n",
       "    }\n",
       "\n",
       "    .dataframe tbody tr th {\n",
       "        vertical-align: top;\n",
       "    }\n",
       "\n",
       "    .dataframe thead th {\n",
       "        text-align: right;\n",
       "    }\n",
       "</style>\n",
       "<table border=\"1\" class=\"dataframe\">\n",
       "  <thead>\n",
       "    <tr style=\"text-align: right;\">\n",
       "      <th>predicted_category</th>\n",
       "      <th>Toys &amp; Collectibles</th>\n",
       "      <th>Women</th>\n",
       "    </tr>\n",
       "    <tr>\n",
       "      <th>c0_name</th>\n",
       "      <th></th>\n",
       "      <th></th>\n",
       "    </tr>\n",
       "  </thead>\n",
       "  <tbody>\n",
       "    <tr>\n",
       "      <th>Beauty</th>\n",
       "      <td>2</td>\n",
       "      <td>2</td>\n",
       "    </tr>\n",
       "    <tr>\n",
       "      <th>Books</th>\n",
       "      <td>1</td>\n",
       "      <td>0</td>\n",
       "    </tr>\n",
       "    <tr>\n",
       "      <th>Electronics</th>\n",
       "      <td>11</td>\n",
       "      <td>0</td>\n",
       "    </tr>\n",
       "    <tr>\n",
       "      <th>Handmade</th>\n",
       "      <td>0</td>\n",
       "      <td>1</td>\n",
       "    </tr>\n",
       "    <tr>\n",
       "      <th>Home</th>\n",
       "      <td>8</td>\n",
       "      <td>4</td>\n",
       "    </tr>\n",
       "    <tr>\n",
       "      <th>Kids</th>\n",
       "      <td>8</td>\n",
       "      <td>2</td>\n",
       "    </tr>\n",
       "    <tr>\n",
       "      <th>Men</th>\n",
       "      <td>11</td>\n",
       "      <td>3</td>\n",
       "    </tr>\n",
       "    <tr>\n",
       "      <th>Office</th>\n",
       "      <td>1</td>\n",
       "      <td>0</td>\n",
       "    </tr>\n",
       "    <tr>\n",
       "      <th>Other</th>\n",
       "      <td>1</td>\n",
       "      <td>0</td>\n",
       "    </tr>\n",
       "    <tr>\n",
       "      <th>Toys &amp; Collectibles</th>\n",
       "      <td>14</td>\n",
       "      <td>5</td>\n",
       "    </tr>\n",
       "    <tr>\n",
       "      <th>Vintage &amp; collectibles</th>\n",
       "      <td>2</td>\n",
       "      <td>1</td>\n",
       "    </tr>\n",
       "    <tr>\n",
       "      <th>Women</th>\n",
       "      <td>56</td>\n",
       "      <td>8</td>\n",
       "    </tr>\n",
       "  </tbody>\n",
       "</table>\n",
       "</div>"
      ],
      "text/plain": [
       "predicted_category      Toys & Collectibles  Women\n",
       "c0_name                                           \n",
       "Beauty                                    2      2\n",
       "Books                                     1      0\n",
       "Electronics                              11      0\n",
       "Handmade                                  0      1\n",
       "Home                                      8      4\n",
       "Kids                                      8      2\n",
       "Men                                      11      3\n",
       "Office                                    1      0\n",
       "Other                                     1      0\n",
       "Toys & Collectibles                      14      5\n",
       "Vintage & collectibles                    2      1\n",
       "Women                                    56      8"
      ]
     },
     "execution_count": 227,
     "metadata": {},
     "output_type": "execute_result"
    }
   ],
   "source": [
    "import pandas as pd\n",
    "pd.crosstab(df_test[CATEGORY_COL], df_test['predicted_category'])"
   ]
  },
  {
   "cell_type": "markdown",
   "id": "5635cf84-8759-456b-9d6d-438e59b78c50",
   "metadata": {},
   "source": [
    "# Quick Thoughts\n",
    "\n",
    "Ultimately this algorithm is not learning the category representations well enough. I suspect that by increasing the dimensionality of the embeddings which likely will increase the amount of data needed for training. This dataset of 13K products is not unusual for a retailer but might be too small when dimensions are so large."
   ]
  },
  {
   "cell_type": "code",
   "execution_count": null,
   "id": "99bea66d-d992-45fc-98a1-27ad0417ca3e",
   "metadata": {},
   "outputs": [],
   "source": []
  }
 ],
 "metadata": {
  "environment": {
   "kernel": "conda-root-py",
   "name": "workbench-notebooks.m110",
   "type": "gcloud",
   "uri": "gcr.io/deeplearning-platform-release/workbench-notebooks:m110"
  },
  "kernelspec": {
   "display_name": "Python 3",
   "language": "python",
   "name": "conda-root-py"
  },
  "language_info": {
   "codemirror_mode": {
    "name": "ipython",
    "version": 3
   },
   "file_extension": ".py",
   "mimetype": "text/x-python",
   "name": "python",
   "nbconvert_exporter": "python",
   "pygments_lexer": "ipython3",
   "version": "3.10.12"
  }
 },
 "nbformat": 4,
 "nbformat_minor": 5
}
