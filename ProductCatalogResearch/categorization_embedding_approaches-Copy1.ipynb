{
 "cells": [
  {
   "cell_type": "markdown",
   "id": "0b214e61-a36a-4780-9bf9-fe6ae2cffe88",
   "metadata": {},
   "source": [
    "# Product Classification with Embedding Approaches"
   ]
  },
  {
   "cell_type": "markdown",
   "id": "bd0d1ff4-ff03-4e47-b80b-b6a0096fdf30",
   "metadata": {},
   "source": [
    "## Overview"
   ]
  },
  {
   "cell_type": "markdown",
   "id": "8742a2d2-16a8-4944-b357-5d4d500da524",
   "metadata": {},
   "source": [
    "This research is a continuation of the categorization-kesler-onevsrest notebook. The focus of this one is to use the one-vs-rest algorithm which performed quite well to test out the performance with a few embedding approaches:\n",
    "* text embedding\n",
    "* image embedding\n",
    "* text + image embedding"
   ]
  },
  {
   "cell_type": "markdown",
   "id": "b6c6d59e-5866-43b3-bf75-3edec26a602f",
   "metadata": {},
   "source": [
    "## Getting Started"
   ]
  },
  {
   "cell_type": "markdown",
   "id": "b67fefe0-c6fd-4d9b-b339-6e34cea29fd7",
   "metadata": {},
   "source": [
    "Authenticate your notebook environment (Colab only)\n",
    "If you are running this notebook on Google Colab, run the following cell to authenticate your environment. This step is not required if you are using Vertex AI Workbench."
   ]
  },
  {
   "cell_type": "code",
   "execution_count": 16,
   "id": "81357994-9cd4-47a7-8f9b-0bde8c056200",
   "metadata": {},
   "outputs": [],
   "source": [
    "import sys\n",
    "\n",
    "# Additional authentication is required for Google Colab\n",
    "if \"google.colab\" in sys.modules:\n",
    "    # Authenticate user to Google Cloud\n",
    "    from google.colab import auth\n",
    "\n",
    "    auth.authenticate_user()"
   ]
  },
  {
   "cell_type": "markdown",
   "id": "7ee9d48f-506d-4318-b3af-7a0b0a3d853b",
   "metadata": {},
   "source": [
    "### Define Google Cloud project information (Colab only)"
   ]
  },
  {
   "cell_type": "code",
   "execution_count": 17,
   "id": "250e9890-e90c-417b-bad6-01bc5539a5fa",
   "metadata": {},
   "outputs": [],
   "source": [
    "if \"google.colab\" in sys.modules:\n",
    "    # Define project information\n",
    "    PROJECT_ID = \"[your-project-id]\"  # @param {type:\"string\"}\n",
    "    LOCATION = \"us-central1\"  # @param {type:\"string\"}\n",
    "\n",
    "    # Initialize Vertex AI\n",
    "    import vertexai\n",
    "\n",
    "    vertexai.init(project=PROJECT_ID, location=LOCATION)"
   ]
  },
  {
   "cell_type": "markdown",
   "id": "77f73246-cf0b-473e-82db-5e0de225c78d",
   "metadata": {},
   "source": [
    "### Install and Import Packages"
   ]
  },
  {
   "cell_type": "code",
   "execution_count": 18,
   "id": "891d5fba-a380-4ba7-a15d-05c84b88dfca",
   "metadata": {},
   "outputs": [],
   "source": [
    "from sklearn.model_selection import train_test_split\n",
    "from sklearn.metrics import accuracy_score\n",
    "from sklearn.metrics import f1_score\n",
    "from sklearn.multiclass import OneVsRestClassifier\n",
    "from sklearn.linear_model import LogisticRegression\n",
    "import joblib\n",
    "import numpy as np"
   ]
  },
  {
   "cell_type": "markdown",
   "id": "4d27014e-0507-49ab-a033-8ee93e29f2f0",
   "metadata": {},
   "source": [
    "## Data Preparation"
   ]
  },
  {
   "cell_type": "code",
   "execution_count": 19,
   "id": "d8c909f8-1340-4e81-8bea-8050180c8733",
   "metadata": {
    "tags": []
   },
   "outputs": [
    {
     "data": {
      "application/vnd.jupyter.widget-view+json": {
       "model_id": "990cb442679b4533929966877012bf10",
       "version_major": 2,
       "version_minor": 0
      },
      "text/plain": [
       "Query is running:   0%|          |"
      ]
     },
     "metadata": {},
     "output_type": "display_data"
    },
    {
     "data": {
      "application/vnd.jupyter.widget-view+json": {
       "model_id": "e32a2273c6f44c33a5516e35902ab154",
       "version_major": 2,
       "version_minor": 0
      },
      "text/plain": [
       "Downloading:   0%|          |"
      ]
     },
     "metadata": {},
     "output_type": "display_data"
    }
   ],
   "source": [
    "%%bigquery df_test\n",
    "SELECT *, CONCAT('Name: \\n ', name, ' \\n ', \n",
    "                 \"Description: \\n \", description, ' \\n ',\n",
    "                 \"Labels: \\n \", TO_JSON_STRING(vision_api_labels)\n",
    "                ) as attr \n",
    "FROM solutions-2023-mar-107.mercari.13K_synthetic_attributes_embeddings \n",
    "WHERE id IN (\n",
    "    SELECT id FROM solutions-2023-mar-107.mercari.13K_synthetic_attributes_embeddings_golden_test\n",
    "    WHERE manual_validation = 1\n",
    ")\n",
    "AND rand() < 1.0"
   ]
  },
  {
   "cell_type": "code",
   "execution_count": 20,
   "id": "efbf8190-1dfe-4664-b2ab-0267b8ebb13d",
   "metadata": {},
   "outputs": [
    {
     "data": {
      "text/plain": [
       "116"
      ]
     },
     "execution_count": 20,
     "metadata": {},
     "output_type": "execute_result"
    }
   ],
   "source": [
    "len(df_test)"
   ]
  },
  {
   "cell_type": "code",
   "execution_count": 21,
   "id": "056953d3-b3d5-4440-9dc6-36fdec3962f3",
   "metadata": {},
   "outputs": [
    {
     "data": {
      "text/html": [
       "<div>\n",
       "<style scoped>\n",
       "    .dataframe tbody tr th:only-of-type {\n",
       "        vertical-align: middle;\n",
       "    }\n",
       "\n",
       "    .dataframe tbody tr th {\n",
       "        vertical-align: top;\n",
       "    }\n",
       "\n",
       "    .dataframe thead th {\n",
       "        text-align: right;\n",
       "    }\n",
       "</style>\n",
       "<table border=\"1\" class=\"dataframe\">\n",
       "  <thead>\n",
       "    <tr style=\"text-align: right;\">\n",
       "      <th></th>\n",
       "      <th>id</th>\n",
       "      <th>name</th>\n",
       "      <th>description</th>\n",
       "      <th>brand_name</th>\n",
       "      <th>item_condition_name</th>\n",
       "      <th>c0_name</th>\n",
       "      <th>c1_name</th>\n",
       "      <th>c2_name</th>\n",
       "      <th>url</th>\n",
       "      <th>created</th>\n",
       "      <th>image_uri</th>\n",
       "      <th>vision_api_labels</th>\n",
       "      <th>attributes</th>\n",
       "      <th>scores</th>\n",
       "      <th>text_embedding</th>\n",
       "      <th>image_embedding</th>\n",
       "      <th>attr</th>\n",
       "    </tr>\n",
       "  </thead>\n",
       "  <tbody>\n",
       "    <tr>\n",
       "      <th>0</th>\n",
       "      <td>m14193490298</td>\n",
       "      <td>Wooden Magnet/ Dot Art Acrylic Paint</td>\n",
       "      <td>Handfree painted mandalas in a thin wooden dis...</td>\n",
       "      <td>Handmade</td>\n",
       "      <td>New</td>\n",
       "      <td>Home</td>\n",
       "      <td>Artwork</td>\n",
       "      <td>Paintings</td>\n",
       "      <td>https://www.mercari.com/us/item/m14193490298</td>\n",
       "      <td>2023-02-06 04:48:31+00:00</td>\n",
       "      <td>gs://genai-product-catalog/mercari_images_13K/...</td>\n",
       "      <td>{\"label_annotations\":[{\"description\":\"Book\",\"m...</td>\n",
       "      <td>[Book, Art, Publication, Creative arts, Materi...</td>\n",
       "      <td>[0.87862146, 0.83368653, 0.81959659, 0.8156618...</td>\n",
       "      <td>[0.00826694351, 0.00405315682, 0.0570168681, -...</td>\n",
       "      <td>[0.0284959301, 0.0240893103, 0.017579874, -0.0...</td>\n",
       "      <td>Name: \\n Wooden Magnet/ Dot Art Acrylic Paint ...</td>\n",
       "    </tr>\n",
       "    <tr>\n",
       "      <th>1</th>\n",
       "      <td>m74667116621</td>\n",
       "      <td>POSTER PRINT: FUNHOUSE</td>\n",
       "      <td>ALL POSTER PRINTS ARE 11 X 17 INCHES (( GREAT ...</td>\n",
       "      <td>None</td>\n",
       "      <td>New</td>\n",
       "      <td>Home</td>\n",
       "      <td>Artwork</td>\n",
       "      <td>Posters</td>\n",
       "      <td>https://www.mercari.com/us/item/m74667116621</td>\n",
       "      <td>2023-01-25 07:01:14+00:00</td>\n",
       "      <td>gs://genai-product-catalog/mercari_images_13K/...</td>\n",
       "      <td>{\"label_annotations\":[{\"description\":\"Poster\",...</td>\n",
       "      <td>[Poster, Publication, Font, Art, Book cover, B...</td>\n",
       "      <td>[0.86772853, 0.83406168, 0.81918359, 0.6839227...</td>\n",
       "      <td>[-0.0161228031, -0.0427463576, -0.0123792794, ...</td>\n",
       "      <td>[-0.0586416498, 0.0408442616, -0.012638161, -0...</td>\n",
       "      <td>Name: \\n POSTER PRINT: FUNHOUSE \\n Description...</td>\n",
       "    </tr>\n",
       "    <tr>\n",
       "      <th>2</th>\n",
       "      <td>m21554068673</td>\n",
       "      <td>Athleta Elation Purple Velvet High Rise Tight ...</td>\n",
       "      <td>Athleta Elation Purple Blue Velvet Tight Leggi...</td>\n",
       "      <td>Athleta</td>\n",
       "      <td>Like new</td>\n",
       "      <td>Women</td>\n",
       "      <td>Athletic apparel</td>\n",
       "      <td>Athletic Leggings</td>\n",
       "      <td>https://www.mercari.com/us/item/m21554068673</td>\n",
       "      <td>2023-03-27 17:33:50+00:00</td>\n",
       "      <td>gs://genai-product-catalog/mercari_images_13K/...</td>\n",
       "      <td>{\"label_annotations\":[{\"description\":\"Arm\",\"mi...</td>\n",
       "      <td>[Arm, Shoulder, yoga pant, Leg, Active pants, ...</td>\n",
       "      <td>[0.94758928, 0.93993074, 0.93505448, 0.9231663...</td>\n",
       "      <td>[0.0108732795, -0.0630845651, 0.036399167, -0....</td>\n",
       "      <td>[0.0493304357, -0.0114150364, 0.0233411063, 0....</td>\n",
       "      <td>Name: \\n Athleta Elation Purple Velvet High Ri...</td>\n",
       "    </tr>\n",
       "  </tbody>\n",
       "</table>\n",
       "</div>"
      ],
      "text/plain": [
       "             id                                               name  \\\n",
       "0  m14193490298               Wooden Magnet/ Dot Art Acrylic Paint   \n",
       "1  m74667116621                             POSTER PRINT: FUNHOUSE   \n",
       "2  m21554068673  Athleta Elation Purple Velvet High Rise Tight ...   \n",
       "\n",
       "                                         description brand_name  \\\n",
       "0  Handfree painted mandalas in a thin wooden dis...   Handmade   \n",
       "1  ALL POSTER PRINTS ARE 11 X 17 INCHES (( GREAT ...       None   \n",
       "2  Athleta Elation Purple Blue Velvet Tight Leggi...    Athleta   \n",
       "\n",
       "  item_condition_name c0_name           c1_name            c2_name  \\\n",
       "0                 New    Home           Artwork          Paintings   \n",
       "1                 New    Home           Artwork            Posters   \n",
       "2            Like new   Women  Athletic apparel  Athletic Leggings   \n",
       "\n",
       "                                            url                   created  \\\n",
       "0  https://www.mercari.com/us/item/m14193490298 2023-02-06 04:48:31+00:00   \n",
       "1  https://www.mercari.com/us/item/m74667116621 2023-01-25 07:01:14+00:00   \n",
       "2  https://www.mercari.com/us/item/m21554068673 2023-03-27 17:33:50+00:00   \n",
       "\n",
       "                                           image_uri  \\\n",
       "0  gs://genai-product-catalog/mercari_images_13K/...   \n",
       "1  gs://genai-product-catalog/mercari_images_13K/...   \n",
       "2  gs://genai-product-catalog/mercari_images_13K/...   \n",
       "\n",
       "                                   vision_api_labels  \\\n",
       "0  {\"label_annotations\":[{\"description\":\"Book\",\"m...   \n",
       "1  {\"label_annotations\":[{\"description\":\"Poster\",...   \n",
       "2  {\"label_annotations\":[{\"description\":\"Arm\",\"mi...   \n",
       "\n",
       "                                          attributes  \\\n",
       "0  [Book, Art, Publication, Creative arts, Materi...   \n",
       "1  [Poster, Publication, Font, Art, Book cover, B...   \n",
       "2  [Arm, Shoulder, yoga pant, Leg, Active pants, ...   \n",
       "\n",
       "                                              scores  \\\n",
       "0  [0.87862146, 0.83368653, 0.81959659, 0.8156618...   \n",
       "1  [0.86772853, 0.83406168, 0.81918359, 0.6839227...   \n",
       "2  [0.94758928, 0.93993074, 0.93505448, 0.9231663...   \n",
       "\n",
       "                                      text_embedding  \\\n",
       "0  [0.00826694351, 0.00405315682, 0.0570168681, -...   \n",
       "1  [-0.0161228031, -0.0427463576, -0.0123792794, ...   \n",
       "2  [0.0108732795, -0.0630845651, 0.036399167, -0....   \n",
       "\n",
       "                                     image_embedding  \\\n",
       "0  [0.0284959301, 0.0240893103, 0.017579874, -0.0...   \n",
       "1  [-0.0586416498, 0.0408442616, -0.012638161, -0...   \n",
       "2  [0.0493304357, -0.0114150364, 0.0233411063, 0....   \n",
       "\n",
       "                                                attr  \n",
       "0  Name: \\n Wooden Magnet/ Dot Art Acrylic Paint ...  \n",
       "1  Name: \\n POSTER PRINT: FUNHOUSE \\n Description...  \n",
       "2  Name: \\n Athleta Elation Purple Velvet High Ri...  "
      ]
     },
     "execution_count": 21,
     "metadata": {},
     "output_type": "execute_result"
    }
   ],
   "source": [
    "df_test.head(3)"
   ]
  },
  {
   "cell_type": "code",
   "execution_count": 22,
   "id": "b48a0d7e-7d3c-4122-98b1-7ce6a098cdff",
   "metadata": {},
   "outputs": [
    {
     "data": {
      "application/vnd.jupyter.widget-view+json": {
       "model_id": "38e46826581d46d5929243f907dbe6ee",
       "version_major": 2,
       "version_minor": 0
      },
      "text/plain": [
       "Query is running:   0%|          |"
      ]
     },
     "metadata": {},
     "output_type": "display_data"
    },
    {
     "data": {
      "application/vnd.jupyter.widget-view+json": {
       "model_id": "2bde4e33492549208332c84305c33fcd",
       "version_major": 2,
       "version_minor": 0
      },
      "text/plain": [
       "Downloading:   0%|          |"
      ]
     },
     "metadata": {},
     "output_type": "display_data"
    }
   ],
   "source": [
    "%%bigquery df_train\n",
    "SELECT *, CONCAT('Name: \\n ', name, ' \\n ', \n",
    "                 \"Description: \\n \", description, ' \\n ',\n",
    "                 \"Labels: \\n \", TO_JSON_STRING(vision_api_labels)\n",
    "                ) as attr \n",
    "FROM solutions-2023-mar-107.mercari.13K_synthetic_attributes_embeddings \n",
    "WHERE id NOT IN (\n",
    "    SELECT id FROM solutions-2023-mar-107.mercari.13K_synthetic_attributes_embeddings_golden_test\n",
    "    WHERE manual_validation = 1\n",
    ")\n",
    "AND rand() < 1.0"
   ]
  },
  {
   "cell_type": "code",
   "execution_count": 23,
   "id": "8b601485-50fc-4d09-9add-7a6837ba6101",
   "metadata": {},
   "outputs": [
    {
     "data": {
      "text/plain": [
       "13334"
      ]
     },
     "execution_count": 23,
     "metadata": {},
     "output_type": "execute_result"
    }
   ],
   "source": [
    "len(df_train)"
   ]
  },
  {
   "cell_type": "code",
   "execution_count": 24,
   "id": "a8e69042-9fbf-491e-8ee7-acf8cde7cc1a",
   "metadata": {},
   "outputs": [
    {
     "data": {
      "text/html": [
       "<div>\n",
       "<style scoped>\n",
       "    .dataframe tbody tr th:only-of-type {\n",
       "        vertical-align: middle;\n",
       "    }\n",
       "\n",
       "    .dataframe tbody tr th {\n",
       "        vertical-align: top;\n",
       "    }\n",
       "\n",
       "    .dataframe thead th {\n",
       "        text-align: right;\n",
       "    }\n",
       "</style>\n",
       "<table border=\"1\" class=\"dataframe\">\n",
       "  <thead>\n",
       "    <tr style=\"text-align: right;\">\n",
       "      <th></th>\n",
       "      <th>id</th>\n",
       "      <th>name</th>\n",
       "      <th>description</th>\n",
       "      <th>brand_name</th>\n",
       "      <th>item_condition_name</th>\n",
       "      <th>c0_name</th>\n",
       "      <th>c1_name</th>\n",
       "      <th>c2_name</th>\n",
       "      <th>url</th>\n",
       "      <th>created</th>\n",
       "      <th>image_uri</th>\n",
       "      <th>vision_api_labels</th>\n",
       "      <th>attributes</th>\n",
       "      <th>scores</th>\n",
       "      <th>text_embedding</th>\n",
       "      <th>image_embedding</th>\n",
       "      <th>attr</th>\n",
       "    </tr>\n",
       "  </thead>\n",
       "  <tbody>\n",
       "    <tr>\n",
       "      <th>0</th>\n",
       "      <td>m99111169561</td>\n",
       "      <td>Yuji Itadori Funko FYE Exclusive</td>\n",
       "      <td>Yuji Itadori Funko FYE Exclusive</td>\n",
       "      <td>Funko</td>\n",
       "      <td>New</td>\n",
       "      <td>Toys &amp; Collectibles</td>\n",
       "      <td>Collectibles &amp; Hobbies</td>\n",
       "      <td>Bobbleheads</td>\n",
       "      <td>https://www.mercari.com/us/item/m99111169561</td>\n",
       "      <td>2023-01-08 18:54:11+00:00</td>\n",
       "      <td>gs://genai-product-catalog/mercari_images_13K/...</td>\n",
       "      <td>{\"label_annotations\":[{\"description\":\"Toy\",\"mi...</td>\n",
       "      <td>[Toy, Cartoon, Font, Fictional character, Doll...</td>\n",
       "      <td>[0.9178822, 0.90057594, 0.79287237, 0.68645483...</td>\n",
       "      <td>[-0.00359338149, -0.0278339051, 0.000319481536...</td>\n",
       "      <td>[-0.0249901433, 0.00174266251, -0.00305463048,...</td>\n",
       "      <td>Name: \\n Yuji Itadori Funko FYE Exclusive \\n D...</td>\n",
       "    </tr>\n",
       "    <tr>\n",
       "      <th>1</th>\n",
       "      <td>m45103180434</td>\n",
       "      <td>NWT Ann Taylor size xsp dress</td>\n",
       "      <td>Top to bottom-34”\\nArmpit to armpit-15.5”\\n#14</td>\n",
       "      <td>Ann Taylor</td>\n",
       "      <td>New</td>\n",
       "      <td>Women</td>\n",
       "      <td>Dresses</td>\n",
       "      <td>Above knee, mini</td>\n",
       "      <td>https://www.mercari.com/us/item/m45103180434</td>\n",
       "      <td>2023-01-03 03:37:19+00:00</td>\n",
       "      <td>gs://genai-product-catalog/mercari_images_13K/...</td>\n",
       "      <td>{\"label_annotations\":[{\"description\":\"White\",\"...</td>\n",
       "      <td>[White, Black, Textile, Sleeve, Grey, Pattern,...</td>\n",
       "      <td>[0.92187405, 0.89741337, 0.87661022, 0.8724504...</td>\n",
       "      <td>[0.0405451693, -0.049278032, -0.00647369912, -...</td>\n",
       "      <td>[0.0268896949, 0.0488708913, 0.0202537514, -0....</td>\n",
       "      <td>Name: \\n NWT Ann Taylor size xsp dress \\n Desc...</td>\n",
       "    </tr>\n",
       "    <tr>\n",
       "      <th>2</th>\n",
       "      <td>m64663927933</td>\n",
       "      <td>Old Navy Hoodie</td>\n",
       "      <td>Light pink size small old navy hoodie \\nNever ...</td>\n",
       "      <td>Old Navy</td>\n",
       "      <td>Like new</td>\n",
       "      <td>Women</td>\n",
       "      <td>Sweaters</td>\n",
       "      <td>Hooded</td>\n",
       "      <td>https://www.mercari.com/us/item/m64663927933</td>\n",
       "      <td>2023-03-13 20:30:01+00:00</td>\n",
       "      <td>gs://genai-product-catalog/mercari_images_13K/...</td>\n",
       "      <td>{\"label_annotations\":[{\"description\":\"Green\",\"...</td>\n",
       "      <td>[Green, Textile, Sleeve, Collar, Grey, Dress s...</td>\n",
       "      <td>[0.91382557, 0.87614417, 0.87245047, 0.8409993...</td>\n",
       "      <td>[-0.0330498442, -0.0371705927, -0.00108811446,...</td>\n",
       "      <td>[0.000557975844, 0.0179716274, 0.00222408748, ...</td>\n",
       "      <td>Name: \\n Old Navy Hoodie \\n Description: \\n Li...</td>\n",
       "    </tr>\n",
       "  </tbody>\n",
       "</table>\n",
       "</div>"
      ],
      "text/plain": [
       "             id                              name  \\\n",
       "0  m99111169561  Yuji Itadori Funko FYE Exclusive   \n",
       "1  m45103180434     NWT Ann Taylor size xsp dress   \n",
       "2  m64663927933                   Old Navy Hoodie   \n",
       "\n",
       "                                         description  brand_name  \\\n",
       "0                   Yuji Itadori Funko FYE Exclusive       Funko   \n",
       "1     Top to bottom-34”\\nArmpit to armpit-15.5”\\n#14  Ann Taylor   \n",
       "2  Light pink size small old navy hoodie \\nNever ...    Old Navy   \n",
       "\n",
       "  item_condition_name              c0_name                 c1_name  \\\n",
       "0                 New  Toys & Collectibles  Collectibles & Hobbies   \n",
       "1                 New                Women                 Dresses   \n",
       "2            Like new                Women                Sweaters   \n",
       "\n",
       "            c2_name                                           url  \\\n",
       "0       Bobbleheads  https://www.mercari.com/us/item/m99111169561   \n",
       "1  Above knee, mini  https://www.mercari.com/us/item/m45103180434   \n",
       "2            Hooded  https://www.mercari.com/us/item/m64663927933   \n",
       "\n",
       "                    created  \\\n",
       "0 2023-01-08 18:54:11+00:00   \n",
       "1 2023-01-03 03:37:19+00:00   \n",
       "2 2023-03-13 20:30:01+00:00   \n",
       "\n",
       "                                           image_uri  \\\n",
       "0  gs://genai-product-catalog/mercari_images_13K/...   \n",
       "1  gs://genai-product-catalog/mercari_images_13K/...   \n",
       "2  gs://genai-product-catalog/mercari_images_13K/...   \n",
       "\n",
       "                                   vision_api_labels  \\\n",
       "0  {\"label_annotations\":[{\"description\":\"Toy\",\"mi...   \n",
       "1  {\"label_annotations\":[{\"description\":\"White\",\"...   \n",
       "2  {\"label_annotations\":[{\"description\":\"Green\",\"...   \n",
       "\n",
       "                                          attributes  \\\n",
       "0  [Toy, Cartoon, Font, Fictional character, Doll...   \n",
       "1  [White, Black, Textile, Sleeve, Grey, Pattern,...   \n",
       "2  [Green, Textile, Sleeve, Collar, Grey, Dress s...   \n",
       "\n",
       "                                              scores  \\\n",
       "0  [0.9178822, 0.90057594, 0.79287237, 0.68645483...   \n",
       "1  [0.92187405, 0.89741337, 0.87661022, 0.8724504...   \n",
       "2  [0.91382557, 0.87614417, 0.87245047, 0.8409993...   \n",
       "\n",
       "                                      text_embedding  \\\n",
       "0  [-0.00359338149, -0.0278339051, 0.000319481536...   \n",
       "1  [0.0405451693, -0.049278032, -0.00647369912, -...   \n",
       "2  [-0.0330498442, -0.0371705927, -0.00108811446,...   \n",
       "\n",
       "                                     image_embedding  \\\n",
       "0  [-0.0249901433, 0.00174266251, -0.00305463048,...   \n",
       "1  [0.0268896949, 0.0488708913, 0.0202537514, -0....   \n",
       "2  [0.000557975844, 0.0179716274, 0.00222408748, ...   \n",
       "\n",
       "                                                attr  \n",
       "0  Name: \\n Yuji Itadori Funko FYE Exclusive \\n D...  \n",
       "1  Name: \\n NWT Ann Taylor size xsp dress \\n Desc...  \n",
       "2  Name: \\n Old Navy Hoodie \\n Description: \\n Li...  "
      ]
     },
     "execution_count": 24,
     "metadata": {},
     "output_type": "execute_result"
    }
   ],
   "source": [
    "df_train.head(3)"
   ]
  },
  {
   "cell_type": "code",
   "execution_count": 25,
   "id": "66837ee9-bc3a-4ad8-b060-3a8e2de77025",
   "metadata": {},
   "outputs": [
    {
     "data": {
      "application/vnd.jupyter.widget-view+json": {
       "model_id": "2712753cd1e54bdeb38c13f59e8d369e",
       "version_major": 2,
       "version_minor": 0
      },
      "text/plain": [
       "Query is running:   0%|          |"
      ]
     },
     "metadata": {},
     "output_type": "display_data"
    },
    {
     "data": {
      "application/vnd.jupyter.widget-view+json": {
       "model_id": "1a834bf4c8fe4a5786d6e585bd33653b",
       "version_major": 2,
       "version_minor": 0
      },
      "text/plain": [
       "Downloading:   0%|          |"
      ]
     },
     "metadata": {},
     "output_type": "display_data"
    }
   ],
   "source": [
    "%%bigquery category_df\n",
    "select c0_name, c1_name, c2_name from `solutions-2023-mar-107.mercari.13K_synthetic_attributes_embeddings`\n",
    "group by c0_name, c1_name, c2_name"
   ]
  },
  {
   "cell_type": "code",
   "execution_count": 26,
   "id": "f10cfb4c-1976-4739-9913-d14250326dde",
   "metadata": {},
   "outputs": [],
   "source": [
    "def get_category_name(row):\n",
    "    if row[\"c2_name\"] is None:\n",
    "        cat_name = row[\"c0_name\"]+\">\"+row[\"c1_name\"]+\">\"+\"Other\"\n",
    "    else:\n",
    "        cat_name = row[\"c0_name\"]+\">\"+row[\"c1_name\"]+\">\"+row[\"c2_name\"]\n",
    "    return cat_name\n",
    "\n",
    "df_train[\"category\"] = df_train.apply(lambda x: get_category_name(x), axis=1)\n",
    "df_test[\"category\"] = df_test.apply(lambda x: get_category_name(x), axis=1)\n"
   ]
  },
  {
   "cell_type": "markdown",
   "id": "32bb69c5-7629-4d44-803f-0c72ff9c2ad8",
   "metadata": {},
   "source": [
    "## Data Modeling"
   ]
  },
  {
   "cell_type": "code",
   "execution_count": 27,
   "id": "b4d6bf3a-8427-434a-9387-4347a5f0f84f",
   "metadata": {
    "tags": []
   },
   "outputs": [],
   "source": [
    "base_lr = LogisticRegression()\n",
    "model_combemb = OneVsRestClassifier(base_lr)\n",
    "model_textemb = OneVsRestClassifier(base_lr)\n",
    "model_imageemb = OneVsRestClassifier(base_lr)"
   ]
  },
  {
   "cell_type": "code",
   "execution_count": 28,
   "id": "dbd60ab8-d012-400f-8a7d-6ab1eab6ff6f",
   "metadata": {},
   "outputs": [
    {
     "data": {
      "text/plain": [
       "['model_textemb.pkl']"
      ]
     },
     "execution_count": 28,
     "metadata": {},
     "output_type": "execute_result"
    }
   ],
   "source": [
    "# text embedding\n",
    "model_textemb.fit(df_train[\"text_embedding\"].tolist(), df_train[\"category\"].tolist())\n",
    "joblib.dump(model_textemb, 'model_textemb.pkl')"
   ]
  },
  {
   "cell_type": "code",
   "execution_count": null,
   "id": "12218e13-f8bc-4a5c-b1d1-74f97dca0252",
   "metadata": {},
   "outputs": [
    {
     "data": {
      "text/plain": [
       "['model_imageemb.pkl']"
      ]
     },
     "execution_count": 29,
     "metadata": {},
     "output_type": "execute_result"
    }
   ],
   "source": [
    "# image embedding model\n",
    "model_imageemb.fit(df_train[\"image_embedding\"].tolist(), df_train[\"category\"].tolist())\n",
    "joblib.dump(model_textemb, 'model_imageemb.pkl')"
   ]
  },
  {
   "cell_type": "code",
   "execution_count": null,
   "id": "63f5ef19-0218-407d-9e1f-28c0f3139c10",
   "metadata": {},
   "outputs": [
    {
     "data": {
      "text/plain": [
       "['model_combemb.pkl']"
      ]
     },
     "execution_count": 30,
     "metadata": {},
     "output_type": "execute_result"
    }
   ],
   "source": [
    "# image + text embedding\n",
    "df_train[\"comb_embedding\"] = df_train.apply(lambda x: x[\"text_embedding\"].tolist()+x[\"image_embedding\"].tolist(), axis=1)\n",
    "model_combemb.fit(df_train[\"comb_embedding\"].tolist(), df_train[\"category\"].tolist())\n",
    "joblib.dump(model_combemb, 'model_combemb.pkl')"
   ]
  },
  {
   "cell_type": "code",
   "execution_count": 35,
   "id": "8eb8c6e1-9df0-47fe-8115-8223225badb6",
   "metadata": {
    "tags": []
   },
   "outputs": [],
   "source": [
    "# if model training has already been run and saved\n",
    "#model_textemb = joblib.load('model_textemb.pkl')\n",
    "#model_imageemb = joblib.load('model_imageemb.pkl')\n",
    "#model_combemb = joblib.load('model_combemb.pkl')"
   ]
  },
  {
   "cell_type": "markdown",
   "id": "20ae4645-07f9-41a1-8e42-e650be2d0141",
   "metadata": {},
   "source": [
    "## Data Evaluation"
   ]
  },
  {
   "cell_type": "markdown",
   "id": "61c75695-6b84-44a5-bbab-4d7910c46368",
   "metadata": {},
   "source": [
    "We come up with a hierarchical metric that takes into account all level of the product category hierarchy. For example if you get level one correct then you get 1/3 score. If you get level two correct then you get another 2/3 score. And if you get the bottom level correct you get a 1 score.  "
   ]
  },
  {
   "cell_type": "code",
   "execution_count": null,
   "id": "15664b86-3555-4aee-bd1d-062edd193936",
   "metadata": {},
   "outputs": [
    {
     "name": "stderr",
     "output_type": "stream",
     "text": [
      "/var/tmp/ipykernel_3209/2156549305.py:38: SettingWithCopyWarning: \n",
      "A value is trying to be set on a copy of a slice from a DataFrame.\n",
      "Try using .loc[row_indexer,col_indexer] = value instead\n",
      "\n",
      "See the caveats in the documentation: https://pandas.pydata.org/pandas-docs/stable/user_guide/indexing.html#returning-a-view-versus-a-copy\n",
      "  x[\"pred\"] = model_combemb.predict(x[\"comb_embedding\"].tolist())\n"
     ]
    },
    {
     "data": {
      "text/plain": [
       "0.5333333333333333"
      ]
     },
     "execution_count": 31,
     "metadata": {},
     "output_type": "execute_result"
    }
   ],
   "source": [
    "# hierarchical classification\n",
    "\n",
    "def get_hierarchical_score(y_pred, y_true):\n",
    "    \n",
    "    if len(y_pred) !=len(y_true):\n",
    "        print(\"erro: y_pred and y_true should have the same length\")\n",
    "        return None\n",
    "    \n",
    "    scores = []\n",
    "    \n",
    "    def get_score(first_cat ,second_cat):\n",
    "        first_ls = first_cat.split(\">\")\n",
    "        second_ls = second_cat.split(\">\")\n",
    "        if len(first_ls) != 3 or len(second_ls) != 3:\n",
    "            print(\"error: category does not have 3 levels\")\n",
    "            return 0\n",
    "        \n",
    "        score=0\n",
    "        \n",
    "        if first_ls[0] == second_ls[0]:\n",
    "            score += 1/3\n",
    "        if first_ls[1] == second_ls[1]:\n",
    "            score += 1/3\n",
    "        if first_ls[2] == second_ls[2]:\n",
    "            score += 1/3\n",
    "\n",
    "        return score\n",
    "    \n",
    "    for i in range(0,len(y_pred)):\n",
    "        scores.append(get_score(y_pred[i], y_true[i]))\n",
    "                      \n",
    "    return np.mean(scores)\n",
    "\n",
    "df_test[\"comb_embedding\"] = df_test.apply(lambda x: x[\"text_embedding\"].tolist()+x[\"image_embedding\"].tolist(), axis=1)\n",
    "\n",
    "# test one item\n",
    "x = df_test.iloc[0:5]\n",
    "x[\"pred\"] = model_combemb.predict(x[\"comb_embedding\"].tolist())\n",
    "get_hierarchical_score(x[\"category\"].tolist(),x[\"pred\"].tolist())"
   ]
  },
  {
   "cell_type": "markdown",
   "id": "e20fda57-5be0-4f5c-98d6-194036b86ed2",
   "metadata": {},
   "source": [
    "### Combined Text + Image Embedding"
   ]
  },
  {
   "cell_type": "code",
   "execution_count": null,
   "id": "7aa1cefe-a301-49ca-bbe4-079d28d35db6",
   "metadata": {},
   "outputs": [
    {
     "name": "stdout",
     "output_type": "stream",
     "text": [
      "Hierarchical Score: 0.7586206896551724\n",
      "Accuracy: 0.5689655172413793\n",
      "f1: 0.6171358335151438\n"
     ]
    }
   ],
   "source": [
    "df_test[\"predicted_category\"] = model_combemb.predict(df_test[\"comb_embedding\"].tolist())\n",
    "\n",
    "y_true = df_test[\"category\"].tolist()\n",
    "y_pred = df_test[\"predicted_category\"].tolist()\n",
    "\n",
    "print(\"Hierarchical Score: \" + str(get_hierarchical_score(y_pred, y_true)))\n",
    "print(\"Accuracy: \" + str(accuracy_score(y_pred, y_true)))\n",
    "print(\"f1: \" + str(f1_score(y_pred, y_true,average='weighted')))"
   ]
  },
  {
   "cell_type": "markdown",
   "id": "2fddb151-c343-4fef-8c2c-aac8af615b5c",
   "metadata": {},
   "source": [
    "### Image Embedding"
   ]
  },
  {
   "cell_type": "code",
   "execution_count": null,
   "id": "e9ab2c8d-ae62-4c57-bcf3-b9e2e438f199",
   "metadata": {},
   "outputs": [
    {
     "name": "stdout",
     "output_type": "stream",
     "text": [
      "Hierarchical Score: 0.7241379310344828\n",
      "Accuracy: 0.5258620689655172\n",
      "f1: 0.5772132082476911\n"
     ]
    }
   ],
   "source": [
    "df_test[\"predicted_category\"] = model_imageemb.predict(df_test[\"image_embedding\"].tolist())\n",
    "\n",
    "y_true = df_test[\"category\"].tolist()\n",
    "y_pred = df_test[\"predicted_category\"].tolist()\n",
    "\n",
    "print(\"Hierarchical Score: \" + str(get_hierarchical_score(y_pred, y_true)))\n",
    "print(\"Accuracy: \" + str(accuracy_score(y_pred, y_true)))\n",
    "print(\"f1: \" + str(f1_score(y_pred, y_true,average='weighted')))"
   ]
  },
  {
   "cell_type": "markdown",
   "id": "ddbcb8fe-51aa-42e5-9653-8259817e1672",
   "metadata": {},
   "source": [
    "### Text Embedding"
   ]
  },
  {
   "cell_type": "code",
   "execution_count": null,
   "id": "7bf666cd-1157-4d0c-8149-42a9a76e8f2e",
   "metadata": {},
   "outputs": [
    {
     "name": "stdout",
     "output_type": "stream",
     "text": [
      "Hierarchical Score: 0.6494252873563218\n",
      "Accuracy: 0.4482758620689655\n",
      "f1: 0.5222719808926706\n"
     ]
    }
   ],
   "source": [
    "df_test[\"predicted_category\"] = model_textemb.predict(df_test[\"text_embedding\"].tolist())\n",
    "\n",
    "y_true = df_test[\"category\"].tolist()\n",
    "y_pred = df_test[\"predicted_category\"].tolist()\n",
    "\n",
    "print(\"Hierarchical Score: \" + str(get_hierarchical_score(y_pred, y_true)))\n",
    "print(\"Accuracy: \" + str(accuracy_score(y_pred, y_true)))\n",
    "print(\"f1: \" + str(f1_score(y_pred, y_true,average='weighted')))"
   ]
  },
  {
   "cell_type": "markdown",
   "id": "b046f586-8080-40fc-9749-5c4db3e3a2ba",
   "metadata": {},
   "source": [
    "### Discussion"
   ]
  },
  {
   "cell_type": "markdown",
   "id": "cb8e062e-6532-4a57-996a-91468eb3a05f",
   "metadata": {},
   "source": [
    "There is a benefit to using a larger embedding space combining the text and the image!"
   ]
  },
  {
   "cell_type": "code",
   "execution_count": null,
   "id": "17881c87-2b1d-433b-9c73-03bd5ad91c83",
   "metadata": {},
   "outputs": [],
   "source": []
  }
 ],
 "metadata": {
  "environment": {
   "kernel": "conda-root-py",
   "name": "workbench-notebooks.m113",
   "type": "gcloud",
   "uri": "gcr.io/deeplearning-platform-release/workbench-notebooks:m113"
  },
  "kernelspec": {
   "display_name": "Python 3 (ipykernel) (Local)",
   "language": "python",
   "name": "conda-root-py"
  },
  "language_info": {
   "codemirror_mode": {
    "name": "ipython",
    "version": 3
   },
   "file_extension": ".py",
   "mimetype": "text/x-python",
   "name": "python",
   "nbconvert_exporter": "python",
   "pygments_lexer": "ipython3",
   "version": "3.10.13"
  }
 },
 "nbformat": 4,
 "nbformat_minor": 5
}
