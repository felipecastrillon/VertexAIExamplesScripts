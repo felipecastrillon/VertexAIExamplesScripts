{
 "cells": [
  {
   "cell_type": "markdown",
   "id": "a0ffc7c0-1d88-4a22-bdb7-543ba7713436",
   "metadata": {},
   "source": [
    "# Product Classification with Kesler's Construction and OneVsRest "
   ]
  },
  {
   "cell_type": "markdown",
   "id": "78ae7d1f-34a8-41da-827c-c16036a5865f",
   "metadata": {},
   "source": [
    "## Overview\n",
    "\n",
    "Retailers struggle with product catalog hygiene. If their products do not have the correct metadata information it will be very difficult for customers to surface those products on an ecommerce website. What's more it will also be difficult for internal associates to find these products for customers in their brick-and-mortar store. The difficulties of keeping a product catalog clean come from a few issues. One is that some catalogs may have thousands if not millions of products and maintaining data quality is a large endeavor. Second is that product metadata is manually typed by a manual process either internal or by external 3rd parties (i.e. a customer posting their products in an ecommerce marketplace). Often, these customers are not well versed on inserting the correct or the best metadata. Third is that data becomes stale and it is hard to maintain the data fresh for all of the products. These and many others make data quality such a large issue. \n",
    "\n",
    "\n",
    "This notebook is an attempt to solve one particular major issue related to product catalog hygiene: populating product catgories automatically. The method attempted here comes from a Machine Learning method called Kesler's Construction and is inspired by this [blog post by Shopify](https://shopify.engineering/categorizing-products-at-scale). The method has some advantages compared to traditional multi-label classification methods for a large number of categories. An obvious one is that it maintains simplicity by having to train and maintain one model as opposed to training and maintaing many models like the One-vs-All or One-vs-Rest methods. This also leads to lower computational complexity to serve the model at scale (thousands of categories). The disadvantage is that it requires a large amount of memory and we thus had to deploy a large machine to run this notebook (X GB of RAM). "
   ]
  },
  {
   "cell_type": "markdown",
   "id": "9fc1ec2b-acff-46fd-b101-c63507f3a932",
   "metadata": {
    "tags": []
   },
   "source": [
    "## Getting Started"
   ]
  },
  {
   "cell_type": "markdown",
   "id": "ddd0c706-3cfd-4f05-ba5d-c21eff8faecd",
   "metadata": {},
   "source": [
    "### Authenticate your notebook environment (Colab only)\n",
    "\n",
    "If you are running this notebook on Google Colab, run the following cell to authenticate your environment. This step is not required if you are using [Vertex AI Workbench](https://cloud.google.com/vertex-ai-workbench)."
   ]
  },
  {
   "cell_type": "code",
   "execution_count": null,
   "id": "04e26969-288a-40dd-bb5c-a52fcede63a2",
   "metadata": {},
   "outputs": [],
   "source": [
    "import sys\n",
    "\n",
    "# Additional authentication is required for Google Colab\n",
    "if \"google.colab\" in sys.modules:\n",
    "    # Authenticate user to Google Cloud\n",
    "    from google.colab import auth\n",
    "\n",
    "    auth.authenticate_user()"
   ]
  },
  {
   "cell_type": "markdown",
   "id": "d85733fe-42b2-4d8e-a2c3-612eb928895b",
   "metadata": {},
   "source": [
    "### Define Google Cloud project information (Colab only)"
   ]
  },
  {
   "cell_type": "code",
   "execution_count": null,
   "id": "8b9c5082-5022-437a-8d17-0acfb581784a",
   "metadata": {},
   "outputs": [],
   "source": [
    "if \"google.colab\" in sys.modules:\n",
    "    # Define project information\n",
    "    PROJECT_ID = \"[your-project-id]\"  # @param {type:\"string\"}\n",
    "    LOCATION = \"us-central1\"  # @param {type:\"string\"}\n",
    "\n",
    "    # Initialize Vertex AI\n",
    "    import vertexai\n",
    "\n",
    "    vertexai.init(project=PROJECT_ID, location=LOCATION)"
   ]
  },
  {
   "cell_type": "markdown",
   "id": "c1db6726-712d-4cff-afb2-0cbaed3965b6",
   "metadata": {},
   "source": [
    "### Install and Import Packages"
   ]
  },
  {
   "cell_type": "code",
   "execution_count": 26,
   "id": "bc6577f1-3be8-4121-9c3b-86a8484fa470",
   "metadata": {},
   "outputs": [
    {
     "name": "stdout",
     "output_type": "stream",
     "text": [
      "\u001b[33mWARNING: Ignoring invalid distribution -roto-plus (/opt/conda/lib/python3.10/site-packages)\u001b[0m\u001b[33m\n",
      "\u001b[0m\u001b[33mWARNING: Ignoring invalid distribution -rotobuf (/opt/conda/lib/python3.10/site-packages)\u001b[0m\u001b[33m\n",
      "\u001b[0m\u001b[33mWARNING: Ignoring invalid distribution -roto-plus (/opt/conda/lib/python3.10/site-packages)\u001b[0m\u001b[33m\n",
      "\u001b[0m\u001b[33mWARNING: Ignoring invalid distribution -rotobuf (/opt/conda/lib/python3.10/site-packages)\u001b[0m\u001b[33m\n",
      "\u001b[0m"
     ]
    }
   ],
   "source": [
    "!pip install spacy -q"
   ]
  },
  {
   "cell_type": "code",
   "execution_count": 27,
   "id": "c098edcf-3026-4a8c-b172-2898fc8a7ae9",
   "metadata": {},
   "outputs": [
    {
     "name": "stdout",
     "output_type": "stream",
     "text": [
      "\u001b[33mWARNING: Ignoring invalid distribution -roto-plus (/opt/conda/lib/python3.10/site-packages)\u001b[0m\u001b[33m\n",
      "\u001b[0m\u001b[33mWARNING: Ignoring invalid distribution -rotobuf (/opt/conda/lib/python3.10/site-packages)\u001b[0m\u001b[33m\n",
      "\u001b[0m\u001b[33mWARNING: Ignoring invalid distribution -roto-plus (/opt/conda/lib/python3.10/site-packages)\u001b[0m\u001b[33m\n",
      "\u001b[0m\u001b[33mWARNING: Ignoring invalid distribution -rotobuf (/opt/conda/lib/python3.10/site-packages)\u001b[0m\u001b[33m\n",
      "\u001b[0m"
     ]
    }
   ],
   "source": [
    "!pip install spacy-cleaner -q"
   ]
  },
  {
   "cell_type": "code",
   "execution_count": 28,
   "id": "9bbca63d-e916-43c1-9bdb-384369233d8b",
   "metadata": {},
   "outputs": [
    {
     "name": "stdout",
     "output_type": "stream",
     "text": [
      "\u001b[33mWARNING: Ignoring invalid distribution -roto-plus (/opt/conda/lib/python3.10/site-packages)\u001b[0m\u001b[33m\n",
      "\u001b[0m\u001b[33mWARNING: Ignoring invalid distribution -rotobuf (/opt/conda/lib/python3.10/site-packages)\u001b[0m\u001b[33m\n",
      "\u001b[0m\u001b[33mWARNING: Ignoring invalid distribution -roto-plus (/opt/conda/lib/python3.10/site-packages)\u001b[0m\u001b[33m\n",
      "\u001b[0m\u001b[33mWARNING: Ignoring invalid distribution -rotobuf (/opt/conda/lib/python3.10/site-packages)\u001b[0m\u001b[33m\n",
      "\u001b[0m\u001b[38;5;2m✔ Download and installation successful\u001b[0m\n",
      "You can now load the package via spacy.load('en_core_web_sm')\n"
     ]
    }
   ],
   "source": [
    "!python -m spacy download en_core_web_sm -q"
   ]
  },
  {
   "cell_type": "code",
   "execution_count": 29,
   "id": "8c6cb3b1-abad-4dc4-acba-2ef6a7e6c59d",
   "metadata": {},
   "outputs": [
    {
     "name": "stdout",
     "output_type": "stream",
     "text": [
      "\u001b[2K\u001b[38;5;2m✔ Loaded compatibility table\u001b[0m\n",
      "\u001b[1m\n",
      "================= Installed pipeline packages (spaCy v3.7.2) =================\u001b[0m\n",
      "\u001b[38;5;4mℹ spaCy installation: /opt/conda/lib/python3.10/site-packages/spacy\u001b[0m\n",
      "\n",
      "NAME             SPACY            VERSION                            \n",
      "en_core_web_sm   >=3.7.2,<3.8.0   \u001b[38;5;2m3.7.1\u001b[0m   \u001b[38;5;2m✔\u001b[0m\n",
      "\n"
     ]
    }
   ],
   "source": [
    "!python -m spacy validate"
   ]
  },
  {
   "cell_type": "code",
   "execution_count": 10,
   "id": "48f56bd0-1817-4989-8eb8-44c9b10001ba",
   "metadata": {
    "tags": []
   },
   "outputs": [],
   "source": [
    "### Import libraries\n",
    "from sklearn.feature_extraction.text import HashingVectorizer\n",
    "from vertexai.preview.language_models import TextEmbeddingModel\n",
    "from vertexai.preview.language_models import TextGenerationModel\n",
    "import numpy as np\n",
    "from sklearn.linear_model import LogisticRegression\n",
    "from sklearn.naive_bayes import MultinomialNB\n",
    "from sklearn.linear_model import SGDClassifier\n",
    "import random\n",
    "import joblib\n",
    "from tqdm.notebook import tqdm\n",
    "tqdm.pandas()"
   ]
  },
  {
   "cell_type": "markdown",
   "id": "b3a2cd47-c184-43d8-a9f1-34f3059c432a",
   "metadata": {},
   "source": [
    "### Define Global Parameters"
   ]
  },
  {
   "cell_type": "code",
   "execution_count": 31,
   "id": "1ef33195-bb9b-4422-b51e-29977be4f359",
   "metadata": {},
   "outputs": [],
   "source": [
    "CATEGORY_COL=\"c0_name\""
   ]
  },
  {
   "cell_type": "markdown",
   "id": "ae67b8e0-0f1d-4971-b8b4-cbd1f380e893",
   "metadata": {},
   "source": [
    "## Data Preparation"
   ]
  },
  {
   "cell_type": "markdown",
   "id": "79d7432f-8460-44e0-8c8e-560bd8806f68",
   "metadata": {},
   "source": [
    "### Download Mercari Data from BigQuery"
   ]
  },
  {
   "cell_type": "markdown",
   "id": "261b8b68-1a67-4eb6-8781-3f87f38112fc",
   "metadata": {},
   "source": [
    "The Mercari data is not public. This notebook can only be currently run in the project shown. "
   ]
  },
  {
   "cell_type": "code",
   "execution_count": 2,
   "id": "5893604b-9ebb-4a07-ba2d-30c5b49abb20",
   "metadata": {
    "tags": []
   },
   "outputs": [
    {
     "data": {
      "application/vnd.jupyter.widget-view+json": {
       "model_id": "887d8ee08b524c028fdeae0036d57057",
       "version_major": 2,
       "version_minor": 0
      },
      "text/plain": [
       "Query is running:   0%|          |"
      ]
     },
     "metadata": {},
     "output_type": "display_data"
    },
    {
     "data": {
      "application/vnd.jupyter.widget-view+json": {
       "model_id": "b845f2d41c6d4d0295a88f2019530580",
       "version_major": 2,
       "version_minor": 0
      },
      "text/plain": [
       "Downloading:   0%|          |"
      ]
     },
     "metadata": {},
     "output_type": "display_data"
    }
   ],
   "source": [
    "%%bigquery df_test\n",
    "\n",
    "SELECT *, CONCAT('Name: \\n ', name, ' \\n ', \n",
    "                 \"Description: \\n \", description, ' \\n ',\n",
    "                 \"Labels: \\n \", TO_JSON_STRING(vision_api_labels)\n",
    "                ) as attr FROM solutions-2023-mar-107.mercari.13K_synthetic_attributes_embeddings_golden_test  \n",
    "WHERE rand() < 1.0"
   ]
  },
  {
   "cell_type": "code",
   "execution_count": 3,
   "id": "4cdcee5d-b7b8-40c4-a348-6081e81d5651",
   "metadata": {},
   "outputs": [
    {
     "data": {
      "application/vnd.jupyter.widget-view+json": {
       "model_id": "b3cb88ded4f34426aecfb57989e9ceda",
       "version_major": 2,
       "version_minor": 0
      },
      "text/plain": [
       "Query is running:   0%|          |"
      ]
     },
     "metadata": {},
     "output_type": "display_data"
    },
    {
     "data": {
      "application/vnd.jupyter.widget-view+json": {
       "model_id": "ae1ab98d977a4a95bde06e855e6dc12c",
       "version_major": 2,
       "version_minor": 0
      },
      "text/plain": [
       "Downloading:   0%|          |"
      ]
     },
     "metadata": {},
     "output_type": "display_data"
    }
   ],
   "source": [
    "%%bigquery df_train\n",
    "SELECT *, CONCAT('Name: \\n ', name, ' \\n ', \n",
    "                 \"Description: \\n \", description, ' \\n ',\n",
    "                 \"Labels: \\n \", TO_JSON_STRING(vision_api_labels)\n",
    "                ) as attr \n",
    "FROM solutions-2023-mar-107.mercari.13K_synthetic_attributes_embeddings \n",
    "WHERE name NOT IN (\n",
    "    SELECT name FROM solutions-2023-mar-107.mercari.13K_synthetic_attributes_embeddings_golden_test\n",
    ")\n",
    "AND rand() < 1.0"
   ]
  },
  {
   "cell_type": "code",
   "execution_count": 6,
   "id": "d8b8d4e3-5707-42eb-878e-af391189086a",
   "metadata": {},
   "outputs": [
    {
     "data": {
      "text/html": [
       "<div>\n",
       "<style scoped>\n",
       "    .dataframe tbody tr th:only-of-type {\n",
       "        vertical-align: middle;\n",
       "    }\n",
       "\n",
       "    .dataframe tbody tr th {\n",
       "        vertical-align: top;\n",
       "    }\n",
       "\n",
       "    .dataframe thead th {\n",
       "        text-align: right;\n",
       "    }\n",
       "</style>\n",
       "<table border=\"1\" class=\"dataframe\">\n",
       "  <thead>\n",
       "    <tr style=\"text-align: right;\">\n",
       "      <th></th>\n",
       "      <th>id</th>\n",
       "      <th>name</th>\n",
       "      <th>description</th>\n",
       "      <th>brand_name</th>\n",
       "      <th>item_condition_name</th>\n",
       "      <th>c0_name</th>\n",
       "      <th>c1_name</th>\n",
       "      <th>c2_name</th>\n",
       "      <th>url</th>\n",
       "      <th>created</th>\n",
       "      <th>image_uri</th>\n",
       "      <th>vision_api_labels</th>\n",
       "      <th>attributes</th>\n",
       "      <th>scores</th>\n",
       "      <th>text_embedding</th>\n",
       "      <th>image_embedding</th>\n",
       "      <th>attr</th>\n",
       "    </tr>\n",
       "  </thead>\n",
       "  <tbody>\n",
       "    <tr>\n",
       "      <th>0</th>\n",
       "      <td>m60221283928</td>\n",
       "      <td>Rae Dunn So Sweet Snowglobe</td>\n",
       "      <td>Rae Dunn 2 birds with a white birdhouse heart ...</td>\n",
       "      <td>Rae Dunn</td>\n",
       "      <td>New</td>\n",
       "      <td>Home</td>\n",
       "      <td>Home decor</td>\n",
       "      <td>Home decor accents</td>\n",
       "      <td>https://www.mercari.com/us/item/m60221283928</td>\n",
       "      <td>2023-03-05 18:14:25+00:00</td>\n",
       "      <td>gs://genai-product-catalog/mercari_images_13K/...</td>\n",
       "      <td>{\"label_annotations\":[{\"description\":\"Drinkwar...</td>\n",
       "      <td>[Drinkware, Wood, Font, Table, Crown, Servewar...</td>\n",
       "      <td>[0.81246752, 0.75604391, 0.75142217, 0.7148835...</td>\n",
       "      <td>[0.0220884383, -0.0347933248, -0.00396528747, ...</td>\n",
       "      <td>[0.0160564333, -0.0159334242, -0.020018056, -0...</td>\n",
       "      <td>Name: \\n Rae Dunn So Sweet Snowglobe \\n Descri...</td>\n",
       "    </tr>\n",
       "    <tr>\n",
       "      <th>1</th>\n",
       "      <td>m23006575222</td>\n",
       "      <td>Lazart - Elk, Bear, Buck - 36\" Metal Decorativ...</td>\n",
       "      <td>Lazart\\nMade in Gainesville, Texas\\n\\n36\" Deco...</td>\n",
       "      <td>None</td>\n",
       "      <td>New</td>\n",
       "      <td>Home</td>\n",
       "      <td>Home decor</td>\n",
       "      <td>Home decor accents</td>\n",
       "      <td>https://www.mercari.com/us/item/m23006575222</td>\n",
       "      <td>2023-02-05 14:40:57+00:00</td>\n",
       "      <td>gs://genai-product-catalog/mercari_images_13K/...</td>\n",
       "      <td>{\"label_annotations\":[{\"description\":\"Rectangl...</td>\n",
       "      <td>[Rectangle, Gesture, Art, Font, Natural materi...</td>\n",
       "      <td>[0.86215866, 0.85014093, 0.83846128, 0.7386470...</td>\n",
       "      <td>[-0.0473593324, -0.0428869165, -0.0119342841, ...</td>\n",
       "      <td>[0.00635956787, 0.0201334748, -0.0440138876, -...</td>\n",
       "      <td>Name: \\n Lazart - Elk, Bear, Buck - 36\" Metal ...</td>\n",
       "    </tr>\n",
       "    <tr>\n",
       "      <th>2</th>\n",
       "      <td>m10973355710</td>\n",
       "      <td>Kids gloves</td>\n",
       "      <td>Winter gloves (not waterproof) never worn- wer...</td>\n",
       "      <td>Children's Place</td>\n",
       "      <td>New</td>\n",
       "      <td>Sports &amp; outdoors</td>\n",
       "      <td>Apparel</td>\n",
       "      <td>Boys</td>\n",
       "      <td>https://www.mercari.com/us/item/m10973355710</td>\n",
       "      <td>2023-02-07 03:26:42+00:00</td>\n",
       "      <td>gs://genai-product-catalog/mercari_images_13K/...</td>\n",
       "      <td>{\"label_annotations\":[{\"description\":\"Hand\",\"m...</td>\n",
       "      <td>[Hand, Green, Gesture, Finger, Material proper...</td>\n",
       "      <td>[0.95952165, 0.89952242, 0.85260427, 0.8305912...</td>\n",
       "      <td>[-0.0141191799, -0.00774308294, -0.0104338424,...</td>\n",
       "      <td>[0.00855759811, 0.00632876763, -0.0186565928, ...</td>\n",
       "      <td>Name: \\n Kids gloves \\n Description: \\n Winter...</td>\n",
       "    </tr>\n",
       "    <tr>\n",
       "      <th>3</th>\n",
       "      <td>m58932165593</td>\n",
       "      <td>Tigers Eye Stone Guitar Pick 3mm 905</td>\n",
       "      <td>Please note: does not come with small clear di...</td>\n",
       "      <td>Handmade</td>\n",
       "      <td>New</td>\n",
       "      <td>Handmade</td>\n",
       "      <td>Music</td>\n",
       "      <td>Other</td>\n",
       "      <td>https://www.mercari.com/us/item/m58932165593</td>\n",
       "      <td>2023-03-07 19:57:26+00:00</td>\n",
       "      <td>gs://genai-product-catalog/mercari_images_13K/...</td>\n",
       "      <td>{\"label_annotations\":[{\"description\":\"Drinkwar...</td>\n",
       "      <td>[Drinkware, Artifact, Wood, Vase, Art, Tints a...</td>\n",
       "      <td>[0.91066086, 0.82712269, 0.81000954, 0.7914801...</td>\n",
       "      <td>[-0.00973090157, 0.000623123778, 0.0210940894,...</td>\n",
       "      <td>[0.0167370159, 0.0705789328, 0.00185096264, 0....</td>\n",
       "      <td>Name: \\n Tigers Eye Stone Guitar Pick 3mm 905 ...</td>\n",
       "    </tr>\n",
       "    <tr>\n",
       "      <th>4</th>\n",
       "      <td>m55977728915</td>\n",
       "      <td>Robyn Brooks Stingray Bracelet Pink Gold Plate...</td>\n",
       "      <td>Robyn Brooks Stingray Bracelet \\nColors: Pink,...</td>\n",
       "      <td>None</td>\n",
       "      <td>Good</td>\n",
       "      <td>Women</td>\n",
       "      <td>Jewelry</td>\n",
       "      <td>Bracelets</td>\n",
       "      <td>https://www.mercari.com/us/item/m55977728915</td>\n",
       "      <td>2023-04-02 03:45:24+00:00</td>\n",
       "      <td>gs://genai-product-catalog/mercari_images_13K/...</td>\n",
       "      <td>{\"label_annotations\":[{\"description\":\"Body jew...</td>\n",
       "      <td>[Body jewelry, Amber, Natural material, Materi...</td>\n",
       "      <td>[0.91135097, 0.85079229, 0.84506172, 0.8010526...</td>\n",
       "      <td>[-0.0367169827, -0.00913381111, 0.0485672466, ...</td>\n",
       "      <td>[-0.0193907265, 0.0517394468, 0.0349789225, -0...</td>\n",
       "      <td>Name: \\n Robyn Brooks Stingray Bracelet Pink G...</td>\n",
       "    </tr>\n",
       "  </tbody>\n",
       "</table>\n",
       "</div>"
      ],
      "text/plain": [
       "             id                                               name  \\\n",
       "0  m60221283928                        Rae Dunn So Sweet Snowglobe   \n",
       "1  m23006575222  Lazart - Elk, Bear, Buck - 36\" Metal Decorativ...   \n",
       "2  m10973355710                                        Kids gloves   \n",
       "3  m58932165593               Tigers Eye Stone Guitar Pick 3mm 905   \n",
       "4  m55977728915  Robyn Brooks Stingray Bracelet Pink Gold Plate...   \n",
       "\n",
       "                                         description        brand_name  \\\n",
       "0  Rae Dunn 2 birds with a white birdhouse heart ...          Rae Dunn   \n",
       "1  Lazart\\nMade in Gainesville, Texas\\n\\n36\" Deco...              None   \n",
       "2  Winter gloves (not waterproof) never worn- wer...  Children's Place   \n",
       "3  Please note: does not come with small clear di...          Handmade   \n",
       "4  Robyn Brooks Stingray Bracelet \\nColors: Pink,...              None   \n",
       "\n",
       "  item_condition_name            c0_name     c1_name             c2_name  \\\n",
       "0                 New               Home  Home decor  Home decor accents   \n",
       "1                 New               Home  Home decor  Home decor accents   \n",
       "2                 New  Sports & outdoors     Apparel                Boys   \n",
       "3                 New           Handmade       Music               Other   \n",
       "4                Good              Women     Jewelry           Bracelets   \n",
       "\n",
       "                                            url                   created  \\\n",
       "0  https://www.mercari.com/us/item/m60221283928 2023-03-05 18:14:25+00:00   \n",
       "1  https://www.mercari.com/us/item/m23006575222 2023-02-05 14:40:57+00:00   \n",
       "2  https://www.mercari.com/us/item/m10973355710 2023-02-07 03:26:42+00:00   \n",
       "3  https://www.mercari.com/us/item/m58932165593 2023-03-07 19:57:26+00:00   \n",
       "4  https://www.mercari.com/us/item/m55977728915 2023-04-02 03:45:24+00:00   \n",
       "\n",
       "                                           image_uri  \\\n",
       "0  gs://genai-product-catalog/mercari_images_13K/...   \n",
       "1  gs://genai-product-catalog/mercari_images_13K/...   \n",
       "2  gs://genai-product-catalog/mercari_images_13K/...   \n",
       "3  gs://genai-product-catalog/mercari_images_13K/...   \n",
       "4  gs://genai-product-catalog/mercari_images_13K/...   \n",
       "\n",
       "                                   vision_api_labels  \\\n",
       "0  {\"label_annotations\":[{\"description\":\"Drinkwar...   \n",
       "1  {\"label_annotations\":[{\"description\":\"Rectangl...   \n",
       "2  {\"label_annotations\":[{\"description\":\"Hand\",\"m...   \n",
       "3  {\"label_annotations\":[{\"description\":\"Drinkwar...   \n",
       "4  {\"label_annotations\":[{\"description\":\"Body jew...   \n",
       "\n",
       "                                          attributes  \\\n",
       "0  [Drinkware, Wood, Font, Table, Crown, Servewar...   \n",
       "1  [Rectangle, Gesture, Art, Font, Natural materi...   \n",
       "2  [Hand, Green, Gesture, Finger, Material proper...   \n",
       "3  [Drinkware, Artifact, Wood, Vase, Art, Tints a...   \n",
       "4  [Body jewelry, Amber, Natural material, Materi...   \n",
       "\n",
       "                                              scores  \\\n",
       "0  [0.81246752, 0.75604391, 0.75142217, 0.7148835...   \n",
       "1  [0.86215866, 0.85014093, 0.83846128, 0.7386470...   \n",
       "2  [0.95952165, 0.89952242, 0.85260427, 0.8305912...   \n",
       "3  [0.91066086, 0.82712269, 0.81000954, 0.7914801...   \n",
       "4  [0.91135097, 0.85079229, 0.84506172, 0.8010526...   \n",
       "\n",
       "                                      text_embedding  \\\n",
       "0  [0.0220884383, -0.0347933248, -0.00396528747, ...   \n",
       "1  [-0.0473593324, -0.0428869165, -0.0119342841, ...   \n",
       "2  [-0.0141191799, -0.00774308294, -0.0104338424,...   \n",
       "3  [-0.00973090157, 0.000623123778, 0.0210940894,...   \n",
       "4  [-0.0367169827, -0.00913381111, 0.0485672466, ...   \n",
       "\n",
       "                                     image_embedding  \\\n",
       "0  [0.0160564333, -0.0159334242, -0.020018056, -0...   \n",
       "1  [0.00635956787, 0.0201334748, -0.0440138876, -...   \n",
       "2  [0.00855759811, 0.00632876763, -0.0186565928, ...   \n",
       "3  [0.0167370159, 0.0705789328, 0.00185096264, 0....   \n",
       "4  [-0.0193907265, 0.0517394468, 0.0349789225, -0...   \n",
       "\n",
       "                                                attr  \n",
       "0  Name: \\n Rae Dunn So Sweet Snowglobe \\n Descri...  \n",
       "1  Name: \\n Lazart - Elk, Bear, Buck - 36\" Metal ...  \n",
       "2  Name: \\n Kids gloves \\n Description: \\n Winter...  \n",
       "3  Name: \\n Tigers Eye Stone Guitar Pick 3mm 905 ...  \n",
       "4  Name: \\n Robyn Brooks Stingray Bracelet Pink G...  "
      ]
     },
     "execution_count": 6,
     "metadata": {},
     "output_type": "execute_result"
    }
   ],
   "source": [
    "df_train.head()"
   ]
  },
  {
   "cell_type": "code",
   "execution_count": 5,
   "id": "c448db97-b78c-446b-94b7-61b49e4fffe4",
   "metadata": {},
   "outputs": [
    {
     "name": "stdout",
     "output_type": "stream",
     "text": [
      "Training Data size: 13266\n",
      "Testing Data size: 141\n"
     ]
    }
   ],
   "source": [
    "print(\"Training Data size: \" + str(len(df_train)))\n",
    "print(\"Testing Data size: \" + str(len(df_test)))"
   ]
  },
  {
   "cell_type": "code",
   "execution_count": 36,
   "id": "4f0e2b7f-fb8d-485e-9e66-d99cced5ccba",
   "metadata": {},
   "outputs": [
    {
     "data": {
      "application/vnd.jupyter.widget-view+json": {
       "model_id": "2f4955f619e34f2e9830f5c4d7fd10b7",
       "version_major": 2,
       "version_minor": 0
      },
      "text/plain": [
       "Query is running:   0%|          |"
      ]
     },
     "metadata": {},
     "output_type": "display_data"
    },
    {
     "data": {
      "application/vnd.jupyter.widget-view+json": {
       "model_id": "fd81a3f700284284a3d733d8a2674f5e",
       "version_major": 2,
       "version_minor": 0
      },
      "text/plain": [
       "Downloading:   0%|          |"
      ]
     },
     "metadata": {},
     "output_type": "display_data"
    }
   ],
   "source": [
    "%%bigquery category_df\n",
    "select distinct(c0_name) from `solutions-2023-mar-107.mercari.13K_synthetic_attributes_embeddings`"
   ]
  },
  {
   "cell_type": "code",
   "execution_count": 37,
   "id": "688816ed-d776-4fb9-9ea0-f5bf1a454bba",
   "metadata": {},
   "outputs": [
    {
     "data": {
      "text/html": [
       "<div>\n",
       "<style scoped>\n",
       "    .dataframe tbody tr th:only-of-type {\n",
       "        vertical-align: middle;\n",
       "    }\n",
       "\n",
       "    .dataframe tbody tr th {\n",
       "        vertical-align: top;\n",
       "    }\n",
       "\n",
       "    .dataframe thead th {\n",
       "        text-align: right;\n",
       "    }\n",
       "</style>\n",
       "<table border=\"1\" class=\"dataframe\">\n",
       "  <thead>\n",
       "    <tr style=\"text-align: right;\">\n",
       "      <th></th>\n",
       "      <th>c0_name</th>\n",
       "    </tr>\n",
       "  </thead>\n",
       "  <tbody>\n",
       "    <tr>\n",
       "      <th>0</th>\n",
       "      <td>Home</td>\n",
       "    </tr>\n",
       "    <tr>\n",
       "      <th>1</th>\n",
       "      <td>Books</td>\n",
       "    </tr>\n",
       "    <tr>\n",
       "      <th>2</th>\n",
       "      <td>Toys &amp; Collectibles</td>\n",
       "    </tr>\n",
       "    <tr>\n",
       "      <th>3</th>\n",
       "      <td>Men</td>\n",
       "    </tr>\n",
       "    <tr>\n",
       "      <th>4</th>\n",
       "      <td>Women</td>\n",
       "    </tr>\n",
       "  </tbody>\n",
       "</table>\n",
       "</div>"
      ],
      "text/plain": [
       "               c0_name\n",
       "0                 Home\n",
       "1                Books\n",
       "2  Toys & Collectibles\n",
       "3                  Men\n",
       "4                Women"
      ]
     },
     "execution_count": 37,
     "metadata": {},
     "output_type": "execute_result"
    }
   ],
   "source": [
    "category_df.head()"
   ]
  },
  {
   "cell_type": "code",
   "execution_count": 38,
   "id": "6c4d2b87-d6d6-44aa-8341-6cae9b852f6a",
   "metadata": {},
   "outputs": [],
   "source": [
    "# create dictionary of categories with label id\n",
    "\n",
    "categories = {}\n",
    "category_id = 0\n",
    "for index, row in category_df.iterrows():\n",
    "    categories[row[CATEGORY_COL]] = index\n",
    "        \n",
    "ncategories = len(categories)"
   ]
  },
  {
   "cell_type": "markdown",
   "id": "a5435f2a-9168-4912-9acd-6a1c787a6d95",
   "metadata": {},
   "source": [
    "### NLP clean-up code"
   ]
  },
  {
   "cell_type": "code",
   "execution_count": 40,
   "id": "8238f785-78d2-4c29-bf18-70b0672ecfaa",
   "metadata": {},
   "outputs": [
    {
     "name": "stdout",
     "output_type": "stream",
     "text": [
      "2459\n",
      "solemio sleeveless solid man reversible sweatshirt price rs fitz blue sweat shirt wardrobe ensemble trendy embroidery chest zipped closure mark ribbed waistband cuff pouch pocket classic color scheme allow wear wide range separate relaxed fit free body movement brand red style statement design casual leisure team denim sneaker look uber cool material polyester cotton wash care bleach tumble dry use gentle machine warm iron company flagship sportswear active indian soul international outlook evolved sport activity gear dedicate enthusiast poise economic force come young people aware trend reflect spirited celebrity conscious sensibility decade disclaimer product slightly vary photographic lighting source monitor setting size kindly chart clarity\n",
      "754\n"
     ]
    }
   ],
   "source": [
    "import spacy\n",
    "import spacy_cleaner\n",
    "from spacy_cleaner.processing import removers, replacers, mutators\n",
    "\n",
    "MODEL = spacy.load(\"en_core_web_sm\")\n",
    "\n",
    "PROC_PIPELINE = spacy_cleaner.Cleaner(\n",
    "    MODEL,\n",
    "    replacers.replace_punctuation_token,\n",
    "    mutators.mutate_lemma_token,\n",
    "    removers.remove_stopword_token,\n",
    "\n",
    ")\n",
    "def parse_nlp(description) -> str:\n",
    "    doc = MODEL(description.lower())\n",
    "    lemmas = []\n",
    "    for token in doc:\n",
    "        if token.lemma_ not in lemmas and not token.is_stop and token.is_alpha:\n",
    "            lemmas.append(token.lemma_)\n",
    "\n",
    "    return \" \".join(lemmas)\n",
    "\n",
    "DESCRIPTION = \"Solemio Sleeveless Solid Men's Reversible Sweatshirt Price: Rs. 1,261 Fitz Blue Sweat Shirt is a must-have for any wardrobe. Ensemble with trendy embroidery on the chest and full zipped closure down front. It is marked with ribbed waistband, cuffs and two pouch pockets on the front. Classic color scheme allows you to wear this over a wide range of separates. Relaxed fit for free body movement. Brand: Fitz Color: Red Style Statement: Designed to be worn as casual as well as leisure wear. Team it with a denims and sneakers to look uber cool. Material: Polyester Cotton Wash Care: Do not bleach and tumble dry. Use gentle machine wash and gentle warm Iron. About the brand: FITZ is the company’s flagship sportswear and active wear brand with an Indian soul and international outlook. It is an evolved range of sports and activity gears dedicated to sports enthusiasts. The brand is poised to become an economic force when it comes to young people who are aware of style trends, sportswear designs reflected the spirited, celebrity-conscious sensibilities of the decade. Disclaimer: Product color may slightly vary due to photographic lighting sources or your monitor settings. Size varies from brand to brand. Kindly go through the size chart for more clarity. Fitz Blue Sweat Shirt is a must-have for any wardrobe. Ensemble with trendy embroidery on the chest and full zipped closure down front. It is marked with ribbed waistband, cuffs and two pouch pockets on the front. Classic color scheme allows you to wear this over a wide range of separates. Relaxed fit for free body movement. Brand: Fitz Color: Red Style Statement: Designed to be worn as casual as well as leisure wear. Team it with a denims and sneakers to look uber cool. Material: Polyester Cotton Wash Care: Do not bleach and tumble dry. Use gentle machine wash and gentle warm Iron. About the brand: FITZ is the company’s flagship sportswear and active wear brand with an Indian soul and international outlook. It is an evolved range of sports and activity gears dedicated to sports enthusiasts. The brand is poised to become an economic force when it comes to young people who are aware of style trends, sportswear designs reflected the spirited, celebrity-conscious sensibilities of the decade. Disclaimer: Product color may slightly vary due to photographic lighting sources or your monitor settings. Size varies from brand to brand. Kindly go through the size chart for more clarity.\"\n",
    "print(len(DESCRIPTION))\n",
    "\n",
    "print(parse_nlp(DESCRIPTION))\n",
    "print(len(parse_nlp(DESCRIPTION)))"
   ]
  },
  {
   "cell_type": "markdown",
   "id": "28737e38-4e52-4807-8f8b-173fd85e6004",
   "metadata": {},
   "source": [
    "### Build Data Format for Kesler's Construction"
   ]
  },
  {
   "cell_type": "code",
   "execution_count": null,
   "id": "80975cc7-f5c3-4b45-a497-bcc96a9f3e56",
   "metadata": {
    "tags": []
   },
   "outputs": [],
   "source": [
    "model = TextEmbeddingModel.from_pretrained(\"textembedding-gecko\")\n",
    "\n",
    "nfeatures=768\n",
    "\n",
    "# Convert data to Kesler's Construction\n",
    "def convert_to_vector(description, category_i):\n",
    "    x_vector = model.get_embeddings([description])[0].values\n",
    "    y_position = category_i\n",
    "    xy_vector = [0]*(y_position)*nfeatures + x_vector + [0]*(ncategories-(y_position+1))*nfeatures\n",
    "    if len(xy_vector) != nfeatures*ncategories:\n",
    "        print(\"Error processing one vector: \")\n",
    "        print(len(xy_vector))\n",
    "        print(len(x_vector))\n",
    "        return None\n",
    "    return (xy_vector)\n",
    "\n",
    "X_train = []\n",
    "y_train = []\n",
    "\n",
    "count = 0\n",
    "\n",
    "for index, row in df_train.iterrows():\n",
    "    \n",
    "    count+=1\n",
    "    if count%1000==0:\n",
    "        print (\"iter \" + str(count))\n",
    "    \n",
    "    # add positive example\n",
    "    category=categories[row[CATEGORY_COL]]\n",
    "    new_row = convert_to_vector(parse_nlp(row[\"description\"]),category)\n",
    "    if new_row is not None:\n",
    "        X_train.append(new_row)\n",
    "        y_train.append(1)\n",
    "                        \n",
    "    # add negative example\n",
    "    random_number=category                                                    \n",
    "    while random_number == category:\n",
    "        random_number = random.randint(0, ncategories-1)                                              \n",
    "    new_row = convert_to_vector(row[\"description\"],random_number)\n",
    "    if new_row is not None:\n",
    "        X_train.append(new_row)\n",
    "        y_train.append(0)\n",
    "    \n",
    "    # add another negative example\n",
    "    random_number=category                                                    \n",
    "    while random_number == category:\n",
    "        random_number = random.randint(0, ncategories-1)                                              \n",
    "    new_row = convert_to_vector(row[\"description\"],random_number)\n",
    "    if new_row is not None:\n",
    "        X_train.append(new_row)\n",
    "        y_train.append(0)\n"
   ]
  },
  {
   "cell_type": "markdown",
   "id": "4ad0ce12-0d54-4ad7-8e1f-ed7d8717d4df",
   "metadata": {},
   "source": [
    "## Model Development"
   ]
  },
  {
   "cell_type": "markdown",
   "id": "e4b37d6c-e483-4ca7-b814-2e445944d571",
   "metadata": {},
   "source": [
    "### Train Model"
   ]
  },
  {
   "cell_type": "code",
   "execution_count": 223,
   "id": "729344b0-714b-4f71-b078-12fcbc46073e",
   "metadata": {},
   "outputs": [],
   "source": [
    "#clf = MultinomialNB()\n",
    "clf = LogisticRegression(max_iter=100000)\n",
    "#clf = SGDClassifier(loss=\"log_loss\", penalty=\"l2\", alpha=0.0001, max_iter=3000, tol=None, shuffle=True, verbose=0, learning_rate='adaptive', eta0=0.01, early_stopping=False)"
   ]
  },
  {
   "cell_type": "code",
   "execution_count": 224,
   "id": "05a25443-f491-4949-a064-070a99de1a4c",
   "metadata": {},
   "outputs": [
    {
     "data": {
      "text/html": [
       "<style>#sk-container-id-12 {color: black;}#sk-container-id-12 pre{padding: 0;}#sk-container-id-12 div.sk-toggleable {background-color: white;}#sk-container-id-12 label.sk-toggleable__label {cursor: pointer;display: block;width: 100%;margin-bottom: 0;padding: 0.3em;box-sizing: border-box;text-align: center;}#sk-container-id-12 label.sk-toggleable__label-arrow:before {content: \"▸\";float: left;margin-right: 0.25em;color: #696969;}#sk-container-id-12 label.sk-toggleable__label-arrow:hover:before {color: black;}#sk-container-id-12 div.sk-estimator:hover label.sk-toggleable__label-arrow:before {color: black;}#sk-container-id-12 div.sk-toggleable__content {max-height: 0;max-width: 0;overflow: hidden;text-align: left;background-color: #f0f8ff;}#sk-container-id-12 div.sk-toggleable__content pre {margin: 0.2em;color: black;border-radius: 0.25em;background-color: #f0f8ff;}#sk-container-id-12 input.sk-toggleable__control:checked~div.sk-toggleable__content {max-height: 200px;max-width: 100%;overflow: auto;}#sk-container-id-12 input.sk-toggleable__control:checked~label.sk-toggleable__label-arrow:before {content: \"▾\";}#sk-container-id-12 div.sk-estimator input.sk-toggleable__control:checked~label.sk-toggleable__label {background-color: #d4ebff;}#sk-container-id-12 div.sk-label input.sk-toggleable__control:checked~label.sk-toggleable__label {background-color: #d4ebff;}#sk-container-id-12 input.sk-hidden--visually {border: 0;clip: rect(1px 1px 1px 1px);clip: rect(1px, 1px, 1px, 1px);height: 1px;margin: -1px;overflow: hidden;padding: 0;position: absolute;width: 1px;}#sk-container-id-12 div.sk-estimator {font-family: monospace;background-color: #f0f8ff;border: 1px dotted black;border-radius: 0.25em;box-sizing: border-box;margin-bottom: 0.5em;}#sk-container-id-12 div.sk-estimator:hover {background-color: #d4ebff;}#sk-container-id-12 div.sk-parallel-item::after {content: \"\";width: 100%;border-bottom: 1px solid gray;flex-grow: 1;}#sk-container-id-12 div.sk-label:hover label.sk-toggleable__label {background-color: #d4ebff;}#sk-container-id-12 div.sk-serial::before {content: \"\";position: absolute;border-left: 1px solid gray;box-sizing: border-box;top: 0;bottom: 0;left: 50%;z-index: 0;}#sk-container-id-12 div.sk-serial {display: flex;flex-direction: column;align-items: center;background-color: white;padding-right: 0.2em;padding-left: 0.2em;position: relative;}#sk-container-id-12 div.sk-item {position: relative;z-index: 1;}#sk-container-id-12 div.sk-parallel {display: flex;align-items: stretch;justify-content: center;background-color: white;position: relative;}#sk-container-id-12 div.sk-item::before, #sk-container-id-12 div.sk-parallel-item::before {content: \"\";position: absolute;border-left: 1px solid gray;box-sizing: border-box;top: 0;bottom: 0;left: 50%;z-index: -1;}#sk-container-id-12 div.sk-parallel-item {display: flex;flex-direction: column;z-index: 1;position: relative;background-color: white;}#sk-container-id-12 div.sk-parallel-item:first-child::after {align-self: flex-end;width: 50%;}#sk-container-id-12 div.sk-parallel-item:last-child::after {align-self: flex-start;width: 50%;}#sk-container-id-12 div.sk-parallel-item:only-child::after {width: 0;}#sk-container-id-12 div.sk-dashed-wrapped {border: 1px dashed gray;margin: 0 0.4em 0.5em 0.4em;box-sizing: border-box;padding-bottom: 0.4em;background-color: white;}#sk-container-id-12 div.sk-label label {font-family: monospace;font-weight: bold;display: inline-block;line-height: 1.2em;}#sk-container-id-12 div.sk-label-container {text-align: center;}#sk-container-id-12 div.sk-container {/* jupyter's `normalize.less` sets `[hidden] { display: none; }` but bootstrap.min.css set `[hidden] { display: none !important; }` so we also need the `!important` here to be able to override the default hidden behavior on the sphinx rendered scikit-learn.org. See: https://github.com/scikit-learn/scikit-learn/issues/21755 */display: inline-block !important;position: relative;}#sk-container-id-12 div.sk-text-repr-fallback {display: none;}</style><div id=\"sk-container-id-12\" class=\"sk-top-container\"><div class=\"sk-text-repr-fallback\"><pre>LogisticRegression(max_iter=100000)</pre><b>In a Jupyter environment, please rerun this cell to show the HTML representation or trust the notebook. <br />On GitHub, the HTML representation is unable to render, please try loading this page with nbviewer.org.</b></div><div class=\"sk-container\" hidden><div class=\"sk-item\"><div class=\"sk-estimator sk-toggleable\"><input class=\"sk-toggleable__control sk-hidden--visually\" id=\"sk-estimator-id-12\" type=\"checkbox\" checked><label for=\"sk-estimator-id-12\" class=\"sk-toggleable__label sk-toggleable__label-arrow\">LogisticRegression</label><div class=\"sk-toggleable__content\"><pre>LogisticRegression(max_iter=100000)</pre></div></div></div></div></div>"
      ],
      "text/plain": [
       "LogisticRegression(max_iter=100000)"
      ]
     },
     "execution_count": 224,
     "metadata": {},
     "output_type": "execute_result"
    }
   ],
   "source": [
    "# If training a new model from scratch:\n",
    "clf.fit(X_train, y_train)\n",
    "\n",
    "# Else, load from previously saved file\n",
    "#model = joblib.load('categorization_kesler.joblib')"
   ]
  },
  {
   "cell_type": "code",
   "execution_count": 225,
   "id": "2cd6a9a4-b63e-498d-9f3e-2acdc6ea9876",
   "metadata": {},
   "outputs": [
    {
     "data": {
      "text/plain": [
       "['categorization_kesler.joblib']"
      ]
     },
     "execution_count": 225,
     "metadata": {},
     "output_type": "execute_result"
    }
   ],
   "source": [
    "# Save the model\n",
    "joblib.dump(clf, 'categorization_kesler.joblib')"
   ]
  },
  {
   "cell_type": "markdown",
   "id": "cdcb08fe-93d1-4ebf-8ffe-5d90d5b0d0c4",
   "metadata": {},
   "source": [
    "### Model Prediction and Evaluation\n",
    "\n",
    "For each test sample we are going to find the category that provides the highest probability from the model. After running through each sample, we are going to run an evaluation of the accuracy."
   ]
  },
  {
   "cell_type": "code",
   "execution_count": 226,
   "id": "f5980318-4503-4046-bf2a-4e3781e8f308",
   "metadata": {},
   "outputs": [
    {
     "data": {
      "application/vnd.jupyter.widget-view+json": {
       "model_id": "48ca3433f79f4f0cbe45f41c532b9fc0",
       "version_major": 2,
       "version_minor": 0
      },
      "text/plain": [
       "  0%|          | 0/141 [00:00<?, ?it/s]"
      ]
     },
     "metadata": {},
     "output_type": "display_data"
    },
    {
     "name": "stdout",
     "output_type": "stream",
     "text": [
      "Accuracy: 0.15602836879432624\n",
      "f1: 0.10885054632275974\n"
     ]
    }
   ],
   "source": [
    "from sklearn.metrics import accuracy_score\n",
    "from sklearn.metrics import f1_score\n",
    "\n",
    "def predict(line):\n",
    "    picked_cat = -1\n",
    "    max_prob = 0\n",
    "    for key in categories:\n",
    "        pred = clf.predict_proba([convert_to_vector(line[\"text_embedding\"], categories[key])])[0][1]\n",
    "        if pred > max_prob:\n",
    "            max_prob = pred\n",
    "            picked_cat = key\n",
    "    return picked_cat\n",
    "\n",
    "#model accuracy\n",
    "df_test[\"predicted_category\"] = df_test.progress_apply(predict, axis=1)\n",
    "\n",
    "y_true = df_test[CATEGORY_COL].tolist()\n",
    "y_pred = df_test[\"predicted_category\"].tolist()\n",
    "\n",
    "print(f\"Accuracy: {accuracy_score(y_true, y_pred)}\")\n",
    "print(f\"f1: {f1_score(y_true, y_pred,average='weighted')}\")"
   ]
  },
  {
   "cell_type": "code",
   "execution_count": 227,
   "id": "1c7d62e2-f2a9-4900-b3bf-ba021dab70d6",
   "metadata": {},
   "outputs": [
    {
     "data": {
      "text/html": [
       "<div>\n",
       "<style scoped>\n",
       "    .dataframe tbody tr th:only-of-type {\n",
       "        vertical-align: middle;\n",
       "    }\n",
       "\n",
       "    .dataframe tbody tr th {\n",
       "        vertical-align: top;\n",
       "    }\n",
       "\n",
       "    .dataframe thead th {\n",
       "        text-align: right;\n",
       "    }\n",
       "</style>\n",
       "<table border=\"1\" class=\"dataframe\">\n",
       "  <thead>\n",
       "    <tr style=\"text-align: right;\">\n",
       "      <th>predicted_category</th>\n",
       "      <th>Toys &amp; Collectibles</th>\n",
       "      <th>Women</th>\n",
       "    </tr>\n",
       "    <tr>\n",
       "      <th>c0_name</th>\n",
       "      <th></th>\n",
       "      <th></th>\n",
       "    </tr>\n",
       "  </thead>\n",
       "  <tbody>\n",
       "    <tr>\n",
       "      <th>Beauty</th>\n",
       "      <td>2</td>\n",
       "      <td>2</td>\n",
       "    </tr>\n",
       "    <tr>\n",
       "      <th>Books</th>\n",
       "      <td>1</td>\n",
       "      <td>0</td>\n",
       "    </tr>\n",
       "    <tr>\n",
       "      <th>Electronics</th>\n",
       "      <td>11</td>\n",
       "      <td>0</td>\n",
       "    </tr>\n",
       "    <tr>\n",
       "      <th>Handmade</th>\n",
       "      <td>0</td>\n",
       "      <td>1</td>\n",
       "    </tr>\n",
       "    <tr>\n",
       "      <th>Home</th>\n",
       "      <td>8</td>\n",
       "      <td>4</td>\n",
       "    </tr>\n",
       "    <tr>\n",
       "      <th>Kids</th>\n",
       "      <td>8</td>\n",
       "      <td>2</td>\n",
       "    </tr>\n",
       "    <tr>\n",
       "      <th>Men</th>\n",
       "      <td>11</td>\n",
       "      <td>3</td>\n",
       "    </tr>\n",
       "    <tr>\n",
       "      <th>Office</th>\n",
       "      <td>1</td>\n",
       "      <td>0</td>\n",
       "    </tr>\n",
       "    <tr>\n",
       "      <th>Other</th>\n",
       "      <td>1</td>\n",
       "      <td>0</td>\n",
       "    </tr>\n",
       "    <tr>\n",
       "      <th>Toys &amp; Collectibles</th>\n",
       "      <td>14</td>\n",
       "      <td>5</td>\n",
       "    </tr>\n",
       "    <tr>\n",
       "      <th>Vintage &amp; collectibles</th>\n",
       "      <td>2</td>\n",
       "      <td>1</td>\n",
       "    </tr>\n",
       "    <tr>\n",
       "      <th>Women</th>\n",
       "      <td>56</td>\n",
       "      <td>8</td>\n",
       "    </tr>\n",
       "  </tbody>\n",
       "</table>\n",
       "</div>"
      ],
      "text/plain": [
       "predicted_category      Toys & Collectibles  Women\n",
       "c0_name                                           \n",
       "Beauty                                    2      2\n",
       "Books                                     1      0\n",
       "Electronics                              11      0\n",
       "Handmade                                  0      1\n",
       "Home                                      8      4\n",
       "Kids                                      8      2\n",
       "Men                                      11      3\n",
       "Office                                    1      0\n",
       "Other                                     1      0\n",
       "Toys & Collectibles                      14      5\n",
       "Vintage & collectibles                    2      1\n",
       "Women                                    56      8"
      ]
     },
     "execution_count": 227,
     "metadata": {},
     "output_type": "execute_result"
    }
   ],
   "source": [
    "import pandas as pd\n",
    "pd.crosstab(df_test[CATEGORY_COL], df_test['predicted_category'])"
   ]
  },
  {
   "cell_type": "markdown",
   "id": "5635cf84-8759-456b-9d6d-438e59b78c50",
   "metadata": {},
   "source": [
    "### Quick Discussion on Kesler's Algorithm\n",
    "\n",
    "Ultimately this algorithm is not learning the category representations well enough. I suspect that by increasing the dimensionality of the embeddings which likely will increase the amount of data needed for training. This dataset of 13K products is not unusual for a retailer but might be too small when dimensions are so large."
   ]
  },
  {
   "cell_type": "markdown",
   "id": "97b0b4ee-76f1-4548-ba8d-40df71bebb9f",
   "metadata": {},
   "source": [
    "## Test Against One-Vs-Rest Algorithm"
   ]
  },
  {
   "cell_type": "code",
   "execution_count": 43,
   "id": "9524ab16-6c91-45db-abb1-2a8e987a36ec",
   "metadata": {},
   "outputs": [],
   "source": [
    "model = TextEmbeddingModel.from_pretrained(\"textembedding-gecko\")\n",
    "from sklearn.feature_extraction.text import HashingVectorizer\n",
    "import random\n",
    "\n",
    "def convert_to_vector(description):\n",
    "    x_vector = model.get_embeddings([description])[0].values\n",
    "    return x_vector\n",
    "\n",
    "\n",
    "X_train = []\n",
    "y_train_ = []\n",
    "\n",
    "\n",
    "for index, row in df_train.iterrows():\n",
    "\n",
    "    new_row = convert_to_vector(row[\"attr\"])\n",
    "    X_train.append(new_row)\n",
    "    y_train_.append(row[\"c1_name\"])"
   ]
  },
  {
   "cell_type": "code",
   "execution_count": 44,
   "id": "eb433a53-ff5d-4b16-b593-76c3f752c8fd",
   "metadata": {},
   "outputs": [
    {
     "data": {
      "text/plain": [
       "13266"
      ]
     },
     "execution_count": 44,
     "metadata": {},
     "output_type": "execute_result"
    }
   ],
   "source": [
    "len(X_train)"
   ]
  },
  {
   "cell_type": "code",
   "execution_count": 45,
   "id": "334bb4cb-eb61-4714-af36-ad8a3e9c230c",
   "metadata": {},
   "outputs": [
    {
     "data": {
      "text/html": [
       "<style>#sk-container-id-4 {color: black;}#sk-container-id-4 pre{padding: 0;}#sk-container-id-4 div.sk-toggleable {background-color: white;}#sk-container-id-4 label.sk-toggleable__label {cursor: pointer;display: block;width: 100%;margin-bottom: 0;padding: 0.3em;box-sizing: border-box;text-align: center;}#sk-container-id-4 label.sk-toggleable__label-arrow:before {content: \"▸\";float: left;margin-right: 0.25em;color: #696969;}#sk-container-id-4 label.sk-toggleable__label-arrow:hover:before {color: black;}#sk-container-id-4 div.sk-estimator:hover label.sk-toggleable__label-arrow:before {color: black;}#sk-container-id-4 div.sk-toggleable__content {max-height: 0;max-width: 0;overflow: hidden;text-align: left;background-color: #f0f8ff;}#sk-container-id-4 div.sk-toggleable__content pre {margin: 0.2em;color: black;border-radius: 0.25em;background-color: #f0f8ff;}#sk-container-id-4 input.sk-toggleable__control:checked~div.sk-toggleable__content {max-height: 200px;max-width: 100%;overflow: auto;}#sk-container-id-4 input.sk-toggleable__control:checked~label.sk-toggleable__label-arrow:before {content: \"▾\";}#sk-container-id-4 div.sk-estimator input.sk-toggleable__control:checked~label.sk-toggleable__label {background-color: #d4ebff;}#sk-container-id-4 div.sk-label input.sk-toggleable__control:checked~label.sk-toggleable__label {background-color: #d4ebff;}#sk-container-id-4 input.sk-hidden--visually {border: 0;clip: rect(1px 1px 1px 1px);clip: rect(1px, 1px, 1px, 1px);height: 1px;margin: -1px;overflow: hidden;padding: 0;position: absolute;width: 1px;}#sk-container-id-4 div.sk-estimator {font-family: monospace;background-color: #f0f8ff;border: 1px dotted black;border-radius: 0.25em;box-sizing: border-box;margin-bottom: 0.5em;}#sk-container-id-4 div.sk-estimator:hover {background-color: #d4ebff;}#sk-container-id-4 div.sk-parallel-item::after {content: \"\";width: 100%;border-bottom: 1px solid gray;flex-grow: 1;}#sk-container-id-4 div.sk-label:hover label.sk-toggleable__label {background-color: #d4ebff;}#sk-container-id-4 div.sk-serial::before {content: \"\";position: absolute;border-left: 1px solid gray;box-sizing: border-box;top: 0;bottom: 0;left: 50%;z-index: 0;}#sk-container-id-4 div.sk-serial {display: flex;flex-direction: column;align-items: center;background-color: white;padding-right: 0.2em;padding-left: 0.2em;position: relative;}#sk-container-id-4 div.sk-item {position: relative;z-index: 1;}#sk-container-id-4 div.sk-parallel {display: flex;align-items: stretch;justify-content: center;background-color: white;position: relative;}#sk-container-id-4 div.sk-item::before, #sk-container-id-4 div.sk-parallel-item::before {content: \"\";position: absolute;border-left: 1px solid gray;box-sizing: border-box;top: 0;bottom: 0;left: 50%;z-index: -1;}#sk-container-id-4 div.sk-parallel-item {display: flex;flex-direction: column;z-index: 1;position: relative;background-color: white;}#sk-container-id-4 div.sk-parallel-item:first-child::after {align-self: flex-end;width: 50%;}#sk-container-id-4 div.sk-parallel-item:last-child::after {align-self: flex-start;width: 50%;}#sk-container-id-4 div.sk-parallel-item:only-child::after {width: 0;}#sk-container-id-4 div.sk-dashed-wrapped {border: 1px dashed gray;margin: 0 0.4em 0.5em 0.4em;box-sizing: border-box;padding-bottom: 0.4em;background-color: white;}#sk-container-id-4 div.sk-label label {font-family: monospace;font-weight: bold;display: inline-block;line-height: 1.2em;}#sk-container-id-4 div.sk-label-container {text-align: center;}#sk-container-id-4 div.sk-container {/* jupyter's `normalize.less` sets `[hidden] { display: none; }` but bootstrap.min.css set `[hidden] { display: none !important; }` so we also need the `!important` here to be able to override the default hidden behavior on the sphinx rendered scikit-learn.org. See: https://github.com/scikit-learn/scikit-learn/issues/21755 */display: inline-block !important;position: relative;}#sk-container-id-4 div.sk-text-repr-fallback {display: none;}</style><div id=\"sk-container-id-4\" class=\"sk-top-container\"><div class=\"sk-text-repr-fallback\"><pre>OneVsRestClassifier(estimator=LogisticRegression())</pre><b>In a Jupyter environment, please rerun this cell to show the HTML representation or trust the notebook. <br />On GitHub, the HTML representation is unable to render, please try loading this page with nbviewer.org.</b></div><div class=\"sk-container\" hidden><div class=\"sk-item sk-dashed-wrapped\"><div class=\"sk-label-container\"><div class=\"sk-label sk-toggleable\"><input class=\"sk-toggleable__control sk-hidden--visually\" id=\"sk-estimator-id-10\" type=\"checkbox\" ><label for=\"sk-estimator-id-10\" class=\"sk-toggleable__label sk-toggleable__label-arrow\">OneVsRestClassifier</label><div class=\"sk-toggleable__content\"><pre>OneVsRestClassifier(estimator=LogisticRegression())</pre></div></div></div><div class=\"sk-parallel\"><div class=\"sk-parallel-item\"><div class=\"sk-item\"><div class=\"sk-label-container\"><div class=\"sk-label sk-toggleable\"><input class=\"sk-toggleable__control sk-hidden--visually\" id=\"sk-estimator-id-11\" type=\"checkbox\" ><label for=\"sk-estimator-id-11\" class=\"sk-toggleable__label sk-toggleable__label-arrow\">estimator: LogisticRegression</label><div class=\"sk-toggleable__content\"><pre>LogisticRegression()</pre></div></div></div><div class=\"sk-serial\"><div class=\"sk-item\"><div class=\"sk-estimator sk-toggleable\"><input class=\"sk-toggleable__control sk-hidden--visually\" id=\"sk-estimator-id-12\" type=\"checkbox\" ><label for=\"sk-estimator-id-12\" class=\"sk-toggleable__label sk-toggleable__label-arrow\">LogisticRegression</label><div class=\"sk-toggleable__content\"><pre>LogisticRegression()</pre></div></div></div></div></div></div></div></div></div></div>"
      ],
      "text/plain": [
       "OneVsRestClassifier(estimator=LogisticRegression())"
      ]
     },
     "execution_count": 45,
     "metadata": {},
     "output_type": "execute_result"
    }
   ],
   "source": [
    "from sklearn.multiclass import OneVsRestClassifier\n",
    "\n",
    "base_lr = LogisticRegression()\n",
    "clf2 = OneVsRestClassifier(base_lr)\n",
    "\n",
    "clf2.fit(X_train, y_train_)"
   ]
  },
  {
   "cell_type": "code",
   "execution_count": 46,
   "id": "be5fbb07-3a23-48fc-83f8-763b893b7e0d",
   "metadata": {},
   "outputs": [
    {
     "name": "stdout",
     "output_type": "stream",
     "text": [
      "<class 'list'>\n",
      "Accuracy: 0.7163120567375887\n",
      "f1: 0.670334236291683\n"
     ]
    }
   ],
   "source": [
    "from sklearn.metrics import accuracy_score\n",
    "from sklearn.metrics import f1_score\n",
    "\n",
    "def predict(line):\n",
    "    pred = clf2.predict([convert_to_vector(line[\"attr\"])])\n",
    "    return pred\n",
    "\n",
    "#model accuracy\n",
    "df_test[\"predicted_category\"] = df_test.apply(predict, axis=1)\n",
    "\n",
    "y_true = df_test[\"c1_name\"].tolist()\n",
    "y_pred = df_test[\"predicted_category\"].tolist()\n",
    "\n",
    "print(type(y_true))\n",
    "\n",
    "print(f\"Accuracy: {accuracy_score(y_true, y_pred)}\")\n",
    "print(f\"f1: {f1_score(y_true, y_pred,average='weighted')}\")"
   ]
  },
  {
   "cell_type": "markdown",
   "id": "02952984-0d0e-477e-979e-06cf43ce3b86",
   "metadata": {},
   "source": [
    "### Discussion"
   ]
  },
  {
   "cell_type": "markdown",
   "id": "ae00f046-1772-4f43-92c1-4e0227cc4efe",
   "metadata": {},
   "source": [
    "The One-Vs-Rest algorithm performs a lot better than the Kesler Construction approach. This might be due to the lower dimensionality requirements. \n",
    "\n",
    "The 0.71 F1 is extermely promising for the c1_name level which has 130 possible categories on that level. "
   ]
  }
 ],
 "metadata": {
  "environment": {
   "kernel": "conda-root-py",
   "name": "workbench-notebooks.m110",
   "type": "gcloud",
   "uri": "gcr.io/deeplearning-platform-release/workbench-notebooks:m110"
  },
  "kernelspec": {
   "display_name": "Python 3",
   "language": "python",
   "name": "conda-root-py"
  },
  "language_info": {
   "codemirror_mode": {
    "name": "ipython",
    "version": 3
   },
   "file_extension": ".py",
   "mimetype": "text/x-python",
   "name": "python",
   "nbconvert_exporter": "python",
   "pygments_lexer": "ipython3",
   "version": "3.10.12"
  }
 },
 "nbformat": 4,
 "nbformat_minor": 5
}
